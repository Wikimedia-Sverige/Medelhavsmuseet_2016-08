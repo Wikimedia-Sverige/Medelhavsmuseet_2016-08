{
 "cells": [
  {
   "cell_type": "code",
   "execution_count": 3,
   "metadata": {
    "collapsed": true
   },
   "outputs": [],
   "source": [
    "import pandas as pd\n",
    "from collections import Counter\n",
    "import os\n",
    "import regex\n",
    "import pickle\n",
    "#import batchupload.helpers as helpers # error when using Python 3.5.2 :: Anaconda custom (x86_64) on MacBook Air\n",
    "\n",
    "mexiko = pickle.load(open(\"./mexiko_df_final.pickle\",\"rb\"))"
   ]
  },
  {
   "cell_type": "code",
   "execution_count": null,
   "metadata": {
    "collapsed": true
   },
   "outputs": [],
   "source": [
    "tot_cnt = 0\n",
    "bad_keywords = [\"pyramid\",\"tempel\",\"Ciudadela\",\"tempelpyramid\", \"tempelpyramider\",\"ruiner\",\"fornlämningar\"]\n",
    "for index, row in mexiko.iterrows():\n",
    "    tot_cnt += 1\n",
    "    if pd.isnull(row[\"Ort, foto\"]): \n",
    "        if pd.isnull(row[\"Motivord\"]):\n",
    "            print(\"Both 'Ort, foto' and 'Motivord' are empty\")\n",
    "        elif row[\"Motivord\"] in bad_keywords:\n",
    "            print(\"'Ort, foto' is empty and 'Motivord' is generic: {}\".format(row[\"Motivord\"]))\n",
    "        else:\n",
    "            pass\n",
    "            \n",
    "    elif pd.notnull(row[\"Ort, foto\"]) and row[\"Motivord\"] in bad_keywords:\n",
    "        print(\"Generic 'Motivord': {} but 'Ort, foto' is: {}\".format(row[\"Motivord\"], row[\"Ort, foto\"]))"
   ]
  },
  {
   "cell_type": "code",
   "execution_count": 4,
   "metadata": {
    "collapsed": false
   },
   "outputs": [
    {
     "data": {
      "text/plain": [
       "Linné, Margareta                                                                              14\n",
       "Linné, Sigvald                                                                                 9\n",
       "Linné, Margareta, Linné, Sigvald                                                               7\n",
       "Linné, Margareta, Linné, Sigvald, Oliva, Joaquin                                               2\n",
       "Linné, Sigvald, Nerby, Erling, Strömsvik, Gustav                                               1\n",
       "Strömsvik, Gustav                                                                              1\n",
       "Linné, Margareta, Oliva, Joaquin                                                               1\n",
       "Blom, Frans, Thomas, Mary S.                                                                   1\n",
       "Mor till fru Perez, Perez (fru), Perez, José, Vaillant, George C., Vaillant, Susannah Beck     1\n",
       "Lingström (ingenjör), Linné, Margareta, Roselius, Arne Thoresson, Roselius, Karin Emilia       1\n",
       "Name: Personnamn / avbildad, dtype: int64"
      ]
     },
     "execution_count": 4,
     "metadata": {},
     "output_type": "execute_result"
    }
   ],
   "source": [
    "mexiko[\"Personnamn / avbildad\"].value_counts()"
   ]
  },
  {
   "cell_type": "code",
   "execution_count": null,
   "metadata": {
    "collapsed": true
   },
   "outputs": [],
   "source": [
    "tot_cnt = 0\n",
    "bad_keywords = [\"pyramid\",\"tempel\",\"Ciudadela\",\"tempelpyramid\", \"tempelpyramider\",\"ruiner\",\"fornlämningar\"]\n",
    "for index, row in mexiko.iterrows():\n",
    "    tot_cnt += 1\n",
    "    if pd.isnull(row[\"Ort, foto\"]): \n",
    "        if pd.isnull(row[\"Motivord\"]):\n",
    "            print(\"Both 'Ort, foto' and 'Motivord' are empty\")\n",
    "        elif row[\"Motivord\"] in bad_keywords:\n",
    "            print(\"'Ort, foto' is empty and 'Motivord' is generic: {}\".format(row[\"Motivord\"]))\n",
    "        else:\n",
    "            pass\n",
    "            \n",
    "    elif pd.notnull(row[\"Ort, foto\"]) and row[\"Motivord\"] in bad_keywords:\n",
    "        print(\"Generic 'Motivord': {} but 'Ort, foto' is: {}\".format(row[\"Motivord\"], row[\"Ort, foto\"]))"
   ]
  },
  {
   "cell_type": "markdown",
   "metadata": {},
   "source": [
    "# Inspect keywords in column \"Motivord\""
   ]
  },
  {
   "cell_type": "code",
   "execution_count": null,
   "metadata": {
    "collapsed": true
   },
   "outputs": [],
   "source": [
    "mexiko.Motivord.value_counts()[:10]"
   ]
  },
  {
   "cell_type": "code",
   "execution_count": 1,
   "metadata": {
    "collapsed": false
   },
   "outputs": [
    {
     "ename": "NameError",
     "evalue": "name 'Counter' is not defined",
     "output_type": "error",
     "traceback": [
      "\u001b[0;31m---------------------------------------------------------------------------\u001b[0m",
      "\u001b[0;31mNameError\u001b[0m                                 Traceback (most recent call last)",
      "\u001b[0;32m<ipython-input-1-56c3f011eb8b>\u001b[0m in \u001b[0;36m<module>\u001b[0;34m()\u001b[0m\n\u001b[0;32m----> 1\u001b[0;31m \u001b[0mmotivord_count\u001b[0m \u001b[0;34m=\u001b[0m \u001b[0mCounter\u001b[0m\u001b[0;34m(\u001b[0m\u001b[0;34m)\u001b[0m\u001b[0;34m\u001b[0m\u001b[0m\n\u001b[0m\u001b[1;32m      2\u001b[0m \u001b[0;34m\u001b[0m\u001b[0m\n\u001b[1;32m      3\u001b[0m \u001b[0;32mfor\u001b[0m \u001b[0mindex\u001b[0m\u001b[0;34m,\u001b[0m \u001b[0mstring\u001b[0m \u001b[0;32min\u001b[0m \u001b[0mmexiko\u001b[0m\u001b[0;34m.\u001b[0m\u001b[0mMotivord\u001b[0m\u001b[0;34m.\u001b[0m\u001b[0miteritems\u001b[0m\u001b[0;34m(\u001b[0m\u001b[0;34m)\u001b[0m\u001b[0;34m:\u001b[0m\u001b[0;34m\u001b[0m\u001b[0m\n\u001b[1;32m      4\u001b[0m     \u001b[0;32mif\u001b[0m \u001b[0mpd\u001b[0m\u001b[0;34m.\u001b[0m\u001b[0mnotnull\u001b[0m\u001b[0;34m(\u001b[0m\u001b[0mstring\u001b[0m\u001b[0;34m)\u001b[0m\u001b[0;34m:\u001b[0m\u001b[0;34m\u001b[0m\u001b[0m\n\u001b[1;32m      5\u001b[0m         \u001b[0mtokens\u001b[0m \u001b[0;34m=\u001b[0m \u001b[0mstring\u001b[0m\u001b[0;34m.\u001b[0m\u001b[0msplit\u001b[0m\u001b[0;34m(\u001b[0m\u001b[0;34m\", \"\u001b[0m\u001b[0;34m)\u001b[0m\u001b[0;34m\u001b[0m\u001b[0m\n",
      "\u001b[0;31mNameError\u001b[0m: name 'Counter' is not defined"
     ]
    }
   ],
   "source": [
    "motivord_count = Counter()\n",
    "\n",
    "for index, string in mexiko.Motivord.iteritems():\n",
    "    if pd.notnull(string):\n",
    "        tokens = string.split(\", \")\n",
    "        tokens = [token.strip() for token in tokens]\n",
    "        for token in tokens:\n",
    "            motivord_count[token] += 1\n",
    "motivord_count.most_common(10)"
   ]
  },
  {
   "cell_type": "markdown",
   "metadata": {},
   "source": [
    "# Inspect that unique filenames gets created"
   ]
  },
  {
   "cell_type": "code",
   "execution_count": 1,
   "metadata": {
    "collapsed": false
   },
   "outputs": [
    {
     "name": "stdout",
     "output_type": "stream",
     "text": [
      "fname1: ['0307', 'a', '0001', 'tif']\n",
      "fname2: ['0307', 'a', '0002', 'a', 'tif']\n",
      "True\n"
     ]
    }
   ],
   "source": [
    "fname1 = \"0307.a.0001.tif\"\n",
    "fname2 = \"0307.a.0002.a.tif\"\n",
    "print(\"fname1: {}\".format(fname1.split(\".\")))\n",
    "print(\"fname2: {}\".format(fname2.split(\".\")))\n",
    "print(fname2[-1].isalpha())"
   ]
  },
  {
   "cell_type": "code",
   "execution_count": 1,
   "metadata": {
    "collapsed": false
   },
   "outputs": [
    {
     "ename": "NameError",
     "evalue": "name 'mexiko' is not defined",
     "output_type": "error",
     "traceback": [
      "\u001b[0;31m---------------------------------------------------------------------------\u001b[0m",
      "\u001b[0;31mNameError\u001b[0m                                 Traceback (most recent call last)",
      "\u001b[0;32m<ipython-input-1-4ac80ed2d8c1>\u001b[0m in \u001b[0;36m<module>\u001b[0;34m()\u001b[0m\n\u001b[1;32m      1\u001b[0m \u001b[0;31m# Field \"Motivord\", \"Beskrivning\" and \"Ort, foto\"\u001b[0m\u001b[0;34m\u001b[0m\u001b[0;34m\u001b[0m\u001b[0m\n\u001b[1;32m      2\u001b[0m \u001b[0mnon_id_names\u001b[0m \u001b[0;34m=\u001b[0m \u001b[0mset\u001b[0m\u001b[0;34m(\u001b[0m\u001b[0;34m)\u001b[0m\u001b[0;34m\u001b[0m\u001b[0m\n\u001b[0;32m----> 3\u001b[0;31m \u001b[0;32mfor\u001b[0m \u001b[0mindex\u001b[0m\u001b[0;34m,\u001b[0m \u001b[0mrow\u001b[0m \u001b[0;32min\u001b[0m \u001b[0mmexiko\u001b[0m\u001b[0;34m.\u001b[0m\u001b[0miterrows\u001b[0m\u001b[0;34m(\u001b[0m\u001b[0;34m)\u001b[0m\u001b[0;34m:\u001b[0m\u001b[0;34m\u001b[0m\u001b[0m\n\u001b[0m\u001b[1;32m      4\u001b[0m     \u001b[0;32mif\u001b[0m \u001b[0mpd\u001b[0m\u001b[0;34m.\u001b[0m\u001b[0mnotnull\u001b[0m\u001b[0;34m(\u001b[0m\u001b[0mrow\u001b[0m\u001b[0;34m[\u001b[0m\u001b[0;34m\"Motivord\"\u001b[0m\u001b[0;34m]\u001b[0m\u001b[0;34m)\u001b[0m \u001b[0;32mand\u001b[0m \u001b[0mpd\u001b[0m\u001b[0;34m.\u001b[0m\u001b[0mnotnull\u001b[0m\u001b[0;34m(\u001b[0m\u001b[0mrow\u001b[0m\u001b[0;34m[\u001b[0m\u001b[0;34m\"Beskrivning\"\u001b[0m\u001b[0;34m]\u001b[0m\u001b[0;34m)\u001b[0m \u001b[0;32mand\u001b[0m \u001b[0mpd\u001b[0m\u001b[0;34m.\u001b[0m\u001b[0mnotnull\u001b[0m\u001b[0;34m(\u001b[0m\u001b[0mrow\u001b[0m\u001b[0;34m[\u001b[0m\u001b[0;34m\"Ort, foto\"\u001b[0m\u001b[0;34m]\u001b[0m\u001b[0;34m)\u001b[0m\u001b[0;34m:\u001b[0m\u001b[0;34m\u001b[0m\u001b[0m\n\u001b[1;32m      5\u001b[0m         \u001b[0mmotivord\u001b[0m \u001b[0;34m=\u001b[0m \u001b[0mrow\u001b[0m\u001b[0;34m[\u001b[0m\u001b[0;34m\"Motivord\"\u001b[0m\u001b[0;34m]\u001b[0m\u001b[0;34m\u001b[0m\u001b[0m\n",
      "\u001b[0;31mNameError\u001b[0m: name 'mexiko' is not defined"
     ]
    }
   ],
   "source": [
    "# Field \"Motivord\", \"Beskrivning\" and \"Ort, foto\"\n",
    "non_id_names = set()\n",
    "for index, row in mexiko.iterrows():\n",
    "    if pd.notnull(row[\"Motivord\"]) and pd.notnull(row[\"Beskrivning\"]) and pd.notnull(row[\"Ort, foto\"]):\n",
    "        motivord = row[\"Motivord\"]\n",
    "        beskrivning = row[\"Beskrivning\"]\n",
    "        ort = row[\"Ort, foto\"]\n",
    "        tri_combo = motivord + \" \" + beskrivning + \" \" + ort\n",
    "        non_id_names.add(tri_combo)\n",
    "        \n",
    "print(len(non_id_names))\n",
    "list(non_id_names)[:10]"
   ]
  },
  {
   "cell_type": "code",
   "execution_count": 2,
   "metadata": {
    "collapsed": false
   },
   "outputs": [
    {
     "ename": "NameError",
     "evalue": "name 'mexiko' is not defined",
     "output_type": "error",
     "traceback": [
      "\u001b[0;31m---------------------------------------------------------------------------\u001b[0m",
      "\u001b[0;31mNameError\u001b[0m                                 Traceback (most recent call last)",
      "\u001b[0;32m<ipython-input-2-69d530aaeee7>\u001b[0m in \u001b[0;36m<module>\u001b[0;34m()\u001b[0m\n\u001b[1;32m      1\u001b[0m \u001b[0;31m# Field \"Beskrivning\" and \"Ort, foto\"\u001b[0m\u001b[0;34m\u001b[0m\u001b[0;34m\u001b[0m\u001b[0m\n\u001b[1;32m      2\u001b[0m \u001b[0mnon_id_names\u001b[0m \u001b[0;34m=\u001b[0m \u001b[0mset\u001b[0m\u001b[0;34m(\u001b[0m\u001b[0;34m)\u001b[0m\u001b[0;34m\u001b[0m\u001b[0m\n\u001b[0;32m----> 3\u001b[0;31m \u001b[0;32mfor\u001b[0m \u001b[0mindex\u001b[0m\u001b[0;34m,\u001b[0m \u001b[0mrow\u001b[0m \u001b[0;32min\u001b[0m \u001b[0mmexiko\u001b[0m\u001b[0;34m.\u001b[0m\u001b[0miterrows\u001b[0m\u001b[0;34m(\u001b[0m\u001b[0;34m)\u001b[0m\u001b[0;34m:\u001b[0m\u001b[0;34m\u001b[0m\u001b[0m\n\u001b[0m\u001b[1;32m      4\u001b[0m     \u001b[0;32mif\u001b[0m \u001b[0mpd\u001b[0m\u001b[0;34m.\u001b[0m\u001b[0mnotnull\u001b[0m\u001b[0;34m(\u001b[0m\u001b[0mrow\u001b[0m\u001b[0;34m[\u001b[0m\u001b[0;34m\"Beskrivning\"\u001b[0m\u001b[0;34m]\u001b[0m\u001b[0;34m)\u001b[0m \u001b[0;32mand\u001b[0m \u001b[0mpd\u001b[0m\u001b[0;34m.\u001b[0m\u001b[0mnotnull\u001b[0m\u001b[0;34m(\u001b[0m\u001b[0mrow\u001b[0m\u001b[0;34m[\u001b[0m\u001b[0;34m\"Ort, foto\"\u001b[0m\u001b[0;34m]\u001b[0m\u001b[0;34m)\u001b[0m\u001b[0;34m:\u001b[0m\u001b[0;34m\u001b[0m\u001b[0m\n\u001b[1;32m      5\u001b[0m         \u001b[0mnon_id_names\u001b[0m\u001b[0;34m.\u001b[0m\u001b[0madd\u001b[0m\u001b[0;34m(\u001b[0m\u001b[0mstr\u001b[0m\u001b[0;34m(\u001b[0m\u001b[0mrow\u001b[0m\u001b[0;34m[\u001b[0m\u001b[0;34m\"Beskrivning\"\u001b[0m\u001b[0;34m]\u001b[0m\u001b[0;34m)\u001b[0m \u001b[0;34m+\u001b[0m \u001b[0mstr\u001b[0m\u001b[0;34m(\u001b[0m\u001b[0mrow\u001b[0m\u001b[0;34m[\u001b[0m\u001b[0;34m\"Ort, foto\"\u001b[0m\u001b[0;34m]\u001b[0m\u001b[0;34m)\u001b[0m \u001b[0;34m)\u001b[0m\u001b[0;34m\u001b[0m\u001b[0m\n",
      "\u001b[0;31mNameError\u001b[0m: name 'mexiko' is not defined"
     ]
    }
   ],
   "source": [
    "# Field \"Beskrivning\" and \"Ort, foto\"\n",
    "non_id_names = set()\n",
    "for index, row in mexiko.iterrows():\n",
    "    if pd.notnull(row[\"Beskrivning\"]) and pd.notnull(row[\"Ort, foto\"]):\n",
    "        non_id_names.add(str(row[\"Beskrivning\"]) + str(row[\"Ort, foto\"]) )\n",
    "print(len(non_id_names))"
   ]
  },
  {
   "cell_type": "code",
   "execution_count": 3,
   "metadata": {
    "collapsed": false
   },
   "outputs": [
    {
     "ename": "NameError",
     "evalue": "name 'mexiko' is not defined",
     "output_type": "error",
     "traceback": [
      "\u001b[0;31m---------------------------------------------------------------------------\u001b[0m",
      "\u001b[0;31mNameError\u001b[0m                                 Traceback (most recent call last)",
      "\u001b[0;32m<ipython-input-3-3590be6bb8bf>\u001b[0m in \u001b[0;36m<module>\u001b[0;34m()\u001b[0m\n\u001b[1;32m      1\u001b[0m \u001b[0;31m# Field \"Beskrivning\" only\u001b[0m\u001b[0;34m\u001b[0m\u001b[0;34m\u001b[0m\u001b[0m\n\u001b[1;32m      2\u001b[0m \u001b[0mnon_id_names\u001b[0m \u001b[0;34m=\u001b[0m \u001b[0mset\u001b[0m\u001b[0;34m(\u001b[0m\u001b[0;34m)\u001b[0m\u001b[0;34m\u001b[0m\u001b[0m\n\u001b[0;32m----> 3\u001b[0;31m \u001b[0;32mfor\u001b[0m \u001b[0mindex\u001b[0m\u001b[0;34m,\u001b[0m \u001b[0mrow\u001b[0m \u001b[0;32min\u001b[0m \u001b[0mmexiko\u001b[0m\u001b[0;34m.\u001b[0m\u001b[0miterrows\u001b[0m\u001b[0;34m(\u001b[0m\u001b[0;34m)\u001b[0m\u001b[0;34m:\u001b[0m\u001b[0;34m\u001b[0m\u001b[0m\n\u001b[0m\u001b[1;32m      4\u001b[0m     \u001b[0;32mif\u001b[0m \u001b[0mpd\u001b[0m\u001b[0;34m.\u001b[0m\u001b[0mnotnull\u001b[0m\u001b[0;34m(\u001b[0m\u001b[0mrow\u001b[0m\u001b[0;34m[\u001b[0m\u001b[0;34m\"Beskrivning\"\u001b[0m\u001b[0;34m]\u001b[0m\u001b[0;34m)\u001b[0m\u001b[0;34m:\u001b[0m\u001b[0;34m\u001b[0m\u001b[0m\n\u001b[1;32m      5\u001b[0m         \u001b[0mnon_id_names\u001b[0m\u001b[0;34m.\u001b[0m\u001b[0madd\u001b[0m\u001b[0;34m(\u001b[0m\u001b[0mrow\u001b[0m\u001b[0;34m[\u001b[0m\u001b[0;34m\"Beskrivning\"\u001b[0m\u001b[0;34m]\u001b[0m\u001b[0;34m)\u001b[0m\u001b[0;34m\u001b[0m\u001b[0m\n",
      "\u001b[0;31mNameError\u001b[0m: name 'mexiko' is not defined"
     ]
    }
   ],
   "source": [
    "# Field \"Beskrivning\" only\n",
    "non_id_names = set()\n",
    "for index, row in mexiko.iterrows():\n",
    "    if pd.notnull(row[\"Beskrivning\"]):\n",
    "        non_id_names.add(row[\"Beskrivning\"])\n",
    "print(len(non_id_names))"
   ]
  },
  {
   "cell_type": "markdown",
   "metadata": {},
   "source": [
    "# Inspect keywords in column \"Motivord\""
   ]
  },
  {
   "cell_type": "code",
   "execution_count": 1,
   "metadata": {
    "collapsed": false
   },
   "outputs": [
    {
     "ename": "NameError",
     "evalue": "name 'mexiko' is not defined",
     "output_type": "error",
     "traceback": [
      "\u001b[0;31m---------------------------------------------------------------------------\u001b[0m",
      "\u001b[0;31mNameError\u001b[0m                                 Traceback (most recent call last)",
      "\u001b[0;32m<ipython-input-1-56ae1e2bbe37>\u001b[0m in \u001b[0;36m<module>\u001b[0;34m()\u001b[0m\n\u001b[0;32m----> 1\u001b[0;31m \u001b[0mmexiko\u001b[0m\u001b[0;34m.\u001b[0m\u001b[0mMotivord\u001b[0m\u001b[0;34m.\u001b[0m\u001b[0mvalue_counts\u001b[0m\u001b[0;34m(\u001b[0m\u001b[0;34m)\u001b[0m\u001b[0;34m[\u001b[0m\u001b[0;34m:\u001b[0m\u001b[0;36m10\u001b[0m\u001b[0;34m]\u001b[0m\u001b[0;34m\u001b[0m\u001b[0m\n\u001b[0m",
      "\u001b[0;31mNameError\u001b[0m: name 'mexiko' is not defined"
     ]
    }
   ],
   "source": [
    "mexiko.Motivord.value_counts()[:10]"
   ]
  },
  {
   "cell_type": "code",
   "execution_count": 2,
   "metadata": {
    "collapsed": false
   },
   "outputs": [
    {
     "ename": "NameError",
     "evalue": "name 'Counter' is not defined",
     "output_type": "error",
     "traceback": [
      "\u001b[0;31m---------------------------------------------------------------------------\u001b[0m",
      "\u001b[0;31mNameError\u001b[0m                                 Traceback (most recent call last)",
      "\u001b[0;32m<ipython-input-2-56c3f011eb8b>\u001b[0m in \u001b[0;36m<module>\u001b[0;34m()\u001b[0m\n\u001b[0;32m----> 1\u001b[0;31m \u001b[0mmotivord_count\u001b[0m \u001b[0;34m=\u001b[0m \u001b[0mCounter\u001b[0m\u001b[0;34m(\u001b[0m\u001b[0;34m)\u001b[0m\u001b[0;34m\u001b[0m\u001b[0m\n\u001b[0m\u001b[1;32m      2\u001b[0m \u001b[0;34m\u001b[0m\u001b[0m\n\u001b[1;32m      3\u001b[0m \u001b[0;32mfor\u001b[0m \u001b[0mindex\u001b[0m\u001b[0;34m,\u001b[0m \u001b[0mstring\u001b[0m \u001b[0;32min\u001b[0m \u001b[0mmexiko\u001b[0m\u001b[0;34m.\u001b[0m\u001b[0mMotivord\u001b[0m\u001b[0;34m.\u001b[0m\u001b[0miteritems\u001b[0m\u001b[0;34m(\u001b[0m\u001b[0;34m)\u001b[0m\u001b[0;34m:\u001b[0m\u001b[0;34m\u001b[0m\u001b[0m\n\u001b[1;32m      4\u001b[0m     \u001b[0;32mif\u001b[0m \u001b[0mpd\u001b[0m\u001b[0;34m.\u001b[0m\u001b[0mnotnull\u001b[0m\u001b[0;34m(\u001b[0m\u001b[0mstring\u001b[0m\u001b[0;34m)\u001b[0m\u001b[0;34m:\u001b[0m\u001b[0;34m\u001b[0m\u001b[0m\n\u001b[1;32m      5\u001b[0m         \u001b[0mtokens\u001b[0m \u001b[0;34m=\u001b[0m \u001b[0mstring\u001b[0m\u001b[0;34m.\u001b[0m\u001b[0msplit\u001b[0m\u001b[0;34m(\u001b[0m\u001b[0;34m\", \"\u001b[0m\u001b[0;34m)\u001b[0m\u001b[0;34m\u001b[0m\u001b[0m\n",
      "\u001b[0;31mNameError\u001b[0m: name 'Counter' is not defined"
     ]
    }
   ],
   "source": [
    "motivord_count = Counter()\n",
    "\n",
    "for index, string in mexiko.Motivord.iteritems():\n",
    "    if pd.notnull(string):\n",
    "        tokens = string.split(\", \")\n",
    "        tokens = [token.strip() for token in tokens]\n",
    "        for token in tokens:\n",
    "            motivord_count[token] += 1\n",
    "motivord_count.most_common(10)"
   ]
  },
  {
   "cell_type": "markdown",
   "metadata": {},
   "source": [
    "# Statistics: Not OK_to_upload"
   ]
  },
  {
   "cell_type": "code",
   "execution_count": 3,
   "metadata": {
    "collapsed": false
   },
   "outputs": [
    {
     "ename": "NameError",
     "evalue": "name 'mexiko' is not defined",
     "output_type": "error",
     "traceback": [
      "\u001b[0;31m---------------------------------------------------------------------------\u001b[0m",
      "\u001b[0;31mNameError\u001b[0m                                 Traceback (most recent call last)",
      "\u001b[0;32m<ipython-input-3-e4bd8c595ff2>\u001b[0m in \u001b[0;36m<module>\u001b[0;34m()\u001b[0m\n\u001b[1;32m      4\u001b[0m \u001b[0mno_ort_no_motivord\u001b[0m \u001b[0;34m=\u001b[0m \u001b[0;36m0\u001b[0m\u001b[0;34m\u001b[0m\u001b[0m\n\u001b[1;32m      5\u001b[0m \u001b[0;34m\u001b[0m\u001b[0m\n\u001b[0;32m----> 6\u001b[0;31m \u001b[0;32mfor\u001b[0m \u001b[0mindex\u001b[0m\u001b[0;34m,\u001b[0m \u001b[0mrow\u001b[0m \u001b[0;32min\u001b[0m \u001b[0mmexiko\u001b[0m\u001b[0;34m.\u001b[0m\u001b[0miterrows\u001b[0m\u001b[0;34m(\u001b[0m\u001b[0;34m)\u001b[0m\u001b[0;34m:\u001b[0m\u001b[0;34m\u001b[0m\u001b[0m\n\u001b[0m\u001b[1;32m      7\u001b[0m     \u001b[0;32mif\u001b[0m \u001b[0mpd\u001b[0m\u001b[0;34m.\u001b[0m\u001b[0misnull\u001b[0m\u001b[0;34m(\u001b[0m\u001b[0mrow\u001b[0m\u001b[0;34m[\u001b[0m\u001b[0;34m\"Beskrivning\"\u001b[0m\u001b[0;34m]\u001b[0m\u001b[0;34m)\u001b[0m \u001b[0;32mand\u001b[0m \u001b[0mpd\u001b[0m\u001b[0;34m.\u001b[0m\u001b[0misnull\u001b[0m\u001b[0;34m(\u001b[0m\u001b[0mrow\u001b[0m\u001b[0;34m[\u001b[0m\u001b[0;34m\"Ort, foto\"\u001b[0m\u001b[0;34m]\u001b[0m\u001b[0;34m)\u001b[0m\u001b[0;34m:\u001b[0m\u001b[0;34m\u001b[0m\u001b[0m\n\u001b[1;32m      8\u001b[0m         \u001b[0mno_ort\u001b[0m \u001b[0;34m+=\u001b[0m \u001b[0;36m1\u001b[0m\u001b[0;34m\u001b[0m\u001b[0m\n",
      "\u001b[0;31mNameError\u001b[0m: name 'mexiko' is not defined"
     ]
    }
   ],
   "source": [
    "bad_keywords = [\"pyramid\",\"tempel\",\"Ciudadela\",\"tempelpyramid\", \"tempelpyramider\",\"ruiner\",\"fornlämningar\"]\n",
    "no_ort = 0\n",
    "no_ort_and_generic_motivord = 0\n",
    "no_ort_no_motivord = 0\n",
    "\n",
    "for index, row in mexiko.iterrows():\n",
    "    if pd.isnull(row[\"Beskrivning\"]) and pd.isnull(row[\"Ort, foto\"]):\n",
    "        no_ort += 1\n",
    "        if pd.notnull(row[\"Motivord\"]):\n",
    "            sep_motivord = [token.strip() for token in row[\"Motivord\"].split(\",\")]\n",
    "            diff = set(sep_motivord) - set(bad_keywords)\n",
    "            if diff == set(): # Technically bad photos\n",
    "                no_ort_and_generic_motivord += 1\n",
    "        elif pd.isnull(row[\"Motivord\"]):\n",
    "            no_ort_no_motivord += 1\n",
    "                \n",
    "print(\"no ort: {}\\nno ort plus generic motivord: {}\\nno ort, no motivord: {}\".format(no_ort, no_ort_and_generic_motivord, no_ort_no_motivord))"
   ]
  },
  {
   "cell_type": "markdown",
   "metadata": {},
   "source": [
    "# Inspect that unique filenames gets created"
   ]
  },
  {
   "cell_type": "code",
   "execution_count": 4,
   "metadata": {
    "collapsed": false
   },
   "outputs": [
    {
     "ename": "NameError",
     "evalue": "name 'mexiko' is not defined",
     "output_type": "error",
     "traceback": [
      "\u001b[0;31m---------------------------------------------------------------------------\u001b[0m",
      "\u001b[0;31mNameError\u001b[0m                                 Traceback (most recent call last)",
      "\u001b[0;32m<ipython-input-4-4ac80ed2d8c1>\u001b[0m in \u001b[0;36m<module>\u001b[0;34m()\u001b[0m\n\u001b[1;32m      1\u001b[0m \u001b[0;31m# Field \"Motivord\", \"Beskrivning\" and \"Ort, foto\"\u001b[0m\u001b[0;34m\u001b[0m\u001b[0;34m\u001b[0m\u001b[0m\n\u001b[1;32m      2\u001b[0m \u001b[0mnon_id_names\u001b[0m \u001b[0;34m=\u001b[0m \u001b[0mset\u001b[0m\u001b[0;34m(\u001b[0m\u001b[0;34m)\u001b[0m\u001b[0;34m\u001b[0m\u001b[0m\n\u001b[0;32m----> 3\u001b[0;31m \u001b[0;32mfor\u001b[0m \u001b[0mindex\u001b[0m\u001b[0;34m,\u001b[0m \u001b[0mrow\u001b[0m \u001b[0;32min\u001b[0m \u001b[0mmexiko\u001b[0m\u001b[0;34m.\u001b[0m\u001b[0miterrows\u001b[0m\u001b[0;34m(\u001b[0m\u001b[0;34m)\u001b[0m\u001b[0;34m:\u001b[0m\u001b[0;34m\u001b[0m\u001b[0m\n\u001b[0m\u001b[1;32m      4\u001b[0m     \u001b[0;32mif\u001b[0m \u001b[0mpd\u001b[0m\u001b[0;34m.\u001b[0m\u001b[0mnotnull\u001b[0m\u001b[0;34m(\u001b[0m\u001b[0mrow\u001b[0m\u001b[0;34m[\u001b[0m\u001b[0;34m\"Motivord\"\u001b[0m\u001b[0;34m]\u001b[0m\u001b[0;34m)\u001b[0m \u001b[0;32mand\u001b[0m \u001b[0mpd\u001b[0m\u001b[0;34m.\u001b[0m\u001b[0mnotnull\u001b[0m\u001b[0;34m(\u001b[0m\u001b[0mrow\u001b[0m\u001b[0;34m[\u001b[0m\u001b[0;34m\"Beskrivning\"\u001b[0m\u001b[0;34m]\u001b[0m\u001b[0;34m)\u001b[0m \u001b[0;32mand\u001b[0m \u001b[0mpd\u001b[0m\u001b[0;34m.\u001b[0m\u001b[0mnotnull\u001b[0m\u001b[0;34m(\u001b[0m\u001b[0mrow\u001b[0m\u001b[0;34m[\u001b[0m\u001b[0;34m\"Ort, foto\"\u001b[0m\u001b[0;34m]\u001b[0m\u001b[0;34m)\u001b[0m\u001b[0;34m:\u001b[0m\u001b[0;34m\u001b[0m\u001b[0m\n\u001b[1;32m      5\u001b[0m         \u001b[0mmotivord\u001b[0m \u001b[0;34m=\u001b[0m \u001b[0mrow\u001b[0m\u001b[0;34m[\u001b[0m\u001b[0;34m\"Motivord\"\u001b[0m\u001b[0;34m]\u001b[0m\u001b[0;34m\u001b[0m\u001b[0m\n",
      "\u001b[0;31mNameError\u001b[0m: name 'mexiko' is not defined"
     ]
    }
   ],
   "source": [
    "# Field \"Motivord\", \"Beskrivning\" and \"Ort, foto\"\n",
    "non_id_names = set()\n",
    "for index, row in mexiko.iterrows():\n",
    "    if pd.notnull(row[\"Motivord\"]) and pd.notnull(row[\"Beskrivning\"]) and pd.notnull(row[\"Ort, foto\"]):\n",
    "        motivord = row[\"Motivord\"]\n",
    "        beskrivning = row[\"Beskrivning\"]\n",
    "        ort = row[\"Ort, foto\"]\n",
    "        tri_combo = motivord + \" \" + beskrivning + \" \" + ort\n",
    "        non_id_names.add(tri_combo)\n",
    "        \n",
    "print(len(non_id_names))\n",
    "list(non_id_names)[:10]"
   ]
  },
  {
   "cell_type": "code",
   "execution_count": 5,
   "metadata": {
    "collapsed": false
   },
   "outputs": [
    {
     "ename": "NameError",
     "evalue": "name 'mexiko' is not defined",
     "output_type": "error",
     "traceback": [
      "\u001b[0;31m---------------------------------------------------------------------------\u001b[0m",
      "\u001b[0;31mNameError\u001b[0m                                 Traceback (most recent call last)",
      "\u001b[0;32m<ipython-input-5-69d530aaeee7>\u001b[0m in \u001b[0;36m<module>\u001b[0;34m()\u001b[0m\n\u001b[1;32m      1\u001b[0m \u001b[0;31m# Field \"Beskrivning\" and \"Ort, foto\"\u001b[0m\u001b[0;34m\u001b[0m\u001b[0;34m\u001b[0m\u001b[0m\n\u001b[1;32m      2\u001b[0m \u001b[0mnon_id_names\u001b[0m \u001b[0;34m=\u001b[0m \u001b[0mset\u001b[0m\u001b[0;34m(\u001b[0m\u001b[0;34m)\u001b[0m\u001b[0;34m\u001b[0m\u001b[0m\n\u001b[0;32m----> 3\u001b[0;31m \u001b[0;32mfor\u001b[0m \u001b[0mindex\u001b[0m\u001b[0;34m,\u001b[0m \u001b[0mrow\u001b[0m \u001b[0;32min\u001b[0m \u001b[0mmexiko\u001b[0m\u001b[0;34m.\u001b[0m\u001b[0miterrows\u001b[0m\u001b[0;34m(\u001b[0m\u001b[0;34m)\u001b[0m\u001b[0;34m:\u001b[0m\u001b[0;34m\u001b[0m\u001b[0m\n\u001b[0m\u001b[1;32m      4\u001b[0m     \u001b[0;32mif\u001b[0m \u001b[0mpd\u001b[0m\u001b[0;34m.\u001b[0m\u001b[0mnotnull\u001b[0m\u001b[0;34m(\u001b[0m\u001b[0mrow\u001b[0m\u001b[0;34m[\u001b[0m\u001b[0;34m\"Beskrivning\"\u001b[0m\u001b[0;34m]\u001b[0m\u001b[0;34m)\u001b[0m \u001b[0;32mand\u001b[0m \u001b[0mpd\u001b[0m\u001b[0;34m.\u001b[0m\u001b[0mnotnull\u001b[0m\u001b[0;34m(\u001b[0m\u001b[0mrow\u001b[0m\u001b[0;34m[\u001b[0m\u001b[0;34m\"Ort, foto\"\u001b[0m\u001b[0;34m]\u001b[0m\u001b[0;34m)\u001b[0m\u001b[0;34m:\u001b[0m\u001b[0;34m\u001b[0m\u001b[0m\n\u001b[1;32m      5\u001b[0m         \u001b[0mnon_id_names\u001b[0m\u001b[0;34m.\u001b[0m\u001b[0madd\u001b[0m\u001b[0;34m(\u001b[0m\u001b[0mstr\u001b[0m\u001b[0;34m(\u001b[0m\u001b[0mrow\u001b[0m\u001b[0;34m[\u001b[0m\u001b[0;34m\"Beskrivning\"\u001b[0m\u001b[0;34m]\u001b[0m\u001b[0;34m)\u001b[0m \u001b[0;34m+\u001b[0m \u001b[0mstr\u001b[0m\u001b[0;34m(\u001b[0m\u001b[0mrow\u001b[0m\u001b[0;34m[\u001b[0m\u001b[0;34m\"Ort, foto\"\u001b[0m\u001b[0;34m]\u001b[0m\u001b[0;34m)\u001b[0m \u001b[0;34m)\u001b[0m\u001b[0;34m\u001b[0m\u001b[0m\n",
      "\u001b[0;31mNameError\u001b[0m: name 'mexiko' is not defined"
     ]
    }
   ],
   "source": [
    "# Field \"Beskrivning\" and \"Ort, foto\"\n",
    "non_id_names = set()\n",
    "for index, row in mexiko.iterrows():\n",
    "    if pd.notnull(row[\"Beskrivning\"]) and pd.notnull(row[\"Ort, foto\"]):\n",
    "        non_id_names.add(str(row[\"Beskrivning\"]) + str(row[\"Ort, foto\"]) )\n",
    "print(len(non_id_names))"
   ]
  },
  {
   "cell_type": "code",
   "execution_count": 6,
   "metadata": {
    "collapsed": false
   },
   "outputs": [
    {
     "ename": "NameError",
     "evalue": "name 'mexiko' is not defined",
     "output_type": "error",
     "traceback": [
      "\u001b[0;31m---------------------------------------------------------------------------\u001b[0m",
      "\u001b[0;31mNameError\u001b[0m                                 Traceback (most recent call last)",
      "\u001b[0;32m<ipython-input-6-3590be6bb8bf>\u001b[0m in \u001b[0;36m<module>\u001b[0;34m()\u001b[0m\n\u001b[1;32m      1\u001b[0m \u001b[0;31m# Field \"Beskrivning\" only\u001b[0m\u001b[0;34m\u001b[0m\u001b[0;34m\u001b[0m\u001b[0m\n\u001b[1;32m      2\u001b[0m \u001b[0mnon_id_names\u001b[0m \u001b[0;34m=\u001b[0m \u001b[0mset\u001b[0m\u001b[0;34m(\u001b[0m\u001b[0;34m)\u001b[0m\u001b[0;34m\u001b[0m\u001b[0m\n\u001b[0;32m----> 3\u001b[0;31m \u001b[0;32mfor\u001b[0m \u001b[0mindex\u001b[0m\u001b[0;34m,\u001b[0m \u001b[0mrow\u001b[0m \u001b[0;32min\u001b[0m \u001b[0mmexiko\u001b[0m\u001b[0;34m.\u001b[0m\u001b[0miterrows\u001b[0m\u001b[0;34m(\u001b[0m\u001b[0;34m)\u001b[0m\u001b[0;34m:\u001b[0m\u001b[0;34m\u001b[0m\u001b[0m\n\u001b[0m\u001b[1;32m      4\u001b[0m     \u001b[0;32mif\u001b[0m \u001b[0mpd\u001b[0m\u001b[0;34m.\u001b[0m\u001b[0mnotnull\u001b[0m\u001b[0;34m(\u001b[0m\u001b[0mrow\u001b[0m\u001b[0;34m[\u001b[0m\u001b[0;34m\"Beskrivning\"\u001b[0m\u001b[0;34m]\u001b[0m\u001b[0;34m)\u001b[0m\u001b[0;34m:\u001b[0m\u001b[0;34m\u001b[0m\u001b[0m\n\u001b[1;32m      5\u001b[0m         \u001b[0mnon_id_names\u001b[0m\u001b[0;34m.\u001b[0m\u001b[0madd\u001b[0m\u001b[0;34m(\u001b[0m\u001b[0mrow\u001b[0m\u001b[0;34m[\u001b[0m\u001b[0;34m\"Beskrivning\"\u001b[0m\u001b[0;34m]\u001b[0m\u001b[0;34m)\u001b[0m\u001b[0;34m\u001b[0m\u001b[0m\n",
      "\u001b[0;31mNameError\u001b[0m: name 'mexiko' is not defined"
     ]
    }
   ],
   "source": [
    "# Field \"Beskrivning\" only\n",
    "non_id_names = set()\n",
    "for index, row in mexiko.iterrows():\n",
    "    if pd.notnull(row[\"Beskrivning\"]):\n",
    "        non_id_names.add(row[\"Beskrivning\"])\n",
    "print(len(non_id_names))"
   ]
  },
  {
   "cell_type": "code",
   "execution_count": 7,
   "metadata": {
    "collapsed": false
   },
   "outputs": [
    {
     "name": "stdout",
     "output_type": "stream",
     "text": [
      "fname1: ['0307', 'a', '0001', 'tif']\n",
      "fname2: ['0307', 'a', '0002', 'a', 'tif']\n",
      "True\n"
     ]
    }
   ],
   "source": [
    "fname1 = \"0307.a.0001.tif\"\n",
    "fname2 = \"0307.a.0002.a.tif\"\n",
    "print(\"fname1: {}\".format(fname1.split(\".\")))\n",
    "print(\"fname2: {}\".format(fname2.split(\".\")))\n",
    "print(fname2[-1].isalpha())"
   ]
  },
  {
   "cell_type": "markdown",
   "metadata": {},
   "source": [
    "# Create list of badly filled out meatdata for WMMX"
   ]
  },
  {
   "cell_type": "code",
   "execution_count": null,
   "metadata": {
    "collapsed": true
   },
   "outputs": [],
   "source": [
    "bad_keywords = [\"pyramid\",\"tempel\",\"Ciudadela\",\"tempelpyramid\", \"tempelpyramider\",\"ruiner\",\"fornlämningar\"]\n",
    "\n",
    "motivord_count = Counter()\n",
    "\n",
    "for index, string in mexiko.Motivord.iteritems():\n",
    "    if pd.notnull(string):\n",
    "        tokens = string.split(\", \")\n",
    "        tokens = [token.strip() for token in tokens]\n",
    "        for token in tokens:\n",
    "            motivord_count[token] += 1\n",
    "            \n",
    "file_table = \"\"\n",
    "tot_cnt = 0\n",
    "bad_cnt = 0\n",
    "problematic_cnt = 0\n",
    "no_keyword = 0\n",
    "no_ort = 0\n",
    "generic_keyword = 0\n",
    "empty_ort_and_motivord = 0\n",
    "no_ort_and_generic_keyword = 0\n",
    "no_desc = 0\n",
    "no_desc_and_no_ort = 0\n",
    "no_desc_no_motivord = 0\n",
    "no_desc_no_ort_no_motivord = 0\n",
    "no_desc_no_ort_generic_motivord = 0\n",
    "\n",
    "\n",
    "for index, row in mexiko.iterrows():\n",
    "    tot_cnt += 1\n",
    "    \n",
    "    # Technically bad/problematic photos\n",
    "    if pd.isnull(row[\"Beskrivning\"]): # problematic\n",
    "        no_desc += 1\n",
    "        problematic_cnt += 1\n",
    "        \n",
    "        if pd.isnull(row[\"Ort, foto\"]): # Technically bad photos\n",
    "            no_desc_and_no_ort += 1\n",
    "            bad_cnt += 1\n",
    "            file_table += \"! \" + str(bad_cnt) + \"\\n\" \n",
    "            file_table += \"| \" + row[\"SMVK-EM-link\"] + \"\\n\"\n",
    "            file_table += \"| \" + str(row[\"Beskrivning\"]) + \"\\n\"\n",
    "            file_table += \"| \" + str(row[\"Ort, foto\"]) + \"\\n\"\n",
    "            file_table += \"| \" + str(row[\"Motivord\"]) + \"\\n\"\n",
    "            file_table += \"| Both 'Description' and 'Place, photo' are empty\\n\"\n",
    "            file_table += \"|\\n\"\n",
    "            file_table += \"|\\n\"\n",
    "            file_table += \"|-\\n\"\n",
    "            \n",
    "            if pd.isnull(row[\"Motivord\"]): # Technically bad photos\n",
    "                bad_cnt += 1\n",
    "                no_desc_no_ort_no_motivord += 1\n",
    "                file_table += \"! \" + str(bad_cnt) + \"\\n\" \n",
    "                file_table += \"| \" + row[\"SMVK-EM-link\"] + \"\\n\"\n",
    "                file_table += \"| \" + str(row[\"Beskrivning\"]) + \"\\n\"\n",
    "                file_table += \"| \" + str(row[\"Ort, foto\"]) + \"\\n\"\n",
    "                file_table += \"| \" + str(row[\"Motivord\"]) + \"\\n\"\n",
    "                file_table += \"| 'Description' and 'Place, photo' and 'Motive' are empty\\n\"\n",
    "                file_table += \"|\\n\"\n",
    "                file_table += \"|\\n\"\n",
    "                file_table += \"|-\\n\"\n",
    "            \n",
    "            elif pd.notnull(row[\"Motivord\"]): \n",
    "                motivord = row[\"Motivord\"]\n",
    "                sep_motivord = [token.strip() for token in motivord.split(\",\")]\n",
    "                for token in sep_motivord:\n",
    "                    if token in bad_keywords:\n",
    "                        generic_keyword += 1\n",
    "                        #print(\"{} depicts a pyramid, a tempel or ciudadela!\".format(row[\"Motivord\"]))\n",
    "                        diff = set(sep_motivord) - set(bad_keywords)\n",
    "                        #print(diff)\n",
    "                        if diff == set(): # Technically bad photos\n",
    "                            bad_cnt += 1\n",
    "                            no_desc_no_ort_generic_motivord += 1\n",
    "                            file_table += \"! \" + str(bad_cnt) + \"\\n\" \n",
    "                            file_table += \"| \" + row[\"SMVK-EM-link\"] + \"\\n\"\n",
    "                            file_table += \"| \" + str(row[\"Beskrivning\"]) + \"\\n\"\n",
    "                            file_table += \"| \" + str(row[\"Ort, foto\"]) + \"\\n\"\n",
    "                            file_table += \"| \" + str(row[\"Motivord\"]) + \"\\n\"\n",
    "                            file_table += \"| Both 'Description' and 'Place, photo' are empty and 'Motive' is generic\\n\"\n",
    "                            file_table += \"|\\n\"\n",
    "                            file_table += \"|\\n\"\n",
    "                            file_table += \"|-\\n\"\n",
    "        \n",
    "        elif pd.isnull(row[\"Motivord\"]): # problematic \"Beskrivning might still be filled in\"\n",
    "            no_desc_no_motivord += 1\n",
    "            problematic_cnt += 1\n",
    "            \n",
    "                \n",
    "    # Technically bad photos    \n",
    "    if pd.isnull(row[\"Ort, foto\"]) and pd.isnull(row[\"Motivord\"]):\n",
    "        problematic_cnt += 1\n",
    "        empty_ort_and_motivord += 1\n",
    "        # file_table += \"! \" + str(bad_cnt) + \"\\n\" \n",
    "        # file_table += \"| \" + row[\"SMVK-EM-link\"] + \"\\n\"\n",
    "        # file_table += \"| \" + str(row[\"Region, foto\"]) + \"\\n\"\n",
    "        # file_table += \"| \" + str(row[\"Ort, foto\"]) + \"\\n\"\n",
    "        # file_table += \"| \" + str(row[\"Motivord\"]) + \"\\n\"\n",
    "        # file_table += \"| Both 'Motivord' and 'Ort, foto' are empty\\n\"\n",
    "        # file_table += \"|\\n\"\n",
    "        # file_table += \"|\\n\"\n",
    "        # file_table += \"|-\\n\"\n",
    "        \n",
    "    elif pd.isnull(row[\"Ort, foto\"]) and pd.notnull(row[\"Motivord\"]):\n",
    "        \n",
    "        if pd.isnull(row[\"Ort, foto\"]) and pd.notnull(row[\"Motivord\"]) in bad_keywords:\n",
    "            motivord = row[\"Motivord\"]\n",
    "            sep_motivord = [token.strip() for token in motivord.split(\",\")]\n",
    "            for token in sep_motivord:\n",
    "                if token in bad_keywords:\n",
    "                    generic_keyword += 1\n",
    "                    #print(\"{} depicts a pyramid, a tempel or ciudadela!\".format(row[\"Motivord\"]))\n",
    "                    diff = set(sep_motivord) - set(bad_keywords)\n",
    "                    #print(diff)\n",
    "                    if diff == set():\n",
    "                        # bad_cnt += 1\n",
    "                        problematic_cnt += 1\n",
    "                        no_ort_and_generic_keyword += 1\n",
    "                        # file_table += \"! \" + str(bad_cnt) + \"\\n\" \n",
    "                        # file_table += \"| \" + row[\"SMVK-EM-link\"] + \"\\n\"\n",
    "                        # file_table += \"| \" + str(row[\"Region, foto\"]) + \"\\n\"\n",
    "                        # file_table += \"| \" + str(row[\"Ort, foto\"]) + \"\\n\"\n",
    "                        # file_table += \"| \" + str(row[\"Motivord\"]) + \"\\n\"\n",
    "                        # file_table += \"| No 'Ort, foto' and 'Motivord' is generic\\n\"\n",
    "                        # file_table += \"|\\n\"\n",
    "                        # file_table += \"|\\n\"\n",
    "                        # file_table += \"|-\\n\"\n",
    "        else:\n",
    "            problematic_cnt += 1\n",
    "            no_ort += 1\n",
    "            # file_table += \"! \" + str(bad_cnt) + \"\\n\" \n",
    "            # file_table += \"| \" + row[\"SMVK-EM-link\"] + \"\\n\"\n",
    "            # file_table += \"| \" + str(row[\"Region, foto\"]) + \"\\n\"\n",
    "            # file_table += \"| \" + str(row[\"Ort, foto\"]) + \"\\n\"\n",
    "            # file_table += \"| \" + str(row[\"Motivord\"]) + \"\\n\"\n",
    "            # file_table += \"| No 'Ort, foto'\\n\"\n",
    "            # file_table += \"|\\n\"\n",
    "            # file_table += \"|\\n\"\n",
    "            # file_table += \"|-\\n\"\n",
    "                        \n",
    "    \n",
    "    elif pd.isnull(row[\"Ort, foto\"]) and pd.notnull(row[\"Motivord\"]) in bad_keywords:\n",
    "        # bad_cnt += 1\n",
    "        problematic_cnt += 1\n",
    "        no_ort_and_generic_keyword += 1\n",
    "        # file_table += \"! \" + str(bad_cnt) + \"\\n\" \n",
    "        # file_table += \"| \" + row[\"SMVK-EM-link\"] + \"\\n\"\n",
    "        # file_table += \"| \" + str(row[\"Region, foto\"]) + \"\\n\"\n",
    "        # file_table += \"| \" + str(row[\"Ort, foto\"]) + \"\\n\"\n",
    "        # file_table += \"| \" + str(row[\"Motivord\"]) + \"\\n\"\n",
    "        # file_table += \"| No 'Ort, foto' and 'Motivord' is generic\\n\"\n",
    "        # file_table += \"|\\n\"\n",
    "        # file_table += \"|\\n\"\n",
    "        # file_table += \"|-\\n\" \n",
    "        \n",
    "    else:\n",
    "    \n",
    "        if pd.isnull(row[\"Motivord\"]) and pd.notnull(row[\"Ort, foto\"]):\n",
    "            # bad_cnt += 1 # Ort, foto + person, avbildad?\n",
    "            no_keyword += 1\n",
    "            problematic_cnt +=1\n",
    "            # file_table += \"! \" + str(bad_cnt) + \"\\n\" \n",
    "            # file_table += \"| \" + row[\"SMVK-EM-link\"] + \"\\n\"\n",
    "            # file_table += \"| \" + str(row[\"Region, foto\"]) + \"\\n\"\n",
    "            # file_table += \"| \" + str(row[\"Ort, foto\"]) + \"\\n\"\n",
    "            # file_table += \"| \" + str(row[\"Motivord\"]) + \"\\n\"\n",
    "            # file_table += \"| No 'motivord'\\n\"\n",
    "            # file_table += \"|\\n\"\n",
    "            # file_table += \"|\\n\"\n",
    "            # file_table += \"|-\\n\"\n",
    "    \n",
    "        elif pd.notnull(row[\"Motivord\"]):\n",
    "            motivord = row[\"Motivord\"]\n",
    "            sep_motivord = [token.strip() for token in motivord.split(\",\")]\n",
    "            for token in sep_motivord:\n",
    "                if token in bad_keywords:\n",
    "                    generic_keyword += 1\n",
    "                    #print(\"{} depicts a pyramid, a tempel or ciudadela!\".format(row[\"Motivord\"]))\n",
    "                    diff = set(sep_motivord) - set(bad_keywords)\n",
    "                    #print(diff)\n",
    "                    if diff == set():\n",
    "                        # bad_cnt += 1\n",
    "                        problematic_cnt += 1\n",
    "                        # file_table += \"! \" + str(bad_cnt) + \"\\n\" \n",
    "                        # file_table += \"| \" + row[\"SMVK-EM-link\"] + \"\\n\"\n",
    "                        # file_table += \"| \" + str(row[\"Region, foto\"]) + \"\\n\"\n",
    "                        # file_table += \"| \" + str(row[\"Ort, foto\"]) + \"\\n\"\n",
    "                        # file_table += \"| \" + str(row[\"Motivord\"]) + \"\\n\"\n",
    "                        # file_table += \"| Motivord' is generic'\\n\"\n",
    "                        # file_table += \"|\\n\"\n",
    "                        # file_table += \"|\\n\"\n",
    "                        # file_table += \"|-\\n\"\n",
    "                                                        \n",
    "            \n",
    "\n",
    "file_table += \"|}\"\n",
    "\n",
    "table_header = \"\"\"{| class=\"wikitable sortable\\n\"\"\"\n",
    "table_header += \"|+ Fotos with bad metadata (\" + str(bad_cnt) + \"/\" + str(tot_cnt) + \") needing manual tagging\\n\"\n",
    "table_header += \"\"\"|-\n",
    "! number\n",
    "! file_url\n",
    "! region\n",
    "! place\n",
    "! why_bad? \n",
    "! Commons Cat(-s separated by comma)\n",
    "! Wikidata item (-s separated by comma)\n",
    "|-\n",
    "\"\"\"\n",
    "full_table = table_header + file_table\n",
    "\n",
    "print(\"== Data Quality Statistics ==\")\n",
    "print()\n",
    "print(\"Total number of photos in batch: '''{}'''\".format(tot_cnt))\n",
    "print()\n",
    "print(\"=== Technically bad photos (below): '''{}''' ===\".format(bad_cnt))\n",
    "print(\"Description and Ort, foto are empty: '''{}'''\".format(no_desc_and_no_ort))\n",
    "print()\n",
    "print(\"Description, Motivord and Ort, foto are empty: '''{}'''\".format(no_desc_no_ort_no_motivord))\n",
    "print()\n",
    "print(\"Description and Ort, foto are empty and Motivord is generic: '''{}'''\".format(no_desc_no_ort_generic_motivord))\n",
    "print()\n",
    "print(\"=== Problematic photos (in a separate wikitable): ===\")\n",
    "print(\"Description and motivord are empty: '''{}'''\".format(no_desc_no_motivord))\n",
    "print()\n",
    "print()\n",
    "print(\"No 'Description/Beskrivning': '''{}'''\".format(no_desc))\n",
    "print()\n",
    "print(\"Both 'Motivord' and 'Ort, foto' are empty: '''{}'''\".format(empty_ort_and_motivord))\n",
    "print()\n",
    "print(\"No 'motivord': '''{}'''\".format(no_keyword))\n",
    "print()\n",
    "print(\"'Motivord' is generic: '''{}'''\".format(generic_keyword))\n",
    "print()\n",
    "print(\"No 'Ort, foto': '''{}'''\".format(pd.isnull(mexiko[\"Ort, foto\"]).value_counts()[1]))\n",
    "print()\n",
    "print(\"No 'Ort, foto' and 'Motivord' is generic: '''{}'''\".format(no_ort_and_generic_keyword))\n",
    "print()\n",
    "\n",
    "\n",
    "\n",
    "print(\"== Generic keywords: ==\")\n",
    "for token in bad_keywords:\n",
    "    print(\"* \" + token + \", \" + str(motivord_count[token]), end=\"\\n\")\n",
    "print()\n",
    "\n",
    "print(\"'nan' means empty in the table\")\n",
    "print() \n",
    "print(full_table)\n"
   ]
  }
 ],
 "metadata": {
  "kernelspec": {
   "display_name": "Python 3",
   "language": "python",
   "name": "python3"
  },
  "language_info": {
   "codemirror_mode": {
    "name": "ipython",
    "version": 3
   },
   "file_extension": ".py",
   "mimetype": "text/x-python",
   "name": "python",
   "nbconvert_exporter": "python",
   "pygments_lexer": "ipython3",
   "version": "3.5.2"
  }
 },
 "nbformat": 4,
 "nbformat_minor": 0
}
