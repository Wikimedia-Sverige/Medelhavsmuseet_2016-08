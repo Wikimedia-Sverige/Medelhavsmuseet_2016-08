{
 "cells": [
  {
   "cell_type": "code",
   "execution_count": 2,
   "metadata": {
    "collapsed": false
   },
   "outputs": [
    {
     "name": "stdout",
     "output_type": "stream",
     "text": [
      "Collecting https://github.com/lokal-profil/BatchUploadTools/tarball/0.0.1\n",
      "  Downloading https://github.com/lokal-profil/BatchUploadTools/tarball/0.0.1\n",
      "\u001b[K     / 81kB 313kB/s\n",
      "Collecting pywikibot==3.0-dev (from BatchUploadTools==0.0.1)\n",
      "\u001b[31m  Could not find a version that satisfies the requirement pywikibot==3.0-dev (from BatchUploadTools==0.0.1) (from versions: 2.0rc1.post1, 2.0rc1.post2, 2.0rc3, 2.0rc4, 2.0rc5)\u001b[0m\n",
      "\u001b[31mNo matching distribution found for pywikibot==3.0-dev (from BatchUploadTools==0.0.1)\u001b[0m\n",
      "\u001b[33mYou are using pip version 8.1.2, however version 9.0.1 is available.\n",
      "You should consider upgrading via the 'pip install --upgrade pip' command.\u001b[0m\n"
     ]
    }
   ],
   "source": [
    "!pip install https://github.com/lokal-profil/BatchUploadTools/tarball/0.0.1"
   ]
  },
  {
   "cell_type": "code",
   "execution_count": 39,
   "metadata": {
    "collapsed": false
   },
   "outputs": [],
   "source": [
    "import pywikibot\n",
    "import pywikibot.version"
   ]
  },
  {
   "cell_type": "code",
   "execution_count": 3,
   "metadata": {
    "collapsed": false
   },
   "outputs": [],
   "source": [
    "import pandas as pd\n",
    "from collections import Counter\n",
    "import os\n",
    "import regex\n",
    "import pickle\n",
    "#import batchupload.helpers as helpers # error when using Python 3.5.2 :: Anaconda custom (x86_64) on MacBook Air\n",
    "\n",
    "mexiko = pickle.load(open(\"./mexiko_df_final.pickle\",\"rb\"))"
   ]
  },
  {
   "cell_type": "code",
   "execution_count": 4,
   "metadata": {
    "collapsed": false
   },
   "outputs": [],
   "source": [
    "pd.set_option('display.max_rows', 5)\n",
    "pd.set_option('max_seq_items', 10)"
   ]
  },
  {
   "cell_type": "raw",
   "metadata": {
    "collapsed": false
   },
   "source": [
    "# Ensure this computer has got NLTK tokenizers\n",
    "nltk.download()"
   ]
  },
  {
   "cell_type": "markdown",
   "metadata": {},
   "source": [
    "The metadata file on [Google Docs](https://docs.google.com/spreadsheets/d/1YXusiepersJ6_XGoUVEE0jfGh5NJs-5Rds2_l5ZbGik/edit?usp=sharing)\n",
    "\n",
    "The collection object \"Linné-Mexiko\" from Etnografiska Museet is [on Carlotta](http://collections.smvk.se/carlotta-em/web/object/1460547)\n",
    "\n",
    "A list of all the photographs is listed [on Carlotta](http://collections.smvk.se/carlotta-em/web/object/1460547/CHILDREN/9)\n",
    "\n",
    "Here is the full search in the Database from Etnografiska Museet [in K-SAMSOK](http://www.varldskulturmuseerna.se/etnografiskamuseet/forskning-samlingar/sok-i-samlingarna1/?ksamsearchtext=mexiko+sigvald+tula&radio-group=andmatch&itemtype=samling&ksamsubmit=S%C3%B6k)"
   ]
  },
  {
   "cell_type": "markdown",
   "metadata": {},
   "source": [
    "# 0. Read in the metadata"
   ]
  },
  {
   "cell_type": "code",
   "execution_count": 4,
   "metadata": {
    "collapsed": false
   },
   "outputs": [
    {
     "data": {
      "text/plain": [
       "Index(['Fotonummer', 'Postnr.', 'Motivord', 'Beskrivning', 'Land, foto',\n",
       "       ...\n",
       "       'Personnamn / fotograf', 'Personnamn / avbildad', 'Sökord',\n",
       "       'Händelse / var närvarande vid', 'Länk'],\n",
       "      dtype='object', length=14)"
      ]
     },
     "execution_count": 4,
     "metadata": {},
     "output_type": "execute_result"
    }
   ],
   "source": [
    "mexiko_test = pd.read_excel(\"excel-export.xls\", sheetname=\"Mexiko\")\n",
    "mexiko_test.columns"
   ]
  },
  {
   "cell_type": "code",
   "execution_count": 5,
   "metadata": {
    "collapsed": false
   },
   "outputs": [],
   "source": [
    "def strip(text):\n",
    "    try:\n",
    "        return text.strip()\n",
    "    except AttributeError:\n",
    "        return text\n",
    "    \n",
    "mexiko_converters = {\"Fotonummer\":strip,\"Postnr\":strip,\"Motivord\":strip,\"Beskrivning\":strip,\"Land, foto\":strip,\n",
    "                     \"Region, foto\":strip,\"Ort, foto\":strip,\"Etnisk grupp, avb.\":strip,\"Fotodatum\":strip,\n",
    "                    \"Personnamn / fotograf\":strip, \"Personnamn / avbildad\":strip, \"Sökord\":strip,\n",
    "                    \"Händelse / var närvarande vid\":strip, \"Länk\":strip}\n",
    "\n",
    "mexiko = pd.read_excel(\"excel-export.xls\", sheetname=\"Mexiko\", converters=mexiko_converters)"
   ]
  },
  {
   "cell_type": "markdown",
   "metadata": {
    "collapsed": true
   },
   "source": [
    "## Add sub-collection metadata field \"description\"\n",
    "\n",
    "* Add these to the final images in the infobox"
   ]
  },
  {
   "cell_type": "code",
   "execution_count": 10,
   "metadata": {
    "collapsed": true
   },
   "outputs": [],
   "source": [
    "sub_desc = {\"a\":\"Teotihuacan (241) utgrävningar, fornlämningar, invånare\",\n",
    "\"b\": \"Mexiko (29) utgrävningar, fornlämningar mm\",\n",
    "\"c\": \"Tula (32) landskap, miljöer, invånare, fornlämningar\",\n",
    "\"d\": \"Oaxaca (54) fornlämningar, invånare, miljöer mm. Nr.1 saknas\",\n",
    "\"e\": \"Teopanzolco, Xochicalco (50) fornlänningar nr.51 saknas\",\n",
    "\"f\": \"Yucatan, Chichen Itza fornlämningar, landskap. Två kartonger, 352 saknas\",\n",
    "\"g\": \"Yucatan, Uxmal (113) fornlämningar\",\n",
    "\"h\": \"Yucatan, Sayil (9) fornlämningar\",\n",
    "\"i\": \"Yucatan, Kabah (59) fornlämningar\",\n",
    "\"j\": \"Yucatan, Labna (90) fornlämningar, bilresa längs landsvägen\",\n",
    "\"k\": \"Yucatan, Merida (42) miljöer, invånare\",\n",
    "\"l\": \"Yucatan, Mona (11) invånare, miljöer\",\n",
    "\"m\": \"Yucatan, Ticul (2) boskap\",\n",
    "\"n\": \"Yucatan, Dzitas (5) miljöer\",\n",
    "\"o\": \"Yucatan, Villa Hermosa (14) flygfoton\",\n",
    "\"p\": \"Yucatan, skilda orter (25) tågresan Vera Cruz- Mexico\",\n",
    "\"q\": \"Teotihuacan (156) arkeologiska föremål\"}"
   ]
  },
  {
   "cell_type": "code",
   "execution_count": 11,
   "metadata": {
    "collapsed": false
   },
   "outputs": [
    {
     "data": {
      "text/plain": [
       "Yucatan, Chichen Itza fornlämningar, landskap. Två kartonger, 352 saknas    376\n",
       "Teotihuacan (241) utgrävningar, fornlämningar, invånare                     274\n",
       "                                                                           ... \n",
       "Yucatan, Dzitas (5) miljöer                                                   5\n",
       "Yucatan, Ticul (2) boskap                                                     2\n",
       "Name: subcol_desc, dtype: int64"
      ]
     },
     "execution_count": 11,
     "metadata": {},
     "output_type": "execute_result"
    }
   ],
   "source": [
    "mexiko[\"subcol_desc\"] = 0\n",
    "for index, row in mexiko.iterrows():\n",
    "    #print(mexiko.loc[index,\"subcol_desc\"])\n",
    "    for key in sub_desc:\n",
    "        #print(type(row.Fotonummer))\n",
    "        initial_numbers, left_dot, letter_plus_last_numbers = row.Fotonummer.partition(\".\")\n",
    "        letter, dot, last_numbers = letter_plus_last_numbers.partition(\".\")\n",
    "        #print(letter)\n",
    "        if letter == key:\n",
    "            #print(\"Match! index: {} letter:{} key:{} desc: {}\".format(index, letter, key, sub_desc[key]))\n",
    "            mexiko.loc[index, \"subcol_desc\"] = sub_desc[key] \n",
    "mexiko.subcol_desc.value_counts()        "
   ]
  },
  {
   "cell_type": "markdown",
   "metadata": {},
   "source": [
    "# Add wiki-formatted URL-link\n",
    "\n",
    "* Use existing helper [template](https://commons.wikimedia.org/wiki/Template:SMVK-EM-link)\n",
    "\n",
    "ex: http://kulturarvsdata.se/SMVK-EM/fotografi/html/2786726\n",
    "\n",
    "{{SMVK-EM-link|foto|1461871|0713.0002}}\n",
    "\n",
    "- param 1: fotografi\n",
    "- param 2: 2786726\n",
    "- param 3: 0307.a.0001"
   ]
  },
  {
   "cell_type": "code",
   "execution_count": 12,
   "metadata": {
    "collapsed": false
   },
   "outputs": [
    {
     "name": "stdout",
     "output_type": "stream",
     "text": [
      "http://kulturarvsdata.se/SMVK-EM/fotografi/html/2786726\n"
     ]
    }
   ],
   "source": [
    "for index, row in mexiko.iterrows():\n",
    "    print(row[\"Länk\"])\n",
    "    break"
   ]
  },
  {
   "cell_type": "code",
   "execution_count": 13,
   "metadata": {
    "collapsed": false
   },
   "outputs": [
    {
     "data": {
      "text/plain": [
       "'2786726'"
      ]
     },
     "execution_count": 13,
     "metadata": {},
     "output_type": "execute_result"
    }
   ],
   "source": [
    "first, slash, id_str = \"http://kulturarvsdata.se/SMVK-EM/fotografi/html/2786726\".rpartition(\"/\")\n",
    "id_str"
   ]
  },
  {
   "cell_type": "code",
   "execution_count": 14,
   "metadata": {
    "collapsed": false
   },
   "outputs": [
    {
     "data": {
      "text/html": [
       "<div>\n",
       "<table border=\"1\" class=\"dataframe\">\n",
       "  <thead>\n",
       "    <tr style=\"text-align: right;\">\n",
       "      <th></th>\n",
       "      <th>Fotonummer</th>\n",
       "      <th>Postnr.</th>\n",
       "      <th>Motivord</th>\n",
       "      <th>Beskrivning</th>\n",
       "      <th>Land, foto</th>\n",
       "      <th>Region, foto</th>\n",
       "      <th>Ort, foto</th>\n",
       "      <th>Etnisk grupp, avb.</th>\n",
       "      <th>Fotodatum</th>\n",
       "      <th>Personnamn / fotograf</th>\n",
       "      <th>Personnamn / avbildad</th>\n",
       "      <th>Sökord</th>\n",
       "      <th>Händelse / var närvarande vid</th>\n",
       "      <th>Länk</th>\n",
       "      <th>subcol_desc</th>\n",
       "      <th>SMVK-EM-link</th>\n",
       "    </tr>\n",
       "  </thead>\n",
       "  <tbody>\n",
       "    <tr>\n",
       "      <th>0</th>\n",
       "      <td>0307.a.0001</td>\n",
       "      <td>2786726</td>\n",
       "      <td>karta, Stockholm</td>\n",
       "      <td>Teotihuacans monumentalbyggnader utlagda på ka...</td>\n",
       "      <td>NaN</td>\n",
       "      <td>NaN</td>\n",
       "      <td>NaN</td>\n",
       "      <td>NaN</td>\n",
       "      <td>NaN</td>\n",
       "      <td>NaN</td>\n",
       "      <td>NaN</td>\n",
       "      <td>NaN</td>\n",
       "      <td>NaN</td>\n",
       "      <td>http://kulturarvsdata.se/SMVK-EM/fotografi/htm...</td>\n",
       "      <td>Teotihuacan (241) utgrävningar, fornlämningar,...</td>\n",
       "      <td>{{SMVK-EM-link|1=foto|2=2786726|3=0307.a.0001}}</td>\n",
       "    </tr>\n",
       "    <tr>\n",
       "      <th>1</th>\n",
       "      <td>0307.a.0002.a</td>\n",
       "      <td>2786708</td>\n",
       "      <td>pyramid, tempel</td>\n",
       "      <td>Solpyramiden.</td>\n",
       "      <td>Mexiko</td>\n",
       "      <td>NaN</td>\n",
       "      <td>Teotihuacan</td>\n",
       "      <td>NaN</td>\n",
       "      <td>1932</td>\n",
       "      <td>Linné, Sigvald</td>\n",
       "      <td>NaN</td>\n",
       "      <td>NaN</td>\n",
       "      <td>Utgrävningar i Teotihuacan (1932)</td>\n",
       "      <td>http://kulturarvsdata.se/SMVK-EM/fotografi/htm...</td>\n",
       "      <td>Teotihuacan (241) utgrävningar, fornlämningar,...</td>\n",
       "      <td>{{SMVK-EM-link|1=foto|2=2786708|3=0307.a.0002.a}}</td>\n",
       "    </tr>\n",
       "    <tr>\n",
       "      <th>...</th>\n",
       "      <td>...</td>\n",
       "      <td>...</td>\n",
       "      <td>...</td>\n",
       "      <td>...</td>\n",
       "      <td>...</td>\n",
       "      <td>...</td>\n",
       "      <td>...</td>\n",
       "      <td>...</td>\n",
       "      <td>...</td>\n",
       "      <td>...</td>\n",
       "      <td>...</td>\n",
       "      <td>...</td>\n",
       "      <td>...</td>\n",
       "      <td>...</td>\n",
       "      <td>...</td>\n",
       "      <td>...</td>\n",
       "    </tr>\n",
       "    <tr>\n",
       "      <th>1440</th>\n",
       "      <td>0307.q.0155</td>\n",
       "      <td>2806174</td>\n",
       "      <td>figur, skulptur, Xipe Totec</td>\n",
       "      <td>Arkeologiskt föremål från Teotihuacan.</td>\n",
       "      <td>Mexiko</td>\n",
       "      <td>NaN</td>\n",
       "      <td>NaN</td>\n",
       "      <td>NaN</td>\n",
       "      <td>1932</td>\n",
       "      <td>Linné, Sigvald</td>\n",
       "      <td>NaN</td>\n",
       "      <td>arkeologi, ben, lerfigur</td>\n",
       "      <td>Utgrävningar i Teotihuacan (1932)</td>\n",
       "      <td>http://kulturarvsdata.se/SMVK-EM/fotografi/htm...</td>\n",
       "      <td>Teotihuacan (156) arkeologiska föremål</td>\n",
       "      <td>{{SMVK-EM-link|1=foto|2=2806174|3=0307.q.0155}}</td>\n",
       "    </tr>\n",
       "    <tr>\n",
       "      <th>1441</th>\n",
       "      <td>0307.q.0156</td>\n",
       "      <td>2806179</td>\n",
       "      <td>figur, skulptur, Xipe Totec</td>\n",
       "      <td>Arkeologiskt föremål från Teotihuacan.</td>\n",
       "      <td>Mexiko</td>\n",
       "      <td>NaN</td>\n",
       "      <td>NaN</td>\n",
       "      <td>NaN</td>\n",
       "      <td>1932</td>\n",
       "      <td>Linné, Sigvald</td>\n",
       "      <td>NaN</td>\n",
       "      <td>arkeologi, lerfigur</td>\n",
       "      <td>Utgrävningar i Teotihuacan (1932)</td>\n",
       "      <td>http://kulturarvsdata.se/SMVK-EM/fotografi/htm...</td>\n",
       "      <td>Teotihuacan (156) arkeologiska föremål</td>\n",
       "      <td>{{SMVK-EM-link|1=foto|2=2806179|3=0307.q.0156}}</td>\n",
       "    </tr>\n",
       "  </tbody>\n",
       "</table>\n",
       "<p>1442 rows × 16 columns</p>\n",
       "</div>"
      ],
      "text/plain": [
       "         Fotonummer  Postnr.                     Motivord  \\\n",
       "0       0307.a.0001  2786726             karta, Stockholm   \n",
       "1     0307.a.0002.a  2786708              pyramid, tempel   \n",
       "...             ...      ...                          ...   \n",
       "1440    0307.q.0155  2806174  figur, skulptur, Xipe Totec   \n",
       "1441    0307.q.0156  2806179  figur, skulptur, Xipe Totec   \n",
       "\n",
       "                                            Beskrivning Land, foto  \\\n",
       "0     Teotihuacans monumentalbyggnader utlagda på ka...        NaN   \n",
       "1                                         Solpyramiden.     Mexiko   \n",
       "...                                                 ...        ...   \n",
       "1440             Arkeologiskt föremål från Teotihuacan.     Mexiko   \n",
       "1441             Arkeologiskt föremål från Teotihuacan.     Mexiko   \n",
       "\n",
       "     Region, foto    Ort, foto Etnisk grupp, avb. Fotodatum  \\\n",
       "0             NaN          NaN                NaN       NaN   \n",
       "1             NaN  Teotihuacan                NaN      1932   \n",
       "...           ...          ...                ...       ...   \n",
       "1440          NaN          NaN                NaN      1932   \n",
       "1441          NaN          NaN                NaN      1932   \n",
       "\n",
       "     Personnamn / fotograf Personnamn / avbildad                    Sökord  \\\n",
       "0                      NaN                   NaN                       NaN   \n",
       "1           Linné, Sigvald                   NaN                       NaN   \n",
       "...                    ...                   ...                       ...   \n",
       "1440        Linné, Sigvald                   NaN  arkeologi, ben, lerfigur   \n",
       "1441        Linné, Sigvald                   NaN       arkeologi, lerfigur   \n",
       "\n",
       "          Händelse / var närvarande vid  \\\n",
       "0                                   NaN   \n",
       "1     Utgrävningar i Teotihuacan (1932)   \n",
       "...                                 ...   \n",
       "1440  Utgrävningar i Teotihuacan (1932)   \n",
       "1441  Utgrävningar i Teotihuacan (1932)   \n",
       "\n",
       "                                                   Länk  \\\n",
       "0     http://kulturarvsdata.se/SMVK-EM/fotografi/htm...   \n",
       "1     http://kulturarvsdata.se/SMVK-EM/fotografi/htm...   \n",
       "...                                                 ...   \n",
       "1440  http://kulturarvsdata.se/SMVK-EM/fotografi/htm...   \n",
       "1441  http://kulturarvsdata.se/SMVK-EM/fotografi/htm...   \n",
       "\n",
       "                                            subcol_desc  \\\n",
       "0     Teotihuacan (241) utgrävningar, fornlämningar,...   \n",
       "1     Teotihuacan (241) utgrävningar, fornlämningar,...   \n",
       "...                                                 ...   \n",
       "1440             Teotihuacan (156) arkeologiska föremål   \n",
       "1441             Teotihuacan (156) arkeologiska föremål   \n",
       "\n",
       "                                           SMVK-EM-link  \n",
       "0       {{SMVK-EM-link|1=foto|2=2786726|3=0307.a.0001}}  \n",
       "1     {{SMVK-EM-link|1=foto|2=2786708|3=0307.a.0002.a}}  \n",
       "...                                                 ...  \n",
       "1440    {{SMVK-EM-link|1=foto|2=2806174|3=0307.q.0155}}  \n",
       "1441    {{SMVK-EM-link|1=foto|2=2806179|3=0307.q.0156}}  \n",
       "\n",
       "[1442 rows x 16 columns]"
      ]
     },
     "execution_count": 14,
     "metadata": {},
     "output_type": "execute_result"
    }
   ],
   "source": [
    "for index, row in mexiko.iterrows():\n",
    "    url = row[\"Länk\"]\n",
    "    #first, slash, id_str = url.rpartition(\"/\")\n",
    "    #new_url = \"[\" + url + \" Fotonummer: \" + id_str + \"]\"\n",
    "    #mexiko.loc[index, \"wiki_url\"] = new_url\n",
    "    \n",
    "    left_side, slash, id_str = url.rpartition(\"/\")\n",
    "    template = \"{{SMVK-EM-link|1=foto|2=\" + id_str + \"|3=\" + row[\"Fotonummer\"] + \"}}\"\n",
    "    mexiko.loc[index, \"SMVK-EM-link\"] = template\n",
    "    \n",
    "mexiko"
   ]
  },
  {
   "cell_type": "markdown",
   "metadata": {},
   "source": [
    "Tips: Om det bara finns generiskt motivord och det finns Ort, foto OCH Motivord:\n",
    "Finns Commons-kategori som heter typ Pyramids in Techuacan?\n",
    "pröva Motivord"
   ]
  },
  {
   "cell_type": "markdown",
   "metadata": {},
   "source": [
    "# Statistics: Not OK_to_upload"
   ]
  },
  {
   "cell_type": "code",
   "execution_count": 19,
   "metadata": {
    "collapsed": false
   },
   "outputs": [
    {
     "name": "stdout",
     "output_type": "stream",
     "text": [
      "no ort: 93\n",
      "no ort plus generic motivord: 1\n",
      "no ort, no motivord: 73\n"
     ]
    }
   ],
   "source": [
    "bad_keywords = [\"pyramid\",\"tempel\",\"Ciudadela\",\"tempelpyramid\", \"tempelpyramider\",\"ruiner\",\"fornlämningar\"]\n",
    "no_ort = 0\n",
    "no_ort_and_generic_motivord = 0\n",
    "no_ort_no_motivord = 0\n",
    "\n",
    "for index, row in mexiko.iterrows():\n",
    "    if pd.isnull(row[\"Beskrivning\"]) and pd.isnull(row[\"Ort, foto\"]):\n",
    "        no_ort += 1\n",
    "        if pd.notnull(row[\"Motivord\"]):\n",
    "            sep_motivord = [token.strip() for token in row[\"Motivord\"].split(\",\")]\n",
    "            diff = set(sep_motivord) - set(bad_keywords)\n",
    "            if diff == set(): # Technically bad photos\n",
    "                no_ort_and_generic_motivord += 1\n",
    "        elif pd.isnull(row[\"Motivord\"]):\n",
    "            no_ort_no_motivord += 1\n",
    "                \n",
    "print(\"no ort: {}\\nno ort plus generic motivord: {}\\nno ort, no motivord: {}\".format(no_ort, no_ort_and_generic_motivord, no_ort_no_motivord))"
   ]
  },
  {
   "cell_type": "markdown",
   "metadata": {},
   "source": [
    "# Collect keyword mappings and create dataframes\n",
    "\n",
    "Keywords for the Mexiko dataset are published as mappingtables on [Commons](https://commons.wikimedia.org/wiki/Commons:Medelhavsmuseet/batchUploads/Mexiko_keywords)."
   ]
  },
  {
   "cell_type": "code",
   "execution_count": 45,
   "metadata": {
    "collapsed": false
   },
   "outputs": [
    {
     "ename": "ImportError",
     "evalue": "html5lib not found, please install it",
     "output_type": "error",
     "traceback": [
      "\u001b[0;31m---------------------------------------------------------------------------\u001b[0m",
      "\u001b[0;31mImportError\u001b[0m                               Traceback (most recent call last)",
      "\u001b[0;32m<ipython-input-45-b5d08b253fe5>\u001b[0m in \u001b[0;36m<module>\u001b[0;34m()\u001b[0m\n\u001b[1;32m      1\u001b[0m \u001b[0mkw_maps_url\u001b[0m \u001b[0;34m=\u001b[0m \u001b[0;34m\"https://commons.wikimedia.org/wiki/Commons:Medelhavsmuseet/batchUploads/Mexiko_keywords\"\u001b[0m\u001b[0;34m\u001b[0m\u001b[0m\n\u001b[0;32m----> 2\u001b[0;31m \u001b[0mkw_maps_list\u001b[0m \u001b[0;34m=\u001b[0m \u001b[0mpd\u001b[0m\u001b[0;34m.\u001b[0m\u001b[0mread_html\u001b[0m\u001b[0;34m(\u001b[0m\u001b[0mkw_maps_url\u001b[0m\u001b[0;34m,\u001b[0m \u001b[0mattrs\u001b[0m \u001b[0;34m=\u001b[0m \u001b[0;34m{\u001b[0m\u001b[0;34m\"class\"\u001b[0m\u001b[0;34m:\u001b[0m\u001b[0;34m\"wikitable\"\u001b[0m\u001b[0;34m}\u001b[0m\u001b[0;34m,\u001b[0m \u001b[0mheader\u001b[0m\u001b[0;34m=\u001b[0m\u001b[0;36m0\u001b[0m\u001b[0;34m)\u001b[0m\u001b[0;34m\u001b[0m\u001b[0m\n\u001b[0m\u001b[1;32m      3\u001b[0m \u001b[0mmotivord\u001b[0m \u001b[0;34m=\u001b[0m \u001b[0mkw_maps_list\u001b[0m\u001b[0;34m[\u001b[0m\u001b[0;36m0\u001b[0m\u001b[0;34m]\u001b[0m\u001b[0;34m\u001b[0m\u001b[0m\n\u001b[1;32m      4\u001b[0m \u001b[0mbeskr_bi\u001b[0m \u001b[0;34m=\u001b[0m \u001b[0mkw_maps_list\u001b[0m\u001b[0;34m[\u001b[0m\u001b[0;36m1\u001b[0m\u001b[0;34m]\u001b[0m\u001b[0;34m\u001b[0m\u001b[0m\n\u001b[1;32m      5\u001b[0m \u001b[0mbeskr_uni\u001b[0m \u001b[0;34m=\u001b[0m \u001b[0mkw_maps_list\u001b[0m\u001b[0;34m[\u001b[0m\u001b[0;36m2\u001b[0m\u001b[0;34m]\u001b[0m\u001b[0;34m\u001b[0m\u001b[0m\n",
      "\u001b[0;32m/Users/mos/anaconda/lib/python3.5/site-packages/pandas/io/html.py\u001b[0m in \u001b[0;36mread_html\u001b[0;34m(io, match, flavor, header, index_col, skiprows, attrs, parse_dates, tupleize_cols, thousands, encoding)\u001b[0m\n\u001b[1;32m    872\u001b[0m     \u001b[0m_validate_header_arg\u001b[0m\u001b[0;34m(\u001b[0m\u001b[0mheader\u001b[0m\u001b[0;34m)\u001b[0m\u001b[0;34m\u001b[0m\u001b[0m\n\u001b[1;32m    873\u001b[0m     return _parse(flavor, io, match, header, index_col, skiprows,\n\u001b[0;32m--> 874\u001b[0;31m                   parse_dates, tupleize_cols, thousands, attrs, encoding)\n\u001b[0m",
      "\u001b[0;32m/Users/mos/anaconda/lib/python3.5/site-packages/pandas/io/html.py\u001b[0m in \u001b[0;36m_parse\u001b[0;34m(flavor, io, match, header, index_col, skiprows, parse_dates, tupleize_cols, thousands, attrs, encoding)\u001b[0m\n\u001b[1;32m    724\u001b[0m     \u001b[0mretained\u001b[0m \u001b[0;34m=\u001b[0m \u001b[0;32mNone\u001b[0m\u001b[0;34m\u001b[0m\u001b[0m\n\u001b[1;32m    725\u001b[0m     \u001b[0;32mfor\u001b[0m \u001b[0mflav\u001b[0m \u001b[0;32min\u001b[0m \u001b[0mflavor\u001b[0m\u001b[0;34m:\u001b[0m\u001b[0;34m\u001b[0m\u001b[0m\n\u001b[0;32m--> 726\u001b[0;31m         \u001b[0mparser\u001b[0m \u001b[0;34m=\u001b[0m \u001b[0m_parser_dispatch\u001b[0m\u001b[0;34m(\u001b[0m\u001b[0mflav\u001b[0m\u001b[0;34m)\u001b[0m\u001b[0;34m\u001b[0m\u001b[0m\n\u001b[0m\u001b[1;32m    727\u001b[0m         \u001b[0mp\u001b[0m \u001b[0;34m=\u001b[0m \u001b[0mparser\u001b[0m\u001b[0;34m(\u001b[0m\u001b[0mio\u001b[0m\u001b[0;34m,\u001b[0m \u001b[0mcompiled_match\u001b[0m\u001b[0;34m,\u001b[0m \u001b[0mattrs\u001b[0m\u001b[0;34m,\u001b[0m \u001b[0mencoding\u001b[0m\u001b[0;34m)\u001b[0m\u001b[0;34m\u001b[0m\u001b[0m\n\u001b[1;32m    728\u001b[0m \u001b[0;34m\u001b[0m\u001b[0m\n",
      "\u001b[0;32m/Users/mos/anaconda/lib/python3.5/site-packages/pandas/io/html.py\u001b[0m in \u001b[0;36m_parser_dispatch\u001b[0;34m(flavor)\u001b[0m\n\u001b[1;32m    668\u001b[0m     \u001b[0;32mif\u001b[0m \u001b[0mflavor\u001b[0m \u001b[0;32min\u001b[0m \u001b[0;34m(\u001b[0m\u001b[0;34m'bs4'\u001b[0m\u001b[0;34m,\u001b[0m \u001b[0;34m'html5lib'\u001b[0m\u001b[0;34m)\u001b[0m\u001b[0;34m:\u001b[0m\u001b[0;34m\u001b[0m\u001b[0m\n\u001b[1;32m    669\u001b[0m         \u001b[0;32mif\u001b[0m \u001b[0;32mnot\u001b[0m \u001b[0m_HAS_HTML5LIB\u001b[0m\u001b[0;34m:\u001b[0m\u001b[0;34m\u001b[0m\u001b[0m\n\u001b[0;32m--> 670\u001b[0;31m             \u001b[0;32mraise\u001b[0m \u001b[0mImportError\u001b[0m\u001b[0;34m(\u001b[0m\u001b[0;34m\"html5lib not found, please install it\"\u001b[0m\u001b[0;34m)\u001b[0m\u001b[0;34m\u001b[0m\u001b[0m\n\u001b[0m\u001b[1;32m    671\u001b[0m         \u001b[0;32mif\u001b[0m \u001b[0;32mnot\u001b[0m \u001b[0m_HAS_BS4\u001b[0m\u001b[0;34m:\u001b[0m\u001b[0;34m\u001b[0m\u001b[0m\n\u001b[1;32m    672\u001b[0m             raise ImportError(\n",
      "\u001b[0;31mImportError\u001b[0m: html5lib not found, please install it"
     ]
    }
   ],
   "source": [
    "kw_maps_url = \"https://commons.wikimedia.org/wiki/Commons:Medelhavsmuseet/batchUploads/Mexiko_keywords\"\n",
    "kw_maps_list = pd.read_html(kw_maps_url, attrs = {\"class\":\"wikitable\"}, header=0)\n",
    "motivord = kw_maps_list[0]\n",
    "beskr_bi = kw_maps_list[1]\n",
    "beskr_uni = kw_maps_list[2]\n",
    "kw_maps = pd.concat([motivord,beskr_bi,beskr_uni])\n",
    "#kw_maps = kw_maps.dropna()\n",
    "print(len(kw_maps))\n",
    "kw_maps = kw_maps[:][(pd.notnull(kw_maps[\"wikidata\"])) & (pd.notnull(kw_maps[\"category\"]))] # 33 at 2016-11-24\n",
    "kw_maps"
   ]
  },
  {
   "cell_type": "code",
   "execution_count": 52,
   "metadata": {
    "collapsed": false
   },
   "outputs": [
    {
     "data": {
      "text/plain": [
       "33"
      ]
     },
     "execution_count": 52,
     "metadata": {},
     "output_type": "execute_result"
    }
   ],
   "source": [
    "len(kw_maps[:][(pd.notnull(kw_maps[\"wikidata\"])) & (pd.notnull(kw_maps[\"category\"]))])"
   ]
  },
  {
   "cell_type": "markdown",
   "metadata": {},
   "source": [
    "# Create filenames and filenames-mapping file"
   ]
  },
  {
   "cell_type": "code",
   "execution_count": 24,
   "metadata": {
    "collapsed": false
   },
   "outputs": [
    {
     "name": "stdout",
     "output_type": "stream",
     "text": [
      "fname1: ['0307', 'a', '0001', 'tif']\n",
      "fname2: ['0307', 'a', '0002', 'a', 'tif']\n",
      "True\n"
     ]
    }
   ],
   "source": [
    "fname1 = \"0307.a.0001.tif\"\n",
    "fname2 = \"0307.a.0002.a.tif\"\n",
    "print(\"fname1: {}\".format(fname1.split(\".\")))\n",
    "print(\"fname2: {}\".format(fname2.split(\".\")))\n",
    "print(fname2[-1].isalpha())"
   ]
  },
  {
   "cell_type": "code",
   "execution_count": 41,
   "metadata": {
    "collapsed": false
   },
   "outputs": [
    {
     "name": "stdout",
     "output_type": "stream",
     "text": [
      "Loaded DataFrame from 'mexiko_df_final.pickle' OK\n"
     ]
    }
   ],
   "source": [
    "mexiko = pickle.load(open(\"./mexiko_df_final.pickle\",\"rb\"))\n",
    "print(\"Loaded DataFrame from 'mexiko_df_final.pickle' OK\")\n",
    "    \n",
    "def create_new_filename(row):\n",
    "    import pickle\n",
    "    \n",
    "    # Remove the extension from filename_1_clean\n",
    "    fname_parts = row[\"Fotonummer\"].split(\".\")\n",
    "    \n",
    "    # stats\n",
    "    only_generic_event_desc = 0\n",
    "    \n",
    "    def create_id_str(fname_parts):\n",
    "        id_str = None\n",
    "        if len(fname_parts) == 3 and fname_parts[-1]:\n",
    "            id_str = fname_parts[2]\n",
    "        elif len(fname_parts) == 4 and fname_parts[-1].isalpha():\n",
    "            id_str = fname_parts[2] + \".\" + fname_parts[3]\n",
    "        else:\n",
    "            print(\"Something wrong when creating ext and id_str!\")\n",
    "            print(\"fname_parts: {}\".format(fname_parts))\n",
    "            return\n",
    "                  #return print(\"ext: {}\\nid_str: {}\".format(ext, id_str))\n",
    "        return id_str # skip extension, assume all extensions are .tif\n",
    "    \n",
    "    def construct_new_name_from_dataframe(row, id_str):\n",
    "        ext = \".tif\"\n",
    "        new_fname = \"\"\n",
    "        if pd.notnull(row[\"Beskrivning\"]):\n",
    "            new_fname += row[\"Beskrivning\"]\n",
    "            new_fname += \"_-_\"\n",
    "            new_fname += \"SMVK-EM\"\n",
    "            new_fname += \"_-_\"\n",
    "            new_fname += id_str\n",
    "            \n",
    "            new_fname += ext\n",
    "            \n",
    "        elif pd.isnull(row[\"Beskrivning\"]) and pd.notnull(row[\"Händelse / var närvarande vid\"]) and pd.notnull(row[\"Motivord\"]):\n",
    "            new_fname += row[\"Motivord\"]\n",
    "            new_fname += \" \"\n",
    "            new_fname += row[\"Händelse / var närvarande vid\"]\n",
    "            new_fname += \"_-_\"\n",
    "            new_fname += \"SMVK-EM\"\n",
    "            new_fname += \"_-_\"\n",
    "            new_fname += id_str\n",
    "            new_fname += ext\n",
    "            \n",
    "        elif pd.isnull(row[\"Beskrivning\"]) and pd.notnull(row[\"Händelse / var närvarande vid\"]) and pd.isnull(row[\"Motivord\"]):\n",
    "            only_generic_event_desc += 1\n",
    "            new_fname += row[\"Händelse / var närvarande vid\"]\n",
    "            new_fname += \"_-_\"\n",
    "            new_fname += \"SMVK-EM\"\n",
    "            new_fname += \"_-_\"\n",
    "            new_fname += id_str\n",
    "            new_fname += ext\n",
    "            print(\"Fotonummer {}: only 'Händelse / var närvarande vid' added to new filename\".format(row[\"Fotonummer\"]))\n",
    "        \n",
    "        else:\n",
    "            print(\"Fotonummer {} could not be created a new filename for\".format(row[\"Fotonummer\"]))\n",
    "        print(\"type(new_fname): {}\".format(type(new_fname)))\n",
    "        return new_fname\n",
    "    \n",
    "    def compose_description(row):\n",
    "        description = \"\"\n",
    "        if pd.notnull(row[\"Beskrivning\"]):\n",
    "            description += row[\"Beskrivning\"]\n",
    "        if pd.isnull(row[\"Beskrivning\"]) and pd.notnull(row[\"Händelse / var närvarande vid\"]):\n",
    "            description += row[\"Händelse / var närvarande vid\"]\n",
    "        return description\n",
    "    \n",
    "    def append_new_filename_to_filenames_mapping_file(filenames_file, old_filename, new_filename):\n",
    "        filnames_file.write(\"{}|{}\\n\".format(old_filename, new_filename))\n",
    "        return \n",
    "    \n",
    "    id_str = create_id_str(fname_parts)\n",
    "    print(\"id_str: {}\".format(id_str))\n",
    "    if id_str:\n",
    "        fname = construct_new_name_from_dataframe(row, id_str) # without using BatchUploadTools\n",
    "        \n",
    "        return fname\n",
    "        \n",
    "        ########## Using BatchUploadTools ####################################\n",
    "        # description = compose_description(row)\n",
    "        # checked_fname = helpers.format_filename(description, \"SMVK\", id_str)\n",
    "        #print(\"fname: {}\\nchecked_fname: {}\\n\".format(fname, checked_fname))\n",
    "        #return checked_fname\n",
    "    else:\n",
    "        return print(\"Could not create a new filename for photo: {}\".format(row[\"Fotonummer\"]))\n",
    "     "
   ]
  },
  {
   "cell_type": "code",
   "execution_count": 42,
   "metadata": {
    "collapsed": false
   },
   "outputs": [],
   "source": [
    "def create_infofiles(row):\n",
    "    bad_keywords = [\"pyramid\",\"tempel\",\"Ciudadela\",\"tempelpyramid\", \"tempelpyramider\",\"ruiner\",\"fornlämningar\"]\n",
    "    outpath = \"./infofiles/\"\n",
    "    infotext = \"{{photograph\\n\"\n",
    "    \n",
    "    new_filename = create_new_filename(row)\n",
    "    \n",
    "    lacking_description = False\n",
    "    lacking_photographer = False\n",
    "    personnamn_not_even = False\n",
    "    linne_category = False\n",
    "    OK_to_upload = True\n",
    "    \n",
    "    \n",
    "    if pd.notnull(row[\"Personnamn / fotograf\"]):\n",
    "        if \"Apenes\" in row[\"Personnamn / fotograf\"]:\n",
    "            infotext +=\"|photographer       =  \" + \"[[q:Q5959424|Sigvald Linné]]/Ola Apenes\\n\"\n",
    "        elif \"Sigvald\" in row[\"Personnamn / fotograf\"]:\n",
    "            linne_category == True\n",
    "        else:\n",
    "            infotext += \"|photographer       =  \" + row[\"Personnamn / fotograf\"].strip() + \"\\n\"\n",
    "    if pd.isnull(row[\"Personnamn / fotograf\"]):\n",
    "        infotext += \"|photographer       =  \\n\"\n",
    "        lacking_photographer = True\n",
    "    \n",
    "    infotext += \"|title              = \\n\"\n",
    "    \n",
    "    if pd.notnull(row[\"Beskrivning\"]):\n",
    "        if pd.notnull(row[\"Ort, foto\"]) and pd.notnull(row[\"Motivord\"]):\n",
    "            infotext += \"|description       = {{sv|\" + row[\"Beskrivning\"] + \" \" + row[\"Ort, foto\"] + \" \" + row[\"Motivord\"] + \"}}\\n\"\n",
    "        elif pd.notnull(row[\"Ort, foto\"]) and pd.isnull(row[\"Motivord\"]):\n",
    "            infotext += \"|description       = {{sv|\" + row[\"Beskrivning\"] + \" \" + row[\"Ort, foto\"] + \"}}\\n\"\n",
    "        elif pd.isnull(row[\"Ort, foto\"]) and pd.notnull(row[\"Motivord\"]):\n",
    "            infotext += \"|description       = {{sv|\" + row[\"Beskrivning\"] + \" \" + row[\"Motivord\"] + \"}}\\n\"\n",
    "        elif pd.isnull(row[\"Ort, foto\"]) and pd.isnull(row[\"Motivord\"]):    \n",
    "            infotext += \"|description       = {{sv|\" + row[\"Beskrivning\"] + \"}}\\n\"\n",
    "    if pd.isnull(row[\"Beskrivning\"]):\n",
    "        lacking_description = True\n",
    "        if pd.isnull(row[\"Ort, foto\"]):\n",
    "            OK_to_upload = False\n",
    "        elif pd.notnull(row[\"Ort, foto\"]) and pd.notnull(row[\"Motivord\"]):\n",
    "            infotext += \"|description       = {{sv|\" + row[\"Ort, foto\"] + \" \" + row[\"Motivord\"] + \"}}\\n\"\n",
    "        \n",
    "    depicted_people = \"\"\n",
    "    if pd.notnull(row[\"Personnamn / avbildad\"]):\n",
    "        lista = row[\"Personnamn / avbildad\"].split(\", \")\n",
    "        for i, j in zip(lista[::2], lista[1::2]):\n",
    "            if j + \" \" + i == \"Sigvald Linne\":\n",
    "                linne_category = True\n",
    "                depicted_people += \"[[q:Q5959424|Sigvald Linné]] \"\n",
    "            else:\n",
    "                depicted_people += j + \" \" + i + \"/\"\n",
    "        depicted_people.rstrip(\"/\")    \n",
    "        infotext += \"|depicted people    = \" + depicted_people + \"\\n\"\n",
    "        \n",
    "    if pd.notnull(row[\"Händelse / var närvarande vid\"]):\n",
    "        infotext += \"|depicted place     = \" + row[\"Händelse / var närvarande vid\"] + \"\\n\"\n",
    "    \n",
    "    if pd.notnull(row[\"Fotodatum\"]):    \n",
    "        infotext += \"|date               = \" + row[\"Fotodatum\"] + \"\\n\"\n",
    "\n",
    "    infotext += \"|medium             = \\n\"\n",
    "    infotext += \"|dimensions         = \\n\"    \n",
    "    \n",
    "    infotext += \"|institution        = {{Institution:Statens museer för världskultur}}\\n\"\n",
    "    \n",
    "    infotext += \"|department         = [[q:Q1371375|Etnografiska muséet]]\\n\"\n",
    "    \n",
    "    infotext += \"|references         = \\n\"\n",
    "    infotext += \"|object history     = \\n\"\n",
    "    infotext += \"|exhibition history = \\n\"\n",
    "    infotext += \"|credit line        = \\n\"\n",
    "    infotext += \"|inscriptions       = \\n\"\n",
    "    infotext += \"|notes              = \\n\"\n",
    "    infotext += \"|accession number   = \\n\"\n",
    "    \n",
    "    if pd.notnull(row[\"Fotonummer\"]):\n",
    "        infotext += \"|source             = Original file name, as recieved from SMVK:  <br /> '''\" + row[\"Fotonummer\"] +\\\n",
    "        \".tif'''\\n[[SMVK cooperation project|COH]]\\n\"\n",
    "        \n",
    "    infotext += \"|permission         = {{cc-zero}}\\n\"\n",
    "    infotext += \"|other_versions     =\\n\"\n",
    "    infotext += \"}}\"\n",
    "    \n",
    "    \n",
    "    infotext += \"\\n\"\n",
    "    infotext += \"\\n[[Category:Images_from_SMVK_2016-11]]\"\n",
    "    \n",
    "    if personnamn_not_even:\n",
    "        infotext += \"\\n[[Category:Images_from_SMVK_with_faulty_depicted_persons]]\"\n",
    "    if lacking_description:\n",
    "        infotext += \"\\n[[Category:Images_from_SMVK_without_full_description]]\"\n",
    "    if lacking_photographer:\n",
    "        infotext += \"\\n[[Category:Images_from_SMVK_without_photographer]]\"\n",
    "    if linne_category == True:\n",
    "        infotext += \"\\n[[Category:Sigvald_Linné]]\"\n",
    "        \n",
    "    for index, kw in kw_maps.iterrows():\n",
    "        if row[\"Beskrivning\"].str.contains(kw[\"keyword\"]):\n",
    "            print(\"Beskrivnig: {}\\nkw found {}\\n\".format(row[\"Beskrivning\"], kw[\"keyword\"]))\n",
    "    \n",
    "    if OK_to_upload:\n",
    "        #print(\"new_filename: {} + .info\".format(new_filename))\n",
    "        outfile = open(outpath + new_filename + \".info\",\"w\")\n",
    "        outfile.write(infotext)\n",
    "        outfile.close()\n",
    "        \n",
    "    print(infotext)\n",
    "    print()"
   ]
  },
  {
   "cell_type": "code",
   "execution_count": 43,
   "metadata": {
    "collapsed": false
   },
   "outputs": [
    {
     "name": "stdout",
     "output_type": "stream",
     "text": [
      "id_str: 0001\n",
      "type(new_fname): <class 'str'>\n"
     ]
    },
    {
     "ename": "NameError",
     "evalue": "name 'kw_maps' is not defined",
     "output_type": "error",
     "traceback": [
      "\u001b[0;31m---------------------------------------------------------------------------\u001b[0m",
      "\u001b[0;31mNameError\u001b[0m                                 Traceback (most recent call last)",
      "\u001b[0;32m<ipython-input-43-33196bb8ab0c>\u001b[0m in \u001b[0;36m<module>\u001b[0;34m()\u001b[0m\n\u001b[1;32m      1\u001b[0m \u001b[0;32mfor\u001b[0m \u001b[0mindex\u001b[0m\u001b[0;34m,\u001b[0m \u001b[0mrow\u001b[0m \u001b[0;32min\u001b[0m \u001b[0mmexiko\u001b[0m\u001b[0;34m.\u001b[0m\u001b[0miterrows\u001b[0m\u001b[0;34m(\u001b[0m\u001b[0;34m)\u001b[0m\u001b[0;34m:\u001b[0m\u001b[0;34m\u001b[0m\u001b[0m\n\u001b[0;32m----> 2\u001b[0;31m     \u001b[0mcreate_infofiles\u001b[0m\u001b[0;34m(\u001b[0m\u001b[0mrow\u001b[0m\u001b[0;34m)\u001b[0m\u001b[0;34m\u001b[0m\u001b[0m\n\u001b[0m",
      "\u001b[0;32m<ipython-input-42-656e6ef8f9af>\u001b[0m in \u001b[0;36mcreate_infofiles\u001b[0;34m(row)\u001b[0m\n\u001b[1;32m     95\u001b[0m         \u001b[0minfotext\u001b[0m \u001b[0;34m+=\u001b[0m \u001b[0;34m\"\\n[[Category:Sigvald_Linné]]\"\u001b[0m\u001b[0;34m\u001b[0m\u001b[0m\n\u001b[1;32m     96\u001b[0m \u001b[0;34m\u001b[0m\u001b[0m\n\u001b[0;32m---> 97\u001b[0;31m     \u001b[0;32mfor\u001b[0m \u001b[0mindex\u001b[0m\u001b[0;34m,\u001b[0m \u001b[0mkw\u001b[0m \u001b[0;32min\u001b[0m \u001b[0mkw_maps\u001b[0m\u001b[0;34m.\u001b[0m\u001b[0miterrows\u001b[0m\u001b[0;34m(\u001b[0m\u001b[0;34m)\u001b[0m\u001b[0;34m:\u001b[0m\u001b[0;34m\u001b[0m\u001b[0m\n\u001b[0m\u001b[1;32m     98\u001b[0m         \u001b[0;32mif\u001b[0m \u001b[0mrow\u001b[0m\u001b[0;34m[\u001b[0m\u001b[0;34m\"Beskrivning\"\u001b[0m\u001b[0;34m]\u001b[0m\u001b[0;34m.\u001b[0m\u001b[0mstr\u001b[0m\u001b[0;34m.\u001b[0m\u001b[0mcontains\u001b[0m\u001b[0;34m(\u001b[0m\u001b[0mkw\u001b[0m\u001b[0;34m[\u001b[0m\u001b[0;34m\"keyword\"\u001b[0m\u001b[0;34m]\u001b[0m\u001b[0;34m)\u001b[0m\u001b[0;34m:\u001b[0m\u001b[0;34m\u001b[0m\u001b[0m\n\u001b[1;32m     99\u001b[0m             \u001b[0mprint\u001b[0m\u001b[0;34m(\u001b[0m\u001b[0;34m\"Beskrivnig: {}\\nkw found {}\\n\"\u001b[0m\u001b[0;34m.\u001b[0m\u001b[0mformat\u001b[0m\u001b[0;34m(\u001b[0m\u001b[0mrow\u001b[0m\u001b[0;34m[\u001b[0m\u001b[0;34m\"Beskrivning\"\u001b[0m\u001b[0;34m]\u001b[0m\u001b[0;34m,\u001b[0m \u001b[0mkw\u001b[0m\u001b[0;34m[\u001b[0m\u001b[0;34m\"keyword\"\u001b[0m\u001b[0;34m]\u001b[0m\u001b[0;34m)\u001b[0m\u001b[0;34m)\u001b[0m\u001b[0;34m\u001b[0m\u001b[0m\n",
      "\u001b[0;31mNameError\u001b[0m: name 'kw_maps' is not defined"
     ]
    }
   ],
   "source": [
    "for index, row in mexiko.iterrows():\n",
    "    create_infofiles(row)"
   ]
  },
  {
   "cell_type": "code",
   "execution_count": 68,
   "metadata": {
    "collapsed": false
   },
   "outputs": [
    {
     "ename": "ImportError",
     "evalue": "No module named 'future'",
     "output_type": "error",
     "traceback": [
      "\u001b[0;31m---------------------------------------------------------------------------\u001b[0m",
      "\u001b[0;31mImportError\u001b[0m                               Traceback (most recent call last)",
      "\u001b[0;32m<ipython-input-68-ae03c59385f6>\u001b[0m in \u001b[0;36m<module>\u001b[0;34m()\u001b[0m\n\u001b[1;32m      1\u001b[0m \u001b[0;32mimport\u001b[0m \u001b[0mimportlib\u001b[0m\u001b[0;34m\u001b[0m\u001b[0m\n\u001b[0;32m----> 2\u001b[0;31m \u001b[0mimportlib\u001b[0m\u001b[0;34m.\u001b[0m\u001b[0mreload\u001b[0m\u001b[0;34m(\u001b[0m\u001b[0mhelpers\u001b[0m\u001b[0;34m)\u001b[0m\u001b[0;34m\u001b[0m\u001b[0m\n\u001b[0m",
      "\u001b[0;32m/home/mos/anaconda3/lib/python3.5/importlib/__init__.py\u001b[0m in \u001b[0;36mreload\u001b[0;34m(module)\u001b[0m\n\u001b[1;32m    164\u001b[0m         \u001b[0mtarget\u001b[0m \u001b[0;34m=\u001b[0m \u001b[0mmodule\u001b[0m\u001b[0;34m\u001b[0m\u001b[0m\n\u001b[1;32m    165\u001b[0m         \u001b[0mspec\u001b[0m \u001b[0;34m=\u001b[0m \u001b[0mmodule\u001b[0m\u001b[0;34m.\u001b[0m\u001b[0m__spec__\u001b[0m \u001b[0;34m=\u001b[0m \u001b[0m_bootstrap\u001b[0m\u001b[0;34m.\u001b[0m\u001b[0m_find_spec\u001b[0m\u001b[0;34m(\u001b[0m\u001b[0mname\u001b[0m\u001b[0;34m,\u001b[0m \u001b[0mpkgpath\u001b[0m\u001b[0;34m,\u001b[0m \u001b[0mtarget\u001b[0m\u001b[0;34m)\u001b[0m\u001b[0;34m\u001b[0m\u001b[0m\n\u001b[0;32m--> 166\u001b[0;31m         \u001b[0m_bootstrap\u001b[0m\u001b[0;34m.\u001b[0m\u001b[0m_exec\u001b[0m\u001b[0;34m(\u001b[0m\u001b[0mspec\u001b[0m\u001b[0;34m,\u001b[0m \u001b[0mmodule\u001b[0m\u001b[0;34m)\u001b[0m\u001b[0;34m\u001b[0m\u001b[0m\n\u001b[0m\u001b[1;32m    167\u001b[0m         \u001b[0;31m# The module may have replaced itself in sys.modules!\u001b[0m\u001b[0;34m\u001b[0m\u001b[0;34m\u001b[0m\u001b[0m\n\u001b[1;32m    168\u001b[0m         \u001b[0;32mreturn\u001b[0m \u001b[0msys\u001b[0m\u001b[0;34m.\u001b[0m\u001b[0mmodules\u001b[0m\u001b[0;34m[\u001b[0m\u001b[0mname\u001b[0m\u001b[0;34m]\u001b[0m\u001b[0;34m\u001b[0m\u001b[0m\n",
      "\u001b[0;32m/home/mos/anaconda3/lib/python3.5/importlib/_bootstrap.py\u001b[0m in \u001b[0;36m_exec\u001b[0;34m(spec, module)\u001b[0m\n",
      "\u001b[0;32m/home/mos/anaconda3/lib/python3.5/importlib/_bootstrap_external.py\u001b[0m in \u001b[0;36mexec_module\u001b[0;34m(self, module)\u001b[0m\n",
      "\u001b[0;32m/home/mos/anaconda3/lib/python3.5/importlib/_bootstrap.py\u001b[0m in \u001b[0;36m_call_with_frames_removed\u001b[0;34m(f, *args, **kwds)\u001b[0m\n",
      "\u001b[0;32m/home/mos/anaconda3/lib/python3.5/site-packages/batchupload/helpers.py\u001b[0m in \u001b[0;36m<module>\u001b[0;34m()\u001b[0m\n\u001b[1;32m      6\u001b[0m \u001b[0;32mimport\u001b[0m \u001b[0mlocale\u001b[0m  \u001b[0;31m# needed by convertFromCommandline()\u001b[0m\u001b[0;34m\u001b[0m\u001b[0m\n\u001b[1;32m      7\u001b[0m \u001b[0;32mimport\u001b[0m \u001b[0mbatchupload\u001b[0m\u001b[0;34m.\u001b[0m\u001b[0mcommon\u001b[0m \u001b[0;32mas\u001b[0m \u001b[0mcommon\u001b[0m\u001b[0;34m\u001b[0m\u001b[0m\n\u001b[0;32m----> 8\u001b[0;31m \u001b[0;32mfrom\u001b[0m \u001b[0mfuture\u001b[0m\u001b[0;34m.\u001b[0m\u001b[0mutils\u001b[0m \u001b[0;32mimport\u001b[0m \u001b[0miteritems\u001b[0m\u001b[0;34m\u001b[0m\u001b[0m\n\u001b[0m\u001b[1;32m      9\u001b[0m \u001b[0;34m\u001b[0m\u001b[0m\n\u001b[1;32m     10\u001b[0m \u001b[0;31m# limitations on namelength\u001b[0m\u001b[0;34m\u001b[0m\u001b[0;34m\u001b[0m\u001b[0m\n",
      "\u001b[0;31mImportError\u001b[0m: No module named 'future'"
     ]
    }
   ],
   "source": [
    "import importlib\n",
    "importlib.reload(helpers)"
   ]
  },
  {
   "cell_type": "code",
   "execution_count": 12,
   "metadata": {
    "collapsed": false
   },
   "outputs": [
    {
     "ename": "AttributeError",
     "evalue": "'dict' object has no attribute 'iteritems'",
     "output_type": "error",
     "traceback": [
      "\u001b[0;31m---------------------------------------------------------------------------\u001b[0m",
      "\u001b[0;31mAttributeError\u001b[0m                            Traceback (most recent call last)",
      "\u001b[0;32m<ipython-input-12-2ca6d9403139>\u001b[0m in \u001b[0;36m<module>\u001b[0;34m()\u001b[0m\n\u001b[1;32m      3\u001b[0m \u001b[0;34m\u001b[0m\u001b[0m\n\u001b[1;32m      4\u001b[0m \u001b[0;32mfor\u001b[0m \u001b[0mindex\u001b[0m\u001b[0;34m,\u001b[0m \u001b[0mrow\u001b[0m \u001b[0;32min\u001b[0m \u001b[0mmexiko\u001b[0m\u001b[0;34m.\u001b[0m\u001b[0miterrows\u001b[0m\u001b[0;34m(\u001b[0m\u001b[0;34m)\u001b[0m\u001b[0;34m:\u001b[0m\u001b[0;34m\u001b[0m\u001b[0m\n\u001b[0;32m----> 5\u001b[0;31m     \u001b[0mnew_filename\u001b[0m \u001b[0;34m=\u001b[0m \u001b[0mcreate_new_filename\u001b[0m\u001b[0;34m(\u001b[0m\u001b[0mrow\u001b[0m\u001b[0;34m)\u001b[0m\u001b[0;34m\u001b[0m\u001b[0m\n\u001b[0m\u001b[1;32m      6\u001b[0m     \u001b[0mappend_new_filename_to_filenames_mapping_file\u001b[0m\u001b[0;34m(\u001b[0m\u001b[0mfilenames_file\u001b[0m\u001b[0;34m,\u001b[0m \u001b[0mrow\u001b[0m\u001b[0;34m[\u001b[0m\u001b[0;34m\"Fotonummer\"\u001b[0m\u001b[0;34m]\u001b[0m \u001b[0;34m+\u001b[0m \u001b[0;34m\".tif\"\u001b[0m\u001b[0;34m,\u001b[0m \u001b[0mnew_filename\u001b[0m\u001b[0;34m)\u001b[0m\u001b[0;34m\u001b[0m\u001b[0m\n\u001b[1;32m      7\u001b[0m     \u001b[0mcreate_infofiles\u001b[0m\u001b[0;34m(\u001b[0m\u001b[0mrow\u001b[0m\u001b[0;34m)\u001b[0m\u001b[0;34m\u001b[0m\u001b[0m\n",
      "\u001b[0;32m<ipython-input-10-e5498f5b3397>\u001b[0m in \u001b[0;36mcreate_new_filename\u001b[0;34m(row)\u001b[0m\n\u001b[1;32m     55\u001b[0m     \u001b[0;32mif\u001b[0m \u001b[0mid_str\u001b[0m\u001b[0;34m:\u001b[0m\u001b[0;34m\u001b[0m\u001b[0m\n\u001b[1;32m     56\u001b[0m         \u001b[0mfname\u001b[0m \u001b[0;34m=\u001b[0m \u001b[0mconstruct_new_name_from_dataframe\u001b[0m\u001b[0;34m(\u001b[0m\u001b[0mrow\u001b[0m\u001b[0;34m,\u001b[0m \u001b[0mid_str\u001b[0m\u001b[0;34m)\u001b[0m\u001b[0;34m\u001b[0m\u001b[0m\n\u001b[0;32m---> 57\u001b[0;31m         \u001b[0mchecked_fname\u001b[0m \u001b[0;34m=\u001b[0m \u001b[0mhelpers\u001b[0m\u001b[0;34m.\u001b[0m\u001b[0mformat_filename\u001b[0m\u001b[0;34m(\u001b[0m\u001b[0mfname\u001b[0m\u001b[0;34m,\u001b[0m \u001b[0;34m\"SMVK\"\u001b[0m\u001b[0;34m,\u001b[0m \u001b[0mid_str\u001b[0m\u001b[0;34m)\u001b[0m\u001b[0;34m\u001b[0m\u001b[0m\n\u001b[0m\u001b[1;32m     58\u001b[0m         \u001b[0mprint\u001b[0m\u001b[0;34m(\u001b[0m\u001b[0;34m\"fname: {}\\nchecked_fname: {}\\n\"\u001b[0m\u001b[0;34m.\u001b[0m\u001b[0mformat\u001b[0m\u001b[0;34m(\u001b[0m\u001b[0mfname\u001b[0m\u001b[0;34m,\u001b[0m \u001b[0mchecked_fname\u001b[0m\u001b[0;34m)\u001b[0m\u001b[0;34m)\u001b[0m\u001b[0;34m\u001b[0m\u001b[0m\n\u001b[1;32m     59\u001b[0m         \u001b[0;32mreturn\u001b[0m \u001b[0mfname\u001b[0m\u001b[0;34m\u001b[0m\u001b[0m\n",
      "\u001b[0;32m/home/mos/anaconda3/lib/python3.5/site-packages/batchupload/helpers.py\u001b[0m in \u001b[0;36mformat_filename\u001b[0;34m(descr, institution, idno, delimiter)\u001b[0m\n\u001b[1;32m     90\u001b[0m     \"\"\"\n\u001b[1;32m     91\u001b[0m     \u001b[0mdelimiter\u001b[0m \u001b[0;34m=\u001b[0m \u001b[0mdelimiter\u001b[0m \u001b[0;32mor\u001b[0m \u001b[0;34mu' - '\u001b[0m\u001b[0;34m\u001b[0m\u001b[0m\n\u001b[0;32m---> 92\u001b[0;31m     \u001b[0mdescr\u001b[0m \u001b[0;34m=\u001b[0m \u001b[0mshortenString\u001b[0m\u001b[0;34m(\u001b[0m\u001b[0mtouchup\u001b[0m\u001b[0;34m(\u001b[0m\u001b[0mcleanString\u001b[0m\u001b[0;34m(\u001b[0m\u001b[0mdescr\u001b[0m\u001b[0;34m)\u001b[0m\u001b[0;34m,\u001b[0m \u001b[0mdelimiter\u001b[0m\u001b[0;34m)\u001b[0m\u001b[0;34m)\u001b[0m\u001b[0;34m\u001b[0m\u001b[0m\n\u001b[0m\u001b[1;32m     93\u001b[0m     \u001b[0minstitution\u001b[0m \u001b[0;34m=\u001b[0m \u001b[0mcleanString\u001b[0m\u001b[0;34m(\u001b[0m\u001b[0minstitution\u001b[0m\u001b[0;34m)\u001b[0m\u001b[0;34m\u001b[0m\u001b[0m\n\u001b[1;32m     94\u001b[0m     \u001b[0midno\u001b[0m \u001b[0;34m=\u001b[0m \u001b[0mcleanString\u001b[0m\u001b[0;34m(\u001b[0m\u001b[0midno\u001b[0m\u001b[0;34m)\u001b[0m\u001b[0;34m\u001b[0m\u001b[0m\n",
      "\u001b[0;32m/home/mos/anaconda3/lib/python3.5/site-packages/batchupload/helpers.py\u001b[0m in \u001b[0;36mcleanString\u001b[0;34m(text)\u001b[0m\n\u001b[1;32m    110\u001b[0m                 \u001b[0;34mu'e´'\u001b[0m\u001b[0;34m:\u001b[0m \u001b[0;34mu'é'\u001b[0m\u001b[0;34m,\u001b[0m\u001b[0;34m\u001b[0m\u001b[0m\n\u001b[1;32m    111\u001b[0m                 u'”': u' ', u'\"': u' ', u'“': u' '}\n\u001b[0;32m--> 112\u001b[0;31m     \u001b[0;32mfor\u001b[0m \u001b[0mk\u001b[0m\u001b[0;34m,\u001b[0m \u001b[0mv\u001b[0m \u001b[0;32min\u001b[0m \u001b[0mbad_char\u001b[0m\u001b[0;34m.\u001b[0m\u001b[0miteritems\u001b[0m\u001b[0;34m(\u001b[0m\u001b[0;34m)\u001b[0m\u001b[0;34m:\u001b[0m\u001b[0;34m\u001b[0m\u001b[0m\n\u001b[0m\u001b[1;32m    113\u001b[0m         \u001b[0mtext\u001b[0m \u001b[0;34m=\u001b[0m \u001b[0mtext\u001b[0m\u001b[0;34m.\u001b[0m\u001b[0mreplace\u001b[0m\u001b[0;34m(\u001b[0m\u001b[0mk\u001b[0m\u001b[0;34m,\u001b[0m \u001b[0mv\u001b[0m\u001b[0;34m)\u001b[0m\u001b[0;34m\u001b[0m\u001b[0m\n\u001b[1;32m    114\u001b[0m \u001b[0;34m\u001b[0m\u001b[0m\n",
      "\u001b[0;31mAttributeError\u001b[0m: 'dict' object has no attribute 'iteritems'"
     ]
    }
   ],
   "source": [
    "filenames_file = open(\"./mexiko_filenames_mappings.csv\",\"w\")\n",
    "filenames_file.write(\"Original|Commons\\n\")\n",
    "\n",
    "for index, row in mexiko.iterrows():\n",
    "    new_filename = create_new_filename(row)\n",
    "    append_new_filename_to_filenames_mapping_file(filenames_file, row[\"Fotonummer\"] + \".tif\", new_filename)\n",
    "    create_infofiles(row)"
   ]
  },
  {
   "cell_type": "code",
   "execution_count": null,
   "metadata": {
    "collapsed": true
   },
   "outputs": [],
   "source": [
    "total_images = 0\n",
    "OK_images = 0\n",
    "uncategorized_images = 0\n",
    "faulty_images = 0\n",
    "\n",
    "filenames_file = open(\"./filenames_mapping.csv\",\"w\")\n",
    "filenames_file.write(\"Folder|Original|Commons\\n\")\n",
    "    \n",
    "for row_index, row in mexiko.iterrows():\n",
    "    filename = create_filename(row[\"Folder\"], row[\"Filename\"])\n",
    "    save_filename_to_filename_file(filenames_file, filename)\n",
    "    create_infofile(row, filename)\n",
    "    #print(\"Stats: \\nTotal images {}\\nOK images {}\\nUncategorized images {}\\nImages missing author {}\".format(total_images, OK_images - faulty_images, uncategorized_images, faulty_images ))\n",
    "#print(\"Total Stats: \\nTotal images {}\\nOK images {}\\nUncategorized images {}\\nImages missing author {}\".format(total_images, OK_images - faulty_images, uncategorized_images, faulty_images ))\n",
    "print(\"Uncategorized images: {} out of {}\".format(uncategorized_images, total_images))"
   ]
  },
  {
   "cell_type": "markdown",
   "metadata": {},
   "source": [
    "# 2. Create new filenames for the images"
   ]
  },
  {
   "cell_type": "raw",
   "metadata": {},
   "source": [
    "$ cypern.columns\n",
    "\n",
    "Index(['Fotonummer', 'Postnr.', 'Nyckelord', 'Beskrivning', 'Land, foto',\n",
    "       'Region, foto', 'Ort, foto', 'Geograf namn, alternativ', 'Fotodatum',\n",
    "       'Personnamn / fotograf', 'Personnamn / avbildad', 'Sökord',\n",
    "       'Händelse / var närvarande vid', 'Länk'],\n",
    "      dtype='object')"
   ]
  },
  {
   "cell_type": "code",
   "execution_count": null,
   "metadata": {
    "collapsed": true
   },
   "outputs": [],
   "source": [
    "def save_filename_to_filename_file(filname_file, filename):\n",
    "    \"\"\"Create a file mapping original filenames and their folders with new\n",
    "    Commons filenames according to <Task X on Phabricator>\"\"\"\n",
    "    folder = row[\"Folder\"]\n",
    "    file = row[\"Filename\"]\n",
    "    # Filename: <Filename_1_clean>_-_DecArch_-_<Folder_#>-<Filename_0_clean>.<ext>\n",
    "    \n",
    "    #print(\"filename: {}\".format(filename))\n",
    "    filenames_file.write(\"{}|{}|{}\\n\".format(row[\"Folder\"],row[\"Filename\"],filename))"
   ]
  },
  {
   "cell_type": "code",
   "execution_count": null,
   "metadata": {
    "collapsed": false
   },
   "outputs": [],
   "source": [
    "def get_foldernames_and_filenames(inpath):\n",
    "    "
   ]
  },
  {
   "cell_type": "code",
   "execution_count": null,
   "metadata": {
    "collapsed": true
   },
   "outputs": [],
   "source": [
    "def create_filenames(fold, foldobj):\n",
    "    "
   ]
  },
  {
   "cell_type": "code",
   "execution_count": null,
   "metadata": {
    "collapsed": true
   },
   "outputs": [],
   "source": [
    "filenames_file = open(\"./filenames_mapping.csv\",\"w\")\n",
    "filenames_file.write(\"Folder|Original|Commons\\n\")\n",
    "\n",
    "for row_index, row in cypern.iterrows():\n",
    "    filename = create_filename(row[\"Folder\"], row[\"Filename\"])\n",
    "    save_filename_to_filename_file(filenames_file, filename)"
   ]
  },
  {
   "cell_type": "markdown",
   "metadata": {},
   "source": [
    "Infobox mapping is available on [Phabricator](https://phabricator.wikimedia.org/T144485)"
   ]
  },
  {
   "cell_type": "code",
   "execution_count": null,
   "metadata": {
    "collapsed": true
   },
   "outputs": [],
   "source": [
    "filenames_dict = {}\n",
    "for index, row in cypern.iterrows():\n",
    "    "
   ]
  }
 ],
 "metadata": {
  "kernelspec": {
   "display_name": "Python 3",
   "language": "python",
   "name": "python3"
  },
  "language_info": {
   "codemirror_mode": {
    "name": "ipython",
    "version": 3
   },
   "file_extension": ".py",
   "mimetype": "text/x-python",
   "name": "python",
   "nbconvert_exporter": "python",
   "pygments_lexer": "ipython3",
   "version": "3.5.2"
  }
 },
 "nbformat": 4,
 "nbformat_minor": 0
}
