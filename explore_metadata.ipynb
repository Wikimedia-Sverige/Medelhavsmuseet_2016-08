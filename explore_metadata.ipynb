{
 "cells": [
  {
   "cell_type": "code",
   "execution_count": null,
   "metadata": {
    "collapsed": true
   },
   "outputs": [],
   "source": [
    "BOKEH_LOG_LEVEL='trace'"
   ]
  },
  {
   "cell_type": "code",
   "execution_count": 1,
   "metadata": {
    "collapsed": false
   },
   "outputs": [
    {
     "name": "stdout",
     "output_type": "stream",
     "text": [
      "Populating the interactive namespace from numpy and matplotlib\n"
     ]
    }
   ],
   "source": [
    "from IPython.display import HTML\n",
    "import bokeh\n",
    "import pandas as pd\n",
    "#\n",
    "%pylab inline\n",
    "\n",
    "from bokeh.plotting import figure, show, output_file\n",
    "from bokeh.io import output_notebook"
   ]
  },
  {
   "cell_type": "code",
   "execution_count": 2,
   "metadata": {
    "collapsed": false
   },
   "outputs": [],
   "source": [
    "cypern = pd.read_excel(\"./excel-export.xls\",sheetname=\"Cypern\")\n",
    "mexiko = pd.read_excel(\"./excel-export.xls\",sheetname=\"Mexiko\")"
   ]
  },
  {
   "cell_type": "code",
   "execution_count": 3,
   "metadata": {
    "collapsed": false
   },
   "outputs": [
    {
     "name": "stdout",
     "output_type": "stream",
     "text": [
      "<class 'pandas.core.frame.DataFrame'>\n",
      "RangeIndex: 614 entries, 0 to 613\n",
      "Data columns (total 14 columns):\n",
      "Fotonummer                       614 non-null object\n",
      "Postnr.                          614 non-null int64\n",
      "Nyckelord                        613 non-null object\n",
      "Beskrivning                      608 non-null object\n",
      "Land, foto                       572 non-null object\n",
      "Region, foto                     61 non-null object\n",
      "Ort, foto                        290 non-null object\n",
      "Geograf namn, alternativ         18 non-null object\n",
      "Fotodatum                        504 non-null object\n",
      "Personnamn / fotograf            592 non-null object\n",
      "Personnamn / avbildad            90 non-null object\n",
      "Sökord                           0 non-null float64\n",
      "Händelse / var närvarande vid    0 non-null float64\n",
      "Länk                             614 non-null object\n",
      "dtypes: float64(2), int64(1), object(11)\n",
      "memory usage: 67.2+ KB\n"
     ]
    }
   ],
   "source": [
    "cypern.info()"
   ]
  },
  {
   "cell_type": "code",
   "execution_count": 4,
   "metadata": {
    "collapsed": false
   },
   "outputs": [
    {
     "name": "stdout",
     "output_type": "stream",
     "text": [
      "<class 'pandas.core.frame.DataFrame'>\n",
      "RangeIndex: 1442 entries, 0 to 1441\n",
      "Data columns (total 14 columns):\n",
      "Fotonummer                       1442 non-null object\n",
      "Postnr.                          1442 non-null int64\n",
      "Motivord                         530 non-null object\n",
      "Beskrivning                      642 non-null object\n",
      "Land, foto                       1440 non-null object\n",
      "Region, foto                     920 non-null object\n",
      "Ort, foto                        1087 non-null object\n",
      "Etnisk grupp, avb.               7 non-null object\n",
      "Fotodatum                        1439 non-null float64\n",
      "Personnamn / fotograf            1436 non-null object\n",
      "Personnamn / avbildad            38 non-null object\n",
      "Sökord                           489 non-null object\n",
      "Händelse / var närvarande vid    1440 non-null object\n",
      "Länk                             1442 non-null object\n",
      "dtypes: float64(1), int64(1), object(12)\n",
      "memory usage: 157.8+ KB\n"
     ]
    }
   ],
   "source": [
    "mexiko.info()"
   ]
  },
  {
   "cell_type": "markdown",
   "metadata": {},
   "source": [
    "# General fill-ins analysis"
   ]
  },
  {
   "cell_type": "code",
   "execution_count": 5,
   "metadata": {
    "collapsed": false
   },
   "outputs": [
    {
     "data": {
      "text/html": [
       "<div>\n",
       "<table border=\"1\" class=\"dataframe\">\n",
       "  <thead>\n",
       "    <tr style=\"text-align: right;\">\n",
       "      <th></th>\n",
       "      <th>Ifyllda</th>\n",
       "      <th>Tomma</th>\n",
       "      <th>Prc</th>\n",
       "    </tr>\n",
       "  </thead>\n",
       "  <tbody>\n",
       "    <tr>\n",
       "      <th>Sökord</th>\n",
       "      <td>0</td>\n",
       "      <td>614</td>\n",
       "      <td>0.425798</td>\n",
       "    </tr>\n",
       "    <tr>\n",
       "      <th>Händelse / var närvarande vid</th>\n",
       "      <td>0</td>\n",
       "      <td>614</td>\n",
       "      <td>0.425798</td>\n",
       "    </tr>\n",
       "    <tr>\n",
       "      <th>Geograf namn, alternativ</th>\n",
       "      <td>18</td>\n",
       "      <td>596</td>\n",
       "      <td>0.413315</td>\n",
       "    </tr>\n",
       "    <tr>\n",
       "      <th>Region, foto</th>\n",
       "      <td>61</td>\n",
       "      <td>553</td>\n",
       "      <td>0.383495</td>\n",
       "    </tr>\n",
       "    <tr>\n",
       "      <th>Personnamn / avbildad</th>\n",
       "      <td>90</td>\n",
       "      <td>524</td>\n",
       "      <td>0.363384</td>\n",
       "    </tr>\n",
       "    <tr>\n",
       "      <th>Ort, foto</th>\n",
       "      <td>290</td>\n",
       "      <td>324</td>\n",
       "      <td>0.224688</td>\n",
       "    </tr>\n",
       "    <tr>\n",
       "      <th>Fotodatum</th>\n",
       "      <td>504</td>\n",
       "      <td>110</td>\n",
       "      <td>0.076283</td>\n",
       "    </tr>\n",
       "    <tr>\n",
       "      <th>Land, foto</th>\n",
       "      <td>572</td>\n",
       "      <td>42</td>\n",
       "      <td>0.029126</td>\n",
       "    </tr>\n",
       "    <tr>\n",
       "      <th>Personnamn / fotograf</th>\n",
       "      <td>592</td>\n",
       "      <td>22</td>\n",
       "      <td>0.015257</td>\n",
       "    </tr>\n",
       "    <tr>\n",
       "      <th>Beskrivning</th>\n",
       "      <td>608</td>\n",
       "      <td>6</td>\n",
       "      <td>0.004161</td>\n",
       "    </tr>\n",
       "    <tr>\n",
       "      <th>Nyckelord</th>\n",
       "      <td>613</td>\n",
       "      <td>1</td>\n",
       "      <td>0.000693</td>\n",
       "    </tr>\n",
       "    <tr>\n",
       "      <th>Fotonummer</th>\n",
       "      <td>614</td>\n",
       "      <td>0</td>\n",
       "      <td>0.000000</td>\n",
       "    </tr>\n",
       "    <tr>\n",
       "      <th>Postnr.</th>\n",
       "      <td>614</td>\n",
       "      <td>0</td>\n",
       "      <td>0.000000</td>\n",
       "    </tr>\n",
       "    <tr>\n",
       "      <th>Länk</th>\n",
       "      <td>614</td>\n",
       "      <td>0</td>\n",
       "      <td>0.000000</td>\n",
       "    </tr>\n",
       "  </tbody>\n",
       "</table>\n",
       "</div>"
      ],
      "text/plain": [
       "                               Ifyllda  Tomma       Prc\n",
       "Sökord                               0    614  0.425798\n",
       "Händelse / var närvarande vid        0    614  0.425798\n",
       "Geograf namn, alternativ            18    596  0.413315\n",
       "Region, foto                        61    553  0.383495\n",
       "Personnamn / avbildad               90    524  0.363384\n",
       "Ort, foto                          290    324  0.224688\n",
       "Fotodatum                          504    110  0.076283\n",
       "Land, foto                         572     42  0.029126\n",
       "Personnamn / fotograf              592     22  0.015257\n",
       "Beskrivning                        608      6  0.004161\n",
       "Nyckelord                          613      1  0.000693\n",
       "Fotonummer                         614      0  0.000000\n",
       "Postnr.                            614      0  0.000000\n",
       "Länk                               614      0  0.000000"
      ]
     },
     "execution_count": 5,
     "metadata": {},
     "output_type": "execute_result"
    }
   ],
   "source": [
    "cyp = pd.DataFrame({\"Ifyllda\":cypern.count(),\"Tomma\":cypern.isnull().sum()})\n",
    "cyp[\"Prc\"] = cyp[\"Tomma\"] / 1442\n",
    "cyp = cyp.sort_values(by=\"Prc\",ascending=False, inplace=False)\n",
    "cyp"
   ]
  },
  {
   "cell_type": "code",
   "execution_count": 6,
   "metadata": {
    "collapsed": false
   },
   "outputs": [
    {
     "data": {
      "text/html": [
       "<div>\n",
       "<table border=\"1\" class=\"dataframe\">\n",
       "  <thead>\n",
       "    <tr style=\"text-align: right;\">\n",
       "      <th></th>\n",
       "      <th>Ifyllda</th>\n",
       "      <th>Tomma</th>\n",
       "      <th>Prc</th>\n",
       "    </tr>\n",
       "  </thead>\n",
       "  <tbody>\n",
       "    <tr>\n",
       "      <th>Etnisk grupp, avb.</th>\n",
       "      <td>7</td>\n",
       "      <td>1435</td>\n",
       "      <td>0.995146</td>\n",
       "    </tr>\n",
       "    <tr>\n",
       "      <th>Personnamn / avbildad</th>\n",
       "      <td>38</td>\n",
       "      <td>1404</td>\n",
       "      <td>0.973648</td>\n",
       "    </tr>\n",
       "    <tr>\n",
       "      <th>Sökord</th>\n",
       "      <td>489</td>\n",
       "      <td>953</td>\n",
       "      <td>0.660888</td>\n",
       "    </tr>\n",
       "    <tr>\n",
       "      <th>Motivord</th>\n",
       "      <td>530</td>\n",
       "      <td>912</td>\n",
       "      <td>0.632455</td>\n",
       "    </tr>\n",
       "    <tr>\n",
       "      <th>Beskrivning</th>\n",
       "      <td>642</td>\n",
       "      <td>800</td>\n",
       "      <td>0.554785</td>\n",
       "    </tr>\n",
       "    <tr>\n",
       "      <th>Region, foto</th>\n",
       "      <td>920</td>\n",
       "      <td>522</td>\n",
       "      <td>0.361997</td>\n",
       "    </tr>\n",
       "    <tr>\n",
       "      <th>Ort, foto</th>\n",
       "      <td>1087</td>\n",
       "      <td>355</td>\n",
       "      <td>0.246186</td>\n",
       "    </tr>\n",
       "    <tr>\n",
       "      <th>Personnamn / fotograf</th>\n",
       "      <td>1436</td>\n",
       "      <td>6</td>\n",
       "      <td>0.004161</td>\n",
       "    </tr>\n",
       "    <tr>\n",
       "      <th>Fotodatum</th>\n",
       "      <td>1439</td>\n",
       "      <td>3</td>\n",
       "      <td>0.002080</td>\n",
       "    </tr>\n",
       "    <tr>\n",
       "      <th>Land, foto</th>\n",
       "      <td>1440</td>\n",
       "      <td>2</td>\n",
       "      <td>0.001387</td>\n",
       "    </tr>\n",
       "    <tr>\n",
       "      <th>Händelse / var närvarande vid</th>\n",
       "      <td>1440</td>\n",
       "      <td>2</td>\n",
       "      <td>0.001387</td>\n",
       "    </tr>\n",
       "    <tr>\n",
       "      <th>Fotonummer</th>\n",
       "      <td>1442</td>\n",
       "      <td>0</td>\n",
       "      <td>0.000000</td>\n",
       "    </tr>\n",
       "    <tr>\n",
       "      <th>Postnr.</th>\n",
       "      <td>1442</td>\n",
       "      <td>0</td>\n",
       "      <td>0.000000</td>\n",
       "    </tr>\n",
       "    <tr>\n",
       "      <th>Länk</th>\n",
       "      <td>1442</td>\n",
       "      <td>0</td>\n",
       "      <td>0.000000</td>\n",
       "    </tr>\n",
       "  </tbody>\n",
       "</table>\n",
       "</div>"
      ],
      "text/plain": [
       "                               Ifyllda  Tomma       Prc\n",
       "Etnisk grupp, avb.                   7   1435  0.995146\n",
       "Personnamn / avbildad               38   1404  0.973648\n",
       "Sökord                             489    953  0.660888\n",
       "Motivord                           530    912  0.632455\n",
       "Beskrivning                        642    800  0.554785\n",
       "Region, foto                       920    522  0.361997\n",
       "Ort, foto                         1087    355  0.246186\n",
       "Personnamn / fotograf             1436      6  0.004161\n",
       "Fotodatum                         1439      3  0.002080\n",
       "Land, foto                        1440      2  0.001387\n",
       "Händelse / var närvarande vid     1440      2  0.001387\n",
       "Fotonummer                        1442      0  0.000000\n",
       "Postnr.                           1442      0  0.000000\n",
       "Länk                              1442      0  0.000000"
      ]
     },
     "execution_count": 6,
     "metadata": {},
     "output_type": "execute_result"
    }
   ],
   "source": [
    "mex = pd.DataFrame({\"Ifyllda\":mexiko.count(),\"Tomma\":mexiko.isnull().sum()})\n",
    "mex[\"Prc\"] = mex[\"Tomma\"] / 1442\n",
    "mex = mex.sort_values(by=\"Prc\",ascending=False, inplace=False)\n",
    "mex"
   ]
  },
  {
   "cell_type": "code",
   "execution_count": 16,
   "metadata": {
    "collapsed": false
   },
   "outputs": [
    {
     "data": {
      "text/html": [
       "<div>\n",
       "<table border=\"1\" class=\"dataframe\">\n",
       "  <thead>\n",
       "    <tr>\n",
       "      <th></th>\n",
       "      <th colspan=\"3\" halign=\"left\">Mexiko</th>\n",
       "      <th colspan=\"3\" halign=\"left\">Cypern</th>\n",
       "    </tr>\n",
       "    <tr>\n",
       "      <th></th>\n",
       "      <th>Ifyllda</th>\n",
       "      <th>Tomma</th>\n",
       "      <th>Prc</th>\n",
       "      <th>Ifyllda</th>\n",
       "      <th>Tomma</th>\n",
       "      <th>Prc</th>\n",
       "    </tr>\n",
       "  </thead>\n",
       "  <tbody>\n",
       "    <tr>\n",
       "      <th>Beskrivning</th>\n",
       "      <td>608.0</td>\n",
       "      <td>6.0</td>\n",
       "      <td>0.004161</td>\n",
       "      <td>642.0</td>\n",
       "      <td>800.0</td>\n",
       "      <td>0.554785</td>\n",
       "    </tr>\n",
       "    <tr>\n",
       "      <th>Etnisk grupp, avb.</th>\n",
       "      <td>NaN</td>\n",
       "      <td>NaN</td>\n",
       "      <td>NaN</td>\n",
       "      <td>7.0</td>\n",
       "      <td>1435.0</td>\n",
       "      <td>0.995146</td>\n",
       "    </tr>\n",
       "    <tr>\n",
       "      <th>Fotodatum</th>\n",
       "      <td>504.0</td>\n",
       "      <td>110.0</td>\n",
       "      <td>0.076283</td>\n",
       "      <td>1439.0</td>\n",
       "      <td>3.0</td>\n",
       "      <td>0.002080</td>\n",
       "    </tr>\n",
       "    <tr>\n",
       "      <th>Fotonummer</th>\n",
       "      <td>614.0</td>\n",
       "      <td>0.0</td>\n",
       "      <td>0.000000</td>\n",
       "      <td>1442.0</td>\n",
       "      <td>0.0</td>\n",
       "      <td>0.000000</td>\n",
       "    </tr>\n",
       "    <tr>\n",
       "      <th>Geograf namn, alternativ</th>\n",
       "      <td>18.0</td>\n",
       "      <td>596.0</td>\n",
       "      <td>0.413315</td>\n",
       "      <td>NaN</td>\n",
       "      <td>NaN</td>\n",
       "      <td>NaN</td>\n",
       "    </tr>\n",
       "    <tr>\n",
       "      <th>Händelse / var närvarande vid</th>\n",
       "      <td>0.0</td>\n",
       "      <td>614.0</td>\n",
       "      <td>0.425798</td>\n",
       "      <td>1440.0</td>\n",
       "      <td>2.0</td>\n",
       "      <td>0.001387</td>\n",
       "    </tr>\n",
       "    <tr>\n",
       "      <th>Land, foto</th>\n",
       "      <td>572.0</td>\n",
       "      <td>42.0</td>\n",
       "      <td>0.029126</td>\n",
       "      <td>1440.0</td>\n",
       "      <td>2.0</td>\n",
       "      <td>0.001387</td>\n",
       "    </tr>\n",
       "    <tr>\n",
       "      <th>Länk</th>\n",
       "      <td>614.0</td>\n",
       "      <td>0.0</td>\n",
       "      <td>0.000000</td>\n",
       "      <td>1442.0</td>\n",
       "      <td>0.0</td>\n",
       "      <td>0.000000</td>\n",
       "    </tr>\n",
       "    <tr>\n",
       "      <th>Motivord</th>\n",
       "      <td>NaN</td>\n",
       "      <td>NaN</td>\n",
       "      <td>NaN</td>\n",
       "      <td>530.0</td>\n",
       "      <td>912.0</td>\n",
       "      <td>0.632455</td>\n",
       "    </tr>\n",
       "    <tr>\n",
       "      <th>Nyckelord</th>\n",
       "      <td>613.0</td>\n",
       "      <td>1.0</td>\n",
       "      <td>0.000693</td>\n",
       "      <td>NaN</td>\n",
       "      <td>NaN</td>\n",
       "      <td>NaN</td>\n",
       "    </tr>\n",
       "    <tr>\n",
       "      <th>Ort, foto</th>\n",
       "      <td>290.0</td>\n",
       "      <td>324.0</td>\n",
       "      <td>0.224688</td>\n",
       "      <td>1087.0</td>\n",
       "      <td>355.0</td>\n",
       "      <td>0.246186</td>\n",
       "    </tr>\n",
       "    <tr>\n",
       "      <th>Personnamn / avbildad</th>\n",
       "      <td>90.0</td>\n",
       "      <td>524.0</td>\n",
       "      <td>0.363384</td>\n",
       "      <td>38.0</td>\n",
       "      <td>1404.0</td>\n",
       "      <td>0.973648</td>\n",
       "    </tr>\n",
       "    <tr>\n",
       "      <th>Personnamn / fotograf</th>\n",
       "      <td>592.0</td>\n",
       "      <td>22.0</td>\n",
       "      <td>0.015257</td>\n",
       "      <td>1436.0</td>\n",
       "      <td>6.0</td>\n",
       "      <td>0.004161</td>\n",
       "    </tr>\n",
       "    <tr>\n",
       "      <th>Postnr.</th>\n",
       "      <td>614.0</td>\n",
       "      <td>0.0</td>\n",
       "      <td>0.000000</td>\n",
       "      <td>1442.0</td>\n",
       "      <td>0.0</td>\n",
       "      <td>0.000000</td>\n",
       "    </tr>\n",
       "    <tr>\n",
       "      <th>Region, foto</th>\n",
       "      <td>61.0</td>\n",
       "      <td>553.0</td>\n",
       "      <td>0.383495</td>\n",
       "      <td>920.0</td>\n",
       "      <td>522.0</td>\n",
       "      <td>0.361997</td>\n",
       "    </tr>\n",
       "    <tr>\n",
       "      <th>Sökord</th>\n",
       "      <td>0.0</td>\n",
       "      <td>614.0</td>\n",
       "      <td>0.425798</td>\n",
       "      <td>489.0</td>\n",
       "      <td>953.0</td>\n",
       "      <td>0.660888</td>\n",
       "    </tr>\n",
       "  </tbody>\n",
       "</table>\n",
       "</div>"
      ],
      "text/plain": [
       "                               Mexiko                   Cypern          \\\n",
       "                              Ifyllda  Tomma       Prc Ifyllda   Tomma   \n",
       "Beskrivning                     608.0    6.0  0.004161   642.0   800.0   \n",
       "Etnisk grupp, avb.                NaN    NaN       NaN     7.0  1435.0   \n",
       "Fotodatum                       504.0  110.0  0.076283  1439.0     3.0   \n",
       "Fotonummer                      614.0    0.0  0.000000  1442.0     0.0   \n",
       "Geograf namn, alternativ         18.0  596.0  0.413315     NaN     NaN   \n",
       "Händelse / var närvarande vid     0.0  614.0  0.425798  1440.0     2.0   \n",
       "Land, foto                      572.0   42.0  0.029126  1440.0     2.0   \n",
       "Länk                            614.0    0.0  0.000000  1442.0     0.0   \n",
       "Motivord                          NaN    NaN       NaN   530.0   912.0   \n",
       "Nyckelord                       613.0    1.0  0.000693     NaN     NaN   \n",
       "Ort, foto                       290.0  324.0  0.224688  1087.0   355.0   \n",
       "Personnamn / avbildad            90.0  524.0  0.363384    38.0  1404.0   \n",
       "Personnamn / fotograf           592.0   22.0  0.015257  1436.0     6.0   \n",
       "Postnr.                         614.0    0.0  0.000000  1442.0     0.0   \n",
       "Region, foto                     61.0  553.0  0.383495   920.0   522.0   \n",
       "Sökord                            0.0  614.0  0.425798   489.0   953.0   \n",
       "\n",
       "                                         \n",
       "                                    Prc  \n",
       "Beskrivning                    0.554785  \n",
       "Etnisk grupp, avb.             0.995146  \n",
       "Fotodatum                      0.002080  \n",
       "Fotonummer                     0.000000  \n",
       "Geograf namn, alternativ            NaN  \n",
       "Händelse / var närvarande vid  0.001387  \n",
       "Land, foto                     0.001387  \n",
       "Länk                           0.000000  \n",
       "Motivord                       0.632455  \n",
       "Nyckelord                           NaN  \n",
       "Ort, foto                      0.246186  \n",
       "Personnamn / avbildad          0.973648  \n",
       "Personnamn / fotograf          0.004161  \n",
       "Postnr.                        0.000000  \n",
       "Region, foto                   0.361997  \n",
       "Sökord                         0.660888  "
      ]
     },
     "execution_count": 16,
     "metadata": {},
     "output_type": "execute_result"
    }
   ],
   "source": [
    "fillins_df = pd.concat([cyp,mex], keys=(\"Mexiko\",\"Cypern\"), axis=1)\n",
    "fillins_df"
   ]
  },
  {
   "cell_type": "code",
   "execution_count": 17,
   "metadata": {
    "collapsed": false
   },
   "outputs": [],
   "source": [
    "fillins_p = figure(height=600, \n",
    "                   width=1000, \n",
    "                   x_range=list(fillins_df.index), \n",
    "                   y_range=[0,100],\n",
    "                   tools=\"pan,box_zoom,save\")\n",
    "fillins_p.logo = None\n",
    "\n",
    "fillins_p.title = \"Fillins Mexiko vs Cypern\"\n",
    "fillins_p.line(fillins_df[\"Mexiko\"].index, fillins_df[\"Mexiko\"][\"Prc\"] * 100, color=\"blue\", legend=\"Mexiko\")\n",
    "fillins_p.line(fillins_df[\"Cypern\"].index, fillins_df[\"Cypern\"][\"Prc\"] * 100, color=\"green\", legend=\"Cypern\")\n",
    "\n",
    "# X-Axis\n",
    "fillins_p.xaxis.major_label_orientation = 0.75\n",
    "fillins_p.xaxis.axis_label_standoff = 3\n",
    "fillins_p.xaxis.axis_label = \"Column in metadata document\"\n",
    "\n",
    "# Y-axis\n",
    "fillins_p.yaxis.axis_label = \"Procent tomma\"\n",
    "\n",
    "output_file(\"Fillins_comparison.html\")\n",
    "show(fillins_p)"
   ]
  },
  {
   "cell_type": "markdown",
   "metadata": {},
   "source": [
    "# Row fill-ins analysis"
   ]
  },
  {
   "cell_type": "code",
   "execution_count": 11,
   "metadata": {
    "collapsed": false
   },
   "outputs": [
    {
     "data": {
      "text/html": [
       "<div>\n",
       "<table border=\"1\" class=\"dataframe\">\n",
       "  <thead>\n",
       "    <tr style=\"text-align: right;\">\n",
       "      <th></th>\n",
       "      <th>0</th>\n",
       "    </tr>\n",
       "  </thead>\n",
       "  <tbody>\n",
       "    <tr>\n",
       "      <th>count</th>\n",
       "      <td>614.000000</td>\n",
       "    </tr>\n",
       "    <tr>\n",
       "      <th>mean</th>\n",
       "      <td>5.547231</td>\n",
       "    </tr>\n",
       "    <tr>\n",
       "      <th>std</th>\n",
       "      <td>1.054881</td>\n",
       "    </tr>\n",
       "    <tr>\n",
       "      <th>min</th>\n",
       "      <td>3.000000</td>\n",
       "    </tr>\n",
       "    <tr>\n",
       "      <th>25%</th>\n",
       "      <td>5.000000</td>\n",
       "    </tr>\n",
       "    <tr>\n",
       "      <th>50%</th>\n",
       "      <td>5.000000</td>\n",
       "    </tr>\n",
       "    <tr>\n",
       "      <th>75%</th>\n",
       "      <td>6.000000</td>\n",
       "    </tr>\n",
       "    <tr>\n",
       "      <th>max</th>\n",
       "      <td>9.000000</td>\n",
       "    </tr>\n",
       "  </tbody>\n",
       "</table>\n",
       "</div>"
      ],
      "text/plain": [
       "                0\n",
       "count  614.000000\n",
       "mean     5.547231\n",
       "std      1.054881\n",
       "min      3.000000\n",
       "25%      5.000000\n",
       "50%      5.000000\n",
       "75%      6.000000\n",
       "max      9.000000"
      ]
     },
     "execution_count": 11,
     "metadata": {},
     "output_type": "execute_result"
    }
   ],
   "source": [
    "cyp_dict = {}\n",
    "for index, row in cypern.iterrows():\n",
    "    cyp_dict[index] = row.isnull().sum()\n",
    "cypern_s = pd.Series(cyp_dict, index=range(len(cyp_dict)))\n",
    "cyp_empty_s = pd.Series()\n",
    "cypern_df = pd.concat([cypern_s,cyp_empty_s],axis=1)\n",
    "cypern_df.describe()"
   ]
  },
  {
   "cell_type": "code",
   "execution_count": 26,
   "metadata": {
    "collapsed": false
   },
   "outputs": [
    {
     "name": "stderr",
     "output_type": "stream",
     "text": [
      "/home/mos/anaconda3/lib/python3.5/site-packages/ipykernel/__main__.py:10: SettingWithCopyWarning: \n",
      "A value is trying to be set on a copy of a slice from a DataFrame\n",
      "\n",
      "See the caveats in the documentation: http://pandas.pydata.org/pandas-docs/stable/indexing.html#indexing-view-versus-copy\n",
      "/home/mos/anaconda3/lib/python3.5/site-packages/ipykernel/__main__.py:11: SettingWithCopyWarning: \n",
      "A value is trying to be set on a copy of a slice from a DataFrame\n",
      "\n",
      "See the caveats in the documentation: http://pandas.pydata.org/pandas-docs/stable/indexing.html#indexing-view-versus-copy\n"
     ]
    },
    {
     "data": {
      "text/plain": [
       "<matplotlib.axes._subplots.AxesSubplot at 0x7f04cd177860>"
      ]
     },
     "execution_count": 26,
     "metadata": {},
     "output_type": "execute_result"
    },
    {
     "data": {
      "image/png": "[encoded data removed]",
      "text/plain": [
       "<matplotlib.figure.Figure at 0x7f04ccef37b8>"
      ]
     },
     "metadata": {},
     "output_type": "display_data"
    }
   ],
   "source": [
    "cyp_res = {}\n",
    "cyp_bins = [0, 2, 4, 6, 9] # max is 9 non-empty columns\n",
    "cyp_group_names = ['Lousy', 'Bad', 'Good', 'Great']\n",
    "cyp_categories = pd.cut(cypern_s, cyp_bins, labels=cyp_group_names)\n",
    "for tupl in cyp_categories.value_counts().items():\n",
    "    #print(\"{} {} perc: {:.0f}\".format(tupl[0], tupl[1], (tupl[1]/sum(cyp_categories.value_counts())*100)))\n",
    "    cyp_res[tupl[0]] = {\"cnt\":tupl[1], \"prc\":(tupl[1]/sum(cyp_categories.value_counts()) *100)}\n",
    "cyp_df = pd.DataFrame(cyp_res)\n",
    "cyp_df[\"Above_bad\"] = 0\n",
    "cyp_df[\"Above_bad\"][\"cnt\"] = cyp_df[\"Good\"][\"cnt\"] + cyp_df[\"Great\"][\"cnt\"]\n",
    "cyp_df[\"Above_bad\"][\"prc\"] = cyp_df[\"Good\"][\"prc\"] + cyp_df[\"Great\"][\"prc\"]\n",
    "cyp_df[[\"Great\",\"Good\",\"Bad\",\"Lousy\"]].T.prc.plot()"
   ]
  },
  {
   "cell_type": "code",
   "execution_count": 25,
   "metadata": {
    "collapsed": false
   },
   "outputs": [
    {
     "data": {
      "text/html": [
       "<div>\n",
       "<table border=\"1\" class=\"dataframe\">\n",
       "  <thead>\n",
       "    <tr style=\"text-align: right;\">\n",
       "      <th></th>\n",
       "      <th>Bad</th>\n",
       "      <th>Good</th>\n",
       "      <th>Great</th>\n",
       "      <th>Lousy</th>\n",
       "      <th>Above_bad</th>\n",
       "    </tr>\n",
       "  </thead>\n",
       "  <tbody>\n",
       "    <tr>\n",
       "      <th>cnt</th>\n",
       "      <td>72.000000</td>\n",
       "      <td>492.000000</td>\n",
       "      <td>50.000000</td>\n",
       "      <td>0.0</td>\n",
       "      <td>542</td>\n",
       "    </tr>\n",
       "    <tr>\n",
       "      <th>prc</th>\n",
       "      <td>11.726384</td>\n",
       "      <td>80.130293</td>\n",
       "      <td>8.143322</td>\n",
       "      <td>0.0</td>\n",
       "      <td>0</td>\n",
       "    </tr>\n",
       "  </tbody>\n",
       "</table>\n",
       "</div>"
      ],
      "text/plain": [
       "           Bad        Good      Great  Lousy  Above_bad\n",
       "cnt  72.000000  492.000000  50.000000    0.0        542\n",
       "prc  11.726384   80.130293   8.143322    0.0          0"
      ]
     },
     "execution_count": 25,
     "metadata": {},
     "output_type": "execute_result"
    }
   ],
   "source": [
    "cyp_df"
   ]
  },
  {
   "cell_type": "code",
   "execution_count": 16,
   "metadata": {
    "collapsed": false
   },
   "outputs": [
    {
     "data": {
      "text/html": [
       "<div>\n",
       "<table border=\"1\" class=\"dataframe\">\n",
       "  <thead>\n",
       "    <tr style=\"text-align: right;\">\n",
       "      <th></th>\n",
       "      <th>0</th>\n",
       "    </tr>\n",
       "  </thead>\n",
       "  <tbody>\n",
       "    <tr>\n",
       "      <th>count</th>\n",
       "      <td>1442.000000</td>\n",
       "    </tr>\n",
       "    <tr>\n",
       "      <th>mean</th>\n",
       "      <td>4.434119</td>\n",
       "    </tr>\n",
       "    <tr>\n",
       "      <th>std</th>\n",
       "      <td>0.873800</td>\n",
       "    </tr>\n",
       "    <tr>\n",
       "      <th>min</th>\n",
       "      <td>2.000000</td>\n",
       "    </tr>\n",
       "    <tr>\n",
       "      <th>25%</th>\n",
       "      <td>4.000000</td>\n",
       "    </tr>\n",
       "    <tr>\n",
       "      <th>50%</th>\n",
       "      <td>5.000000</td>\n",
       "    </tr>\n",
       "    <tr>\n",
       "      <th>75%</th>\n",
       "      <td>5.000000</td>\n",
       "    </tr>\n",
       "    <tr>\n",
       "      <th>max</th>\n",
       "      <td>9.000000</td>\n",
       "    </tr>\n",
       "  </tbody>\n",
       "</table>\n",
       "</div>"
      ],
      "text/plain": [
       "                 0\n",
       "count  1442.000000\n",
       "mean      4.434119\n",
       "std       0.873800\n",
       "min       2.000000\n",
       "25%       4.000000\n",
       "50%       5.000000\n",
       "75%       5.000000\n",
       "max       9.000000"
      ]
     },
     "execution_count": 16,
     "metadata": {},
     "output_type": "execute_result"
    }
   ],
   "source": [
    "mex_dict = {}\n",
    "for index, row in mexiko.iterrows():\n",
    "    mex_dict[index] = row.isnull().sum()\n",
    "mexiko_s = pd.Series(mex_dict, index=range(len(mex_dict)))\n",
    "mex_empty_s = pd.Series()\n",
    "mexiko_df = pd.concat([mexiko_s,mex_empty_s],axis=1)\n",
    "mexiko_df.describe()"
   ]
  },
  {
   "cell_type": "code",
   "execution_count": 74,
   "metadata": {
    "collapsed": false
   },
   "outputs": [
    {
     "data": {
      "text/plain": [
       "Bad        cnt    608.000000\n",
       "           prc     42.163662\n",
       "Good       cnt    802.000000\n",
       "           prc     55.617198\n",
       "Great      cnt      2.000000\n",
       "           prc      0.138696\n",
       "Lousy      cnt     30.000000\n",
       "           prc      2.080444\n",
       "Above_bad           0.000000\n",
       "dtype: float64"
      ]
     },
     "execution_count": 74,
     "metadata": {},
     "output_type": "execute_result"
    }
   ],
   "source": [
    "mex_res = {}\n",
    "mex_bins = [0, 2, 4, 6, 9] # max is 9 non-empty columns\n",
    "mex_group_names = ['Lousy', 'Bad', 'Good', 'Great']\n",
    "mex_categories = pd.cut(mexiko_s, mex_bins, labels=mex_group_names)\n",
    "for tupl in mex_categories.value_counts().items():\n",
    "    #print(\"{} {} perc: {:.0f}\".format(tupl[0], tupl[1], (tupl[1]/sum(mex_categories.value_counts())*100)))\n",
    "    mex_res[tupl[0]] = {\"cnt\":tupl[1], \"prc\":(tupl[1]/sum(mex_categories.value_counts()) *100)}\n",
    "mex_df = pd.DataFrame(mex_res)\n",
    "mex_df = mex_df.T.stack(0)\n",
    "mex_df[\"Above_bad\"] = 0\n",
    "mex_df[\"Above_bad\"][\"cnt\"] = 0\n",
    "mex_df[\"Above_bad\"][\"prc\"] = 0\n",
    "mex_df[\"Above_bad\"][\"cnt\"] = \"\" #mex_df[\"Good\"][\"cnt\"] + mex_df[\"Great\"][\"cnt\"]\n",
    "mex_df[\"Above_bad\"][\"prc\"] = \"\" #mex_df[\"Good\"][\"prc\"] + mex_df[\"Great\"][\"prc\"]\n",
    "mex_df"
   ]
  },
  {
   "cell_type": "code",
   "execution_count": 66,
   "metadata": {
    "collapsed": false
   },
   "outputs": [
    {
     "ename": "KeyError",
     "evalue": "'cnt'",
     "output_type": "error",
     "traceback": [
      "\u001b[0;31m---------------------------------------------------------------------------\u001b[0m",
      "\u001b[0;31mTypeError\u001b[0m                                 Traceback (most recent call last)",
      "\u001b[0;32m/home/mos/anaconda3/lib/python3.5/site-packages/pandas/indexes/base.py\u001b[0m in \u001b[0;36mget_value\u001b[0;34m(self, series, key)\u001b[0m\n\u001b[1;32m   1916\u001b[0m             \u001b[0;32mtry\u001b[0m\u001b[0;34m:\u001b[0m\u001b[0;34m\u001b[0m\u001b[0m\n\u001b[0;32m-> 1917\u001b[0;31m                 \u001b[0;32mreturn\u001b[0m \u001b[0mtslib\u001b[0m\u001b[0;34m.\u001b[0m\u001b[0mget_value_box\u001b[0m\u001b[0;34m(\u001b[0m\u001b[0ms\u001b[0m\u001b[0;34m,\u001b[0m \u001b[0mkey\u001b[0m\u001b[0;34m)\u001b[0m\u001b[0;34m\u001b[0m\u001b[0m\n\u001b[0m\u001b[1;32m   1918\u001b[0m             \u001b[0;32mexcept\u001b[0m \u001b[0mIndexError\u001b[0m\u001b[0;34m:\u001b[0m\u001b[0;34m\u001b[0m\u001b[0m\n",
      "\u001b[0;32mpandas/tslib.pyx\u001b[0m in \u001b[0;36mpandas.tslib.get_value_box (pandas/tslib.c:17748)\u001b[0;34m()\u001b[0m\n",
      "\u001b[0;32mpandas/tslib.pyx\u001b[0m in \u001b[0;36mpandas.tslib.get_value_box (pandas/tslib.c:17416)\u001b[0;34m()\u001b[0m\n",
      "\u001b[0;31mTypeError\u001b[0m: 'str' object cannot be interpreted as an integer",
      "\nDuring handling of the above exception, another exception occurred:\n",
      "\u001b[0;31mKeyError\u001b[0m                                  Traceback (most recent call last)",
      "\u001b[0;32m<ipython-input-66-c8053d154857>\u001b[0m in \u001b[0;36m<module>\u001b[0;34m()\u001b[0m\n\u001b[0;32m----> 1\u001b[0;31m \u001b[0mmex_df\u001b[0m\u001b[0;34m[\u001b[0m\u001b[0;34m\"Above_bad\"\u001b[0m\u001b[0;34m]\u001b[0m\u001b[0;34m[\u001b[0m\u001b[0;34m\"cnt\"\u001b[0m\u001b[0;34m]\u001b[0m\u001b[0;34m\u001b[0m\u001b[0m\n\u001b[0m",
      "\u001b[0;32m/home/mos/anaconda3/lib/python3.5/site-packages/pandas/core/series.py\u001b[0m in \u001b[0;36m__getitem__\u001b[0;34m(self, key)\u001b[0m\n\u001b[1;32m    558\u001b[0m     \u001b[0;32mdef\u001b[0m \u001b[0m__getitem__\u001b[0m\u001b[0;34m(\u001b[0m\u001b[0mself\u001b[0m\u001b[0;34m,\u001b[0m \u001b[0mkey\u001b[0m\u001b[0;34m)\u001b[0m\u001b[0;34m:\u001b[0m\u001b[0;34m\u001b[0m\u001b[0m\n\u001b[1;32m    559\u001b[0m         \u001b[0;32mtry\u001b[0m\u001b[0;34m:\u001b[0m\u001b[0;34m\u001b[0m\u001b[0m\n\u001b[0;32m--> 560\u001b[0;31m             \u001b[0mresult\u001b[0m \u001b[0;34m=\u001b[0m \u001b[0mself\u001b[0m\u001b[0;34m.\u001b[0m\u001b[0mindex\u001b[0m\u001b[0;34m.\u001b[0m\u001b[0mget_value\u001b[0m\u001b[0;34m(\u001b[0m\u001b[0mself\u001b[0m\u001b[0;34m,\u001b[0m \u001b[0mkey\u001b[0m\u001b[0;34m)\u001b[0m\u001b[0;34m\u001b[0m\u001b[0m\n\u001b[0m\u001b[1;32m    561\u001b[0m \u001b[0;34m\u001b[0m\u001b[0m\n\u001b[1;32m    562\u001b[0m             \u001b[0;32mif\u001b[0m \u001b[0;32mnot\u001b[0m \u001b[0mlib\u001b[0m\u001b[0;34m.\u001b[0m\u001b[0misscalar\u001b[0m\u001b[0;34m(\u001b[0m\u001b[0mresult\u001b[0m\u001b[0;34m)\u001b[0m\u001b[0;34m:\u001b[0m\u001b[0;34m\u001b[0m\u001b[0m\n",
      "\u001b[0;32m/home/mos/anaconda3/lib/python3.5/site-packages/pandas/indexes/base.py\u001b[0m in \u001b[0;36mget_value\u001b[0;34m(self, series, key)\u001b[0m\n\u001b[1;32m   1923\u001b[0m                     \u001b[0;32mraise\u001b[0m \u001b[0mInvalidIndexError\u001b[0m\u001b[0;34m(\u001b[0m\u001b[0mkey\u001b[0m\u001b[0;34m)\u001b[0m\u001b[0;34m\u001b[0m\u001b[0m\n\u001b[1;32m   1924\u001b[0m                 \u001b[0;32melse\u001b[0m\u001b[0;34m:\u001b[0m\u001b[0;34m\u001b[0m\u001b[0m\n\u001b[0;32m-> 1925\u001b[0;31m                     \u001b[0;32mraise\u001b[0m \u001b[0me1\u001b[0m\u001b[0;34m\u001b[0m\u001b[0m\n\u001b[0m\u001b[1;32m   1926\u001b[0m             \u001b[0;32mexcept\u001b[0m \u001b[0mException\u001b[0m\u001b[0;34m:\u001b[0m  \u001b[0;31m# pragma: no cover\u001b[0m\u001b[0;34m\u001b[0m\u001b[0m\n\u001b[1;32m   1927\u001b[0m                 \u001b[0;32mraise\u001b[0m \u001b[0me1\u001b[0m\u001b[0;34m\u001b[0m\u001b[0m\n",
      "\u001b[0;32m/home/mos/anaconda3/lib/python3.5/site-packages/pandas/indexes/base.py\u001b[0m in \u001b[0;36mget_value\u001b[0;34m(self, series, key)\u001b[0m\n\u001b[1;32m   1909\u001b[0m         \u001b[0;32mtry\u001b[0m\u001b[0;34m:\u001b[0m\u001b[0;34m\u001b[0m\u001b[0m\n\u001b[1;32m   1910\u001b[0m             return self._engine.get_value(s, k,\n\u001b[0;32m-> 1911\u001b[0;31m                                           tz=getattr(series.dtype, 'tz', None))\n\u001b[0m\u001b[1;32m   1912\u001b[0m         \u001b[0;32mexcept\u001b[0m \u001b[0mKeyError\u001b[0m \u001b[0;32mas\u001b[0m \u001b[0me1\u001b[0m\u001b[0;34m:\u001b[0m\u001b[0;34m\u001b[0m\u001b[0m\n\u001b[1;32m   1913\u001b[0m             \u001b[0;32mif\u001b[0m \u001b[0mlen\u001b[0m\u001b[0;34m(\u001b[0m\u001b[0mself\u001b[0m\u001b[0;34m)\u001b[0m \u001b[0;34m>\u001b[0m \u001b[0;36m0\u001b[0m \u001b[0;32mand\u001b[0m \u001b[0mself\u001b[0m\u001b[0;34m.\u001b[0m\u001b[0minferred_type\u001b[0m \u001b[0;32min\u001b[0m \u001b[0;34m[\u001b[0m\u001b[0;34m'integer'\u001b[0m\u001b[0;34m,\u001b[0m \u001b[0;34m'boolean'\u001b[0m\u001b[0;34m]\u001b[0m\u001b[0;34m:\u001b[0m\u001b[0;34m\u001b[0m\u001b[0m\n",
      "\u001b[0;32mpandas/index.pyx\u001b[0m in \u001b[0;36mpandas.index.IndexEngine.get_value (pandas/index.c:3234)\u001b[0;34m()\u001b[0m\n",
      "\u001b[0;32mpandas/index.pyx\u001b[0m in \u001b[0;36mpandas.index.IndexEngine.get_value (pandas/index.c:2931)\u001b[0;34m()\u001b[0m\n",
      "\u001b[0;32mpandas/index.pyx\u001b[0m in \u001b[0;36mpandas.index.IndexEngine.get_loc (pandas/index.c:3891)\u001b[0;34m()\u001b[0m\n",
      "\u001b[0;32mpandas/hashtable.pyx\u001b[0m in \u001b[0;36mpandas.hashtable.PyObjectHashTable.get_item (pandas/hashtable.c:12408)\u001b[0;34m()\u001b[0m\n",
      "\u001b[0;32mpandas/hashtable.pyx\u001b[0m in \u001b[0;36mpandas.hashtable.PyObjectHashTable.get_item (pandas/hashtable.c:12359)\u001b[0;34m()\u001b[0m\n",
      "\u001b[0;31mKeyError\u001b[0m: 'cnt'"
     ]
    }
   ],
   "source": [
    "mex_df[\"Above_bad\"][\"cnt\"]"
   ]
  },
  {
   "cell_type": "code",
   "execution_count": 58,
   "metadata": {
    "collapsed": false
   },
   "outputs": [
    {
     "data": {
      "text/plain": [
       "cnt  Bad               608\n",
       "     Good              802\n",
       "     Great               2\n",
       "     Lousy              30\n",
       "     Above_bad            \n",
       "prc  Bad           42.1637\n",
       "     Good          55.6172\n",
       "     Great        0.138696\n",
       "     Lousy         2.08044\n",
       "     Above_bad            \n",
       "dtype: object"
      ]
     },
     "execution_count": 58,
     "metadata": {},
     "output_type": "execute_result"
    }
   ],
   "source": [
    "mex_stacked = mex_df.T.stack()\n",
    "mex_stacked"
   ]
  },
  {
   "cell_type": "code",
   "execution_count": 56,
   "metadata": {
    "collapsed": false
   },
   "outputs": [
    {
     "data": {
      "text/plain": [
       "Bad        cnt         608\n",
       "           prc     42.1637\n",
       "Good       cnt         802\n",
       "           prc     55.6172\n",
       "Great      cnt           2\n",
       "           prc    0.138696\n",
       "Lousy      cnt          30\n",
       "           prc     2.08044\n",
       "Above_bad  cnt            \n",
       "           prc            \n",
       "dtype: object"
      ]
     },
     "execution_count": 56,
     "metadata": {},
     "output_type": "execute_result"
    }
   ],
   "source": [
    "mex_stacked[\"Above_bad\"] = \"\"\n",
    "mex_stacked"
   ]
  },
  {
   "cell_type": "code",
   "execution_count": 22,
   "metadata": {
    "collapsed": false
   },
   "outputs": [
    {
     "name": "stdout",
     "output_type": "stream",
     "text": [
      "Fotonummer 614\n",
      "Postnr. 614\n",
      "Nyckelord 37\n",
      "Beskrivning 543\n",
      "Land, foto 4\n",
      "Region, foto 3\n",
      "Ort, foto 11\n",
      "Geograf namn, alternativ 1\n",
      "Fotodatum 9\n",
      "Personnamn / fotograf 2\n",
      "Personnamn / avbildad 29\n",
      "Sökord 0\n",
      "Händelse / var närvarande vid 0\n",
      "Länk 614\n",
      "\n",
      "-------------------------------\n",
      "Data shape: (614, 14)\n",
      "Max possible data density (rows * columns): 8596\n",
      "Actual data density (Total values count +1 for NaN): 5191 \n",
      "Data density percentage: 0.6038855281526291\n"
     ]
    }
   ],
   "source": [
    "cyp_tot_values_count = 0\n",
    "\n",
    "cyp_cols = pd.DataFrame()\n",
    "for col in cypern.columns:\n",
    "    print(\"{} {}\".format(col, len(cypern[col].value_counts())))\n",
    "    for value in cypern[col].value_counts().values:\n",
    "        cyp_tot_values_count += value\n",
    "print(\"\\n-------------------------------\")    \n",
    "print(\"Data shape: {}\".format(cypern.shape))\n",
    "print(\"Max possible data density (rows * columns): {}\".format(cypern.shape[0] * cypern.shape[1]))\n",
    "\n",
    "print(\"Actual data density (Total values count +1 for NaN): {} \".format(cyp_tot_values_count + 1))\n",
    "print(\"Data density percentage: {}\".format((cyp_tot_values_count + 1) / (cypern.shape[0] * cypern.shape[1])))"
   ]
  },
  {
   "cell_type": "code",
   "execution_count": 23,
   "metadata": {
    "collapsed": false
   },
   "outputs": [
    {
     "name": "stdout",
     "output_type": "stream",
     "text": [
      "Fotonummer 1442\n",
      "Postnr. 1442\n",
      "Motivord 64\n",
      "Beskrivning 77\n",
      "Land, foto 1\n",
      "Region, foto 9\n",
      "Ort, foto 22\n",
      "Etnisk grupp, avb. 1\n",
      "Fotodatum 1\n",
      "Personnamn / fotograf 3\n",
      "Personnamn / avbildad 10\n",
      "Sökord 35\n",
      "Händelse / var närvarande vid 1\n",
      "Länk 1442\n",
      "\n",
      "-------------------------------\n",
      "Data shape: (614, 14)\n",
      "Max possible data density (rows * columns): 20188\n",
      "Actual data density (Total values count +1 for NaN): 13795 \n",
      "Data density percentage: 0.6833267287497523\n"
     ]
    }
   ],
   "source": [
    "mex_tot_values_count = 0\n",
    "\n",
    "mex_cols = pd.DataFrame()\n",
    "for col in mexiko.columns:\n",
    "    print(\"{} {}\".format(col, len(mexiko[col].value_counts())))\n",
    "    for value in mexiko[col].value_counts().values:\n",
    "        mex_tot_values_count += value\n",
    "print(\"\\n-------------------------------\")    \n",
    "print(\"Data shape: {}\".format(cypern.shape))\n",
    "print(\"Max possible data density (rows * columns): {}\".format(mexiko.shape[0] * mexiko.shape[1]))\n",
    "\n",
    "print(\"Actual data density (Total values count +1 for NaN): {} \".format(mex_tot_values_count + 1))\n",
    "print(\"Data density percentage: {}\".format((mex_tot_values_count + 1) / (mexiko.shape[0] * mexiko.shape[1])))"
   ]
  },
  {
   "cell_type": "code",
   "execution_count": 3,
   "metadata": {
    "collapsed": false
   },
   "outputs": [
    {
     "data": {
      "text/html": [
       "\n",
       "    <div class=\"bk-root\">\n",
       "        <a href=\"http://bokeh.pydata.org\" target=\"_blank\" class=\"bk-logo bk-logo-small bk-logo-notebook\"></a>\n",
       "        <span id=\"765c9f4a-f45e-4788-b7c2-9a813eb9066c\">Loading BokehJS ...</span>\n",
       "    </div>"
      ]
     },
     "metadata": {},
     "output_type": "display_data"
    },
    {
     "data": {
      "application/javascript": [
       "\n",
       "(function(global) {\n",
       "  function now() {\n",
       "    return new Date();\n",
       "  }\n",
       "\n",
       "  var force = \"1\";\n",
       "\n",
       "  if (typeof (window._bokeh_onload_callbacks) === \"undefined\" || force !== \"\") {\n",
       "    window._bokeh_onload_callbacks = [];\n",
       "    window._bokeh_is_loading = undefined;\n",
       "  }\n",
       "\n",
       "  function run_callbacks() {\n",
       "    window._bokeh_onload_callbacks.forEach(function(callback) { callback() });\n",
       "    delete window._bokeh_onload_callbacks\n",
       "    console.info(\"Bokeh: all callbacks have finished\");\n",
       "  }\n",
       "\n",
       "  function load_libs(js_urls, callback) {\n",
       "    window._bokeh_onload_callbacks.push(callback);\n",
       "    if (window._bokeh_is_loading > 0) {\n",
       "      console.log(\"Bokeh: BokehJS is being loaded, scheduling callback at\", now());\n",
       "      return null;\n",
       "    }\n",
       "    if (js_urls == null || js_urls.length === 0) {\n",
       "      run_callbacks();\n",
       "      return null;\n",
       "    }\n",
       "    console.log(\"Bokeh: BokehJS not loaded, scheduling load and callback at\", now());\n",
       "    window._bokeh_is_loading = js_urls.length;\n",
       "    for (var i = 0; i < js_urls.length; i++) {\n",
       "      var url = js_urls[i];\n",
       "      var s = document.createElement('script');\n",
       "      s.src = url;\n",
       "      s.async = false;\n",
       "      s.onreadystatechange = s.onload = function() {\n",
       "        window._bokeh_is_loading--;\n",
       "        if (window._bokeh_is_loading === 0) {\n",
       "          console.log(\"Bokeh: all BokehJS libraries loaded\");\n",
       "          run_callbacks()\n",
       "        }\n",
       "      };\n",
       "      s.onerror = function() {\n",
       "        console.warn(\"failed to load library \" + url);\n",
       "      };\n",
       "      console.log(\"Bokeh: injecting script tag for BokehJS library: \", url);\n",
       "      document.getElementsByTagName(\"head\")[0].appendChild(s);\n",
       "    }\n",
       "  };\n",
       "\n",
       "  var js_urls = ['https://cdn.pydata.org/bokeh/release/bokeh-0.12.1.min.js', 'https://cdn.pydata.org/bokeh/release/bokeh-widgets-0.12.1.min.js', 'https://cdn.pydata.org/bokeh/release/bokeh-compiler-0.12.1.min.js'];\n",
       "\n",
       "  var inline_js = [\n",
       "    function(Bokeh) {\n",
       "      Bokeh.set_log_level(\"info\");\n",
       "    },\n",
       "    \n",
       "    function(Bokeh) {\n",
       "      \n",
       "      Bokeh.$(\"#765c9f4a-f45e-4788-b7c2-9a813eb9066c\").text(\"BokehJS successfully loaded\");\n",
       "      var kernel = Jupyter.notebook.kernel\n",
       "      if (kernel.execute !== undefined) {\n",
       "          kernel.execute(\"import bokeh.io; bokeh.io._nb_loaded = True\");\n",
       "      }\n",
       "    },\n",
       "    function(Bokeh) {\n",
       "      console.log(\"Bokeh: injecting CSS: https://cdn.pydata.org/bokeh/release/bokeh-0.12.1.min.css\");\n",
       "      Bokeh.embed.inject_css(\"https://cdn.pydata.org/bokeh/release/bokeh-0.12.1.min.css\");\n",
       "      console.log(\"Bokeh: injecting CSS: https://cdn.pydata.org/bokeh/release/bokeh-widgets-0.12.1.min.css\");\n",
       "      Bokeh.embed.inject_css(\"https://cdn.pydata.org/bokeh/release/bokeh-widgets-0.12.1.min.css\");\n",
       "    }\n",
       "  ];\n",
       "\n",
       "  function run_inline_js() {\n",
       "    for (var i = 0; i < inline_js.length; i++) {\n",
       "      inline_js[i](window.Bokeh);\n",
       "    }\n",
       "  }\n",
       "\n",
       "  if (window._bokeh_is_loading === 0) {\n",
       "    console.log(\"Bokeh: BokehJS loaded, going straight to plotting\");\n",
       "    run_inline_js();\n",
       "  } else {\n",
       "    load_libs(js_urls, function() {\n",
       "      console.log(\"Bokeh: BokehJS plotting callback run at\", now());\n",
       "      run_inline_js();\n",
       "    });\n",
       "  }\n",
       "}(this));"
      ]
     },
     "metadata": {},
     "output_type": "display_data"
    }
   ],
   "source": [
    "from bokeh.plotting import output_notebook, figure, show\n",
    "output_notebook()\n",
    "fig = figure(heigth=600,\n",
    "             width=800,\n",
    "             y_range=(0,100)\n",
    "             \n",
    "            \n",
    "            )\n",
    "fig.circle(x=,\n",
    "           y=[\"0.6038855281526291\",\"0.6833267287497523\"],\n",
    "           )\n"
   ]
  },
  {
   "cell_type": "code",
   "execution_count": 75,
   "metadata": {
    "collapsed": true
   },
   "outputs": [],
   "source": [
    "data = {\"A\":[42,4,8],\"Boll\":[562,76,34],\"Citron\":[543,94,2],\"D\":[34,76,2],\"David\":[654,34,3]}\n",
    "d = pd.DataFrame(data)"
   ]
  },
  {
   "cell_type": "code",
   "execution_count": 80,
   "metadata": {
    "collapsed": false
   },
   "outputs": [
    {
     "data": {
      "text/html": [
       "<div>\n",
       "<table border=\"1\" class=\"dataframe\">\n",
       "  <thead>\n",
       "    <tr style=\"text-align: right;\">\n",
       "      <th></th>\n",
       "      <th>A</th>\n",
       "      <th>Boll</th>\n",
       "      <th>Citron</th>\n",
       "      <th>D</th>\n",
       "      <th>David</th>\n",
       "    </tr>\n",
       "  </thead>\n",
       "  <tbody>\n",
       "    <tr>\n",
       "      <th>0</th>\n",
       "      <td>42</td>\n",
       "      <td>562</td>\n",
       "      <td>543</td>\n",
       "      <td>34</td>\n",
       "      <td>654</td>\n",
       "    </tr>\n",
       "    <tr>\n",
       "      <th>1</th>\n",
       "      <td>4</td>\n",
       "      <td>76</td>\n",
       "      <td>94</td>\n",
       "      <td>76</td>\n",
       "      <td>34</td>\n",
       "    </tr>\n",
       "    <tr>\n",
       "      <th>2</th>\n",
       "      <td>8</td>\n",
       "      <td>34</td>\n",
       "      <td>2</td>\n",
       "      <td>2</td>\n",
       "      <td>3</td>\n",
       "    </tr>\n",
       "  </tbody>\n",
       "</table>\n",
       "</div>"
      ],
      "text/plain": [
       "    A  Boll  Citron   D  David\n",
       "0  42   562     543  34    654\n",
       "1   4    76      94  76     34\n",
       "2   8    34       2   2      3"
      ]
     },
     "execution_count": 80,
     "metadata": {},
     "output_type": "execute_result"
    }
   ],
   "source": [
    "d"
   ]
  },
  {
   "cell_type": "code",
   "execution_count": 81,
   "metadata": {
    "collapsed": false
   },
   "outputs": [
    {
     "data": {
      "text/plain": [
       "Index(['A', 'Boll', 'Citron', 'D', 'David'], dtype='object')"
      ]
     },
     "execution_count": 81,
     "metadata": {},
     "output_type": "execute_result"
    }
   ],
   "source": [
    "d.columns"
   ]
  },
  {
   "cell_type": "code",
   "execution_count": 100,
   "metadata": {
    "collapsed": false
   },
   "outputs": [
    {
     "data": {
      "text/html": [
       "<div>\n",
       "<table border=\"1\" class=\"dataframe\">\n",
       "  <thead>\n",
       "    <tr style=\"text-align: right;\">\n",
       "      <th></th>\n",
       "      <th>Boll</th>\n",
       "      <th>Citron</th>\n",
       "      <th>D</th>\n",
       "    </tr>\n",
       "  </thead>\n",
       "  <tbody>\n",
       "    <tr>\n",
       "      <th>0</th>\n",
       "      <td>562</td>\n",
       "      <td>543</td>\n",
       "      <td>34</td>\n",
       "    </tr>\n",
       "    <tr>\n",
       "      <th>1</th>\n",
       "      <td>76</td>\n",
       "      <td>94</td>\n",
       "      <td>76</td>\n",
       "    </tr>\n",
       "  </tbody>\n",
       "</table>\n",
       "</div>"
      ],
      "text/plain": [
       "   Boll  Citron   D\n",
       "0   562     543  34\n",
       "1    76      94  76"
      ]
     },
     "execution_count": 100,
     "metadata": {},
     "output_type": "execute_result"
    }
   ],
   "source": [
    "d.loc[0:1,\"B\":\"D\"]"
   ]
  },
  {
   "cell_type": "code",
   "execution_count": 104,
   "metadata": {
    "collapsed": false
   },
   "outputs": [
    {
     "data": {
      "text/plain": [
       "Bad        cnt    608.000000\n",
       "           prc     42.163662\n",
       "Good       cnt    802.000000\n",
       "           prc     55.617198\n",
       "Great      cnt      2.000000\n",
       "           prc      0.138696\n",
       "Lousy      cnt     30.000000\n",
       "           prc      2.080444\n",
       "Above_bad           0.000000\n",
       "dtype: float64"
      ]
     },
     "execution_count": 104,
     "metadata": {},
     "output_type": "execute_result"
    }
   ],
   "source": [
    "mex_df"
   ]
  },
  {
   "cell_type": "code",
   "execution_count": 107,
   "metadata": {
    "collapsed": false
   },
   "outputs": [
    {
     "data": {
      "text/plain": [
       "Bad      42.163662\n",
       "Good     55.617198\n",
       "Great     0.138696\n",
       "Lousy     2.080444\n",
       "dtype: float64"
      ]
     },
     "execution_count": 107,
     "metadata": {},
     "output_type": "execute_result"
    }
   ],
   "source": [
    "mex_df.xs(\"prc\",level=1) # xs, cross-selection"
   ]
  },
  {
   "cell_type": "code",
   "execution_count": 110,
   "metadata": {
    "collapsed": false
   },
   "outputs": [
    {
     "data": {
      "text/html": [
       "<div>\n",
       "<table border=\"1\" class=\"dataframe\">\n",
       "  <thead>\n",
       "    <tr style=\"text-align: right;\">\n",
       "      <th></th>\n",
       "      <th>cnt</th>\n",
       "      <th>prc</th>\n",
       "      <th></th>\n",
       "    </tr>\n",
       "  </thead>\n",
       "  <tbody>\n",
       "    <tr>\n",
       "      <th>Bad</th>\n",
       "      <td>608.0</td>\n",
       "      <td>42.163662</td>\n",
       "      <td>NaN</td>\n",
       "    </tr>\n",
       "    <tr>\n",
       "      <th>Good</th>\n",
       "      <td>802.0</td>\n",
       "      <td>55.617198</td>\n",
       "      <td>NaN</td>\n",
       "    </tr>\n",
       "    <tr>\n",
       "      <th>Great</th>\n",
       "      <td>2.0</td>\n",
       "      <td>0.138696</td>\n",
       "      <td>NaN</td>\n",
       "    </tr>\n",
       "    <tr>\n",
       "      <th>Lousy</th>\n",
       "      <td>30.0</td>\n",
       "      <td>2.080444</td>\n",
       "      <td>NaN</td>\n",
       "    </tr>\n",
       "    <tr>\n",
       "      <th>Above_bad</th>\n",
       "      <td>NaN</td>\n",
       "      <td>NaN</td>\n",
       "      <td>0.0</td>\n",
       "    </tr>\n",
       "  </tbody>\n",
       "</table>\n",
       "</div>"
      ],
      "text/plain": [
       "             cnt        prc     \n",
       "Bad        608.0  42.163662  NaN\n",
       "Good       802.0  55.617198  NaN\n",
       "Great        2.0   0.138696  NaN\n",
       "Lousy       30.0   2.080444  NaN\n",
       "Above_bad    NaN        NaN  0.0"
      ]
     },
     "execution_count": 110,
     "metadata": {},
     "output_type": "execute_result"
    }
   ],
   "source": [
    "mex_df.unstack()"
   ]
  },
  {
   "cell_type": "code",
   "execution_count": 118,
   "metadata": {
    "collapsed": false
   },
   "outputs": [
    {
     "name": "stderr",
     "output_type": "stream",
     "text": [
      "/home/mos/anaconda3/lib/python3.5/site-packages/pandas/indexes/api.py:71: RuntimeWarning: unorderable types: int() < str(), sort order is undefined for incomparable objects\n",
      "  result = result.union(other)\n"
     ]
    },
    {
     "ename": "NotImplementedError",
     "evalue": "> 1 ndim Categorical are not supported at this time",
     "output_type": "error",
     "traceback": [
      "\u001b[0;31m---------------------------------------------------------------------------\u001b[0m",
      "\u001b[0;31mTypeError\u001b[0m                                 Traceback (most recent call last)",
      "\u001b[0;32m/home/mos/anaconda3/lib/python3.5/site-packages/pandas/core/algorithms.py\u001b[0m in \u001b[0;36mfactorize\u001b[0;34m(values, sort, order, na_sentinel, size_hint)\u001b[0m\n\u001b[1;32m    203\u001b[0m         \u001b[0;32mtry\u001b[0m\u001b[0;34m:\u001b[0m\u001b[0;34m\u001b[0m\u001b[0m\n\u001b[0;32m--> 204\u001b[0;31m             \u001b[0msorter\u001b[0m \u001b[0;34m=\u001b[0m \u001b[0muniques\u001b[0m\u001b[0;34m.\u001b[0m\u001b[0margsort\u001b[0m\u001b[0;34m(\u001b[0m\u001b[0;34m)\u001b[0m\u001b[0;34m\u001b[0m\u001b[0m\n\u001b[0m\u001b[1;32m    205\u001b[0m         \u001b[0;32mexcept\u001b[0m\u001b[0;34m:\u001b[0m\u001b[0;34m\u001b[0m\u001b[0m\n",
      "\u001b[0;31mTypeError\u001b[0m: unorderable types: str() > tuple()",
      "\nDuring handling of the above exception, another exception occurred:\n",
      "\u001b[0;31mValueError\u001b[0m                                Traceback (most recent call last)",
      "\u001b[0;32m/home/mos/anaconda3/lib/python3.5/site-packages/pandas/core/categorical.py\u001b[0m in \u001b[0;36m__init__\u001b[0;34m(self, values, categories, ordered, name, fastpath, levels)\u001b[0m\n\u001b[1;32m    282\u001b[0m             \u001b[0;32mtry\u001b[0m\u001b[0;34m:\u001b[0m\u001b[0;34m\u001b[0m\u001b[0m\n\u001b[0;32m--> 283\u001b[0;31m                 \u001b[0mcodes\u001b[0m\u001b[0;34m,\u001b[0m \u001b[0mcategories\u001b[0m \u001b[0;34m=\u001b[0m \u001b[0mfactorize\u001b[0m\u001b[0;34m(\u001b[0m\u001b[0mvalues\u001b[0m\u001b[0;34m,\u001b[0m \u001b[0msort\u001b[0m\u001b[0;34m=\u001b[0m\u001b[0;32mTrue\u001b[0m\u001b[0;34m)\u001b[0m\u001b[0;34m\u001b[0m\u001b[0m\n\u001b[0m\u001b[1;32m    284\u001b[0m             \u001b[0;32mexcept\u001b[0m \u001b[0mTypeError\u001b[0m\u001b[0;34m:\u001b[0m\u001b[0;34m\u001b[0m\u001b[0m\n",
      "\u001b[0;32m/home/mos/anaconda3/lib/python3.5/site-packages/pandas/core/algorithms.py\u001b[0m in \u001b[0;36mfactorize\u001b[0;34m(values, sort, order, na_sentinel, size_hint)\u001b[0m\n\u001b[1;32m    214\u001b[0m                 [lambda x: not isinstance(x, string_types),\n\u001b[0;32m--> 215\u001b[0;31m                  lambda x: isinstance(x, string_types)]])\n\u001b[0m\u001b[1;32m    216\u001b[0m             sorter = com._ensure_platform_int(t.lookup(\n",
      "\u001b[0;31mValueError\u001b[0m: all the input arrays must have same number of dimensions",
      "\nDuring handling of the above exception, another exception occurred:\n",
      "\u001b[0;31mNotImplementedError\u001b[0m                       Traceback (most recent call last)",
      "\u001b[0;32m<ipython-input-118-813f73f45afd>\u001b[0m in \u001b[0;36m<module>\u001b[0;34m()\u001b[0m\n\u001b[0;32m----> 1\u001b[0;31m \u001b[0mnew\u001b[0m \u001b[0;34m=\u001b[0m \u001b[0mpd\u001b[0m\u001b[0;34m.\u001b[0m\u001b[0mconcat\u001b[0m\u001b[0;34m(\u001b[0m\u001b[0;34m[\u001b[0m\u001b[0mmex_df\u001b[0m\u001b[0;34m,\u001b[0m\u001b[0mcyp_df\u001b[0m\u001b[0;34m]\u001b[0m\u001b[0;34m,\u001b[0m \u001b[0mkeys\u001b[0m\u001b[0;34m=\u001b[0m\u001b[0;34m[\u001b[0m\u001b[0;34m\"mex\"\u001b[0m\u001b[0;34m,\u001b[0m\u001b[0;34m\"cyp\"\u001b[0m\u001b[0;34m]\u001b[0m\u001b[0;34m)\u001b[0m\u001b[0;34m\u001b[0m\u001b[0m\n\u001b[0m",
      "\u001b[0;32m/home/mos/anaconda3/lib/python3.5/site-packages/pandas/tools/merge.py\u001b[0m in \u001b[0;36mconcat\u001b[0;34m(objs, axis, join, join_axes, ignore_index, keys, levels, names, verify_integrity, copy)\u001b[0m\n\u001b[1;32m    832\u001b[0m                        \u001b[0mkeys\u001b[0m\u001b[0;34m=\u001b[0m\u001b[0mkeys\u001b[0m\u001b[0;34m,\u001b[0m \u001b[0mlevels\u001b[0m\u001b[0;34m=\u001b[0m\u001b[0mlevels\u001b[0m\u001b[0;34m,\u001b[0m \u001b[0mnames\u001b[0m\u001b[0;34m=\u001b[0m\u001b[0mnames\u001b[0m\u001b[0;34m,\u001b[0m\u001b[0;34m\u001b[0m\u001b[0m\n\u001b[1;32m    833\u001b[0m                        \u001b[0mverify_integrity\u001b[0m\u001b[0;34m=\u001b[0m\u001b[0mverify_integrity\u001b[0m\u001b[0;34m,\u001b[0m\u001b[0;34m\u001b[0m\u001b[0m\n\u001b[0;32m--> 834\u001b[0;31m                        copy=copy)\n\u001b[0m\u001b[1;32m    835\u001b[0m     \u001b[0;32mreturn\u001b[0m \u001b[0mop\u001b[0m\u001b[0;34m.\u001b[0m\u001b[0mget_result\u001b[0m\u001b[0;34m(\u001b[0m\u001b[0;34m)\u001b[0m\u001b[0;34m\u001b[0m\u001b[0m\n\u001b[1;32m    836\u001b[0m \u001b[0;34m\u001b[0m\u001b[0m\n",
      "\u001b[0;32m/home/mos/anaconda3/lib/python3.5/site-packages/pandas/tools/merge.py\u001b[0m in \u001b[0;36m__init__\u001b[0;34m(self, objs, axis, join, join_axes, keys, levels, names, ignore_index, verify_integrity, copy)\u001b[0m\n\u001b[1;32m    970\u001b[0m         \u001b[0mself\u001b[0m\u001b[0;34m.\u001b[0m\u001b[0mcopy\u001b[0m \u001b[0;34m=\u001b[0m \u001b[0mcopy\u001b[0m\u001b[0;34m\u001b[0m\u001b[0m\n\u001b[1;32m    971\u001b[0m \u001b[0;34m\u001b[0m\u001b[0m\n\u001b[0;32m--> 972\u001b[0;31m         \u001b[0mself\u001b[0m\u001b[0;34m.\u001b[0m\u001b[0mnew_axes\u001b[0m \u001b[0;34m=\u001b[0m \u001b[0mself\u001b[0m\u001b[0;34m.\u001b[0m\u001b[0m_get_new_axes\u001b[0m\u001b[0;34m(\u001b[0m\u001b[0;34m)\u001b[0m\u001b[0;34m\u001b[0m\u001b[0m\n\u001b[0m\u001b[1;32m    973\u001b[0m \u001b[0;34m\u001b[0m\u001b[0m\n\u001b[1;32m    974\u001b[0m     \u001b[0;32mdef\u001b[0m \u001b[0mget_result\u001b[0m\u001b[0;34m(\u001b[0m\u001b[0mself\u001b[0m\u001b[0;34m)\u001b[0m\u001b[0;34m:\u001b[0m\u001b[0;34m\u001b[0m\u001b[0m\n",
      "\u001b[0;32m/home/mos/anaconda3/lib/python3.5/site-packages/pandas/tools/merge.py\u001b[0m in \u001b[0;36m_get_new_axes\u001b[0;34m(self)\u001b[0m\n\u001b[1;32m   1057\u001b[0m                 \u001b[0mnew_axes\u001b[0m\u001b[0;34m[\u001b[0m\u001b[0mi\u001b[0m\u001b[0;34m]\u001b[0m \u001b[0;34m=\u001b[0m \u001b[0max\u001b[0m\u001b[0;34m\u001b[0m\u001b[0m\n\u001b[1;32m   1058\u001b[0m \u001b[0;34m\u001b[0m\u001b[0m\n\u001b[0;32m-> 1059\u001b[0;31m         \u001b[0mnew_axes\u001b[0m\u001b[0;34m[\u001b[0m\u001b[0mself\u001b[0m\u001b[0;34m.\u001b[0m\u001b[0maxis\u001b[0m\u001b[0;34m]\u001b[0m \u001b[0;34m=\u001b[0m \u001b[0mself\u001b[0m\u001b[0;34m.\u001b[0m\u001b[0m_get_concat_axis\u001b[0m\u001b[0;34m(\u001b[0m\u001b[0;34m)\u001b[0m\u001b[0;34m\u001b[0m\u001b[0m\n\u001b[0m\u001b[1;32m   1060\u001b[0m         \u001b[0;32mreturn\u001b[0m \u001b[0mnew_axes\u001b[0m\u001b[0;34m\u001b[0m\u001b[0m\n\u001b[1;32m   1061\u001b[0m \u001b[0;34m\u001b[0m\u001b[0m\n",
      "\u001b[0;32m/home/mos/anaconda3/lib/python3.5/site-packages/pandas/tools/merge.py\u001b[0m in \u001b[0;36m_get_concat_axis\u001b[0;34m(self)\u001b[0m\n\u001b[1;32m   1112\u001b[0m         \u001b[0;32melse\u001b[0m\u001b[0;34m:\u001b[0m\u001b[0;34m\u001b[0m\u001b[0m\n\u001b[1;32m   1113\u001b[0m             concat_axis = _make_concat_multiindex(indexes, self.keys,\n\u001b[0;32m-> 1114\u001b[0;31m                                                   self.levels, self.names)\n\u001b[0m\u001b[1;32m   1115\u001b[0m \u001b[0;34m\u001b[0m\u001b[0m\n\u001b[1;32m   1116\u001b[0m         \u001b[0mself\u001b[0m\u001b[0;34m.\u001b[0m\u001b[0m_maybe_check_integrity\u001b[0m\u001b[0;34m(\u001b[0m\u001b[0mconcat_axis\u001b[0m\u001b[0;34m)\u001b[0m\u001b[0;34m\u001b[0m\u001b[0m\n",
      "\u001b[0;32m/home/mos/anaconda3/lib/python3.5/site-packages/pandas/tools/merge.py\u001b[0m in \u001b[0;36m_make_concat_multiindex\u001b[0;34m(indexes, keys, levels, names)\u001b[0m\n\u001b[1;32m   1177\u001b[0m             \u001b[0mlabel_list\u001b[0m\u001b[0;34m.\u001b[0m\u001b[0mextend\u001b[0m\u001b[0;34m(\u001b[0m\u001b[0mconcat_index\u001b[0m\u001b[0;34m.\u001b[0m\u001b[0mlabels\u001b[0m\u001b[0;34m)\u001b[0m\u001b[0;34m\u001b[0m\u001b[0m\n\u001b[1;32m   1178\u001b[0m         \u001b[0;32melse\u001b[0m\u001b[0;34m:\u001b[0m\u001b[0;34m\u001b[0m\u001b[0m\n\u001b[0;32m-> 1179\u001b[0;31m             \u001b[0mfactor\u001b[0m \u001b[0;34m=\u001b[0m \u001b[0mCategorical\u001b[0m\u001b[0;34m.\u001b[0m\u001b[0mfrom_array\u001b[0m\u001b[0;34m(\u001b[0m\u001b[0mconcat_index\u001b[0m\u001b[0;34m,\u001b[0m \u001b[0mordered\u001b[0m\u001b[0;34m=\u001b[0m\u001b[0;32mTrue\u001b[0m\u001b[0;34m)\u001b[0m\u001b[0;34m\u001b[0m\u001b[0m\n\u001b[0m\u001b[1;32m   1180\u001b[0m             \u001b[0mlevels\u001b[0m\u001b[0;34m.\u001b[0m\u001b[0mappend\u001b[0m\u001b[0;34m(\u001b[0m\u001b[0mfactor\u001b[0m\u001b[0;34m.\u001b[0m\u001b[0mcategories\u001b[0m\u001b[0;34m)\u001b[0m\u001b[0;34m\u001b[0m\u001b[0m\n\u001b[1;32m   1181\u001b[0m             \u001b[0mlabel_list\u001b[0m\u001b[0;34m.\u001b[0m\u001b[0mappend\u001b[0m\u001b[0;34m(\u001b[0m\u001b[0mfactor\u001b[0m\u001b[0;34m.\u001b[0m\u001b[0mcodes\u001b[0m\u001b[0;34m)\u001b[0m\u001b[0;34m\u001b[0m\u001b[0m\n",
      "\u001b[0;32m/home/mos/anaconda3/lib/python3.5/site-packages/pandas/core/categorical.py\u001b[0m in \u001b[0;36mfrom_array\u001b[0;34m(cls, data, **kwargs)\u001b[0m\n\u001b[1;32m    377\u001b[0m             \u001b[0mthe\u001b[0m \u001b[0munique\u001b[0m \u001b[0mvalues\u001b[0m \u001b[0mof\u001b[0m\u001b[0;31m \u001b[0m\u001b[0;31m`\u001b[0m\u001b[0mdata\u001b[0m\u001b[0;31m`\u001b[0m\u001b[0;34m.\u001b[0m\u001b[0;34m\u001b[0m\u001b[0m\n\u001b[1;32m    378\u001b[0m         \"\"\"\n\u001b[0;32m--> 379\u001b[0;31m         \u001b[0;32mreturn\u001b[0m \u001b[0mCategorical\u001b[0m\u001b[0;34m(\u001b[0m\u001b[0mdata\u001b[0m\u001b[0;34m,\u001b[0m \u001b[0;34m**\u001b[0m\u001b[0mkwargs\u001b[0m\u001b[0;34m)\u001b[0m\u001b[0;34m\u001b[0m\u001b[0m\n\u001b[0m\u001b[1;32m    380\u001b[0m \u001b[0;34m\u001b[0m\u001b[0m\n\u001b[1;32m    381\u001b[0m     \u001b[0;34m@\u001b[0m\u001b[0mclassmethod\u001b[0m\u001b[0;34m\u001b[0m\u001b[0m\n",
      "\u001b[0;32m/home/mos/anaconda3/lib/python3.5/site-packages/pandas/core/categorical.py\u001b[0m in \u001b[0;36m__init__\u001b[0;34m(self, values, categories, ordered, name, fastpath, levels)\u001b[0m\n\u001b[1;32m    293\u001b[0m \u001b[0;34m\u001b[0m\u001b[0m\n\u001b[1;32m    294\u001b[0m                 \u001b[0;31m# FIXME\u001b[0m\u001b[0;34m\u001b[0m\u001b[0;34m\u001b[0m\u001b[0m\n\u001b[0;32m--> 295\u001b[0;31m                 raise NotImplementedError(\"> 1 ndim Categorical are not \"\n\u001b[0m\u001b[1;32m    296\u001b[0m                                           \"supported at this time\")\n\u001b[1;32m    297\u001b[0m \u001b[0;34m\u001b[0m\u001b[0m\n",
      "\u001b[0;31mNotImplementedError\u001b[0m: > 1 ndim Categorical are not supported at this time"
     ]
    }
   ],
   "source": [
    "new = pd.concat([mex_df,cyp_df], keys=[\"mex\",\"cyp\"])"
   ]
  },
  {
   "cell_type": "code",
   "execution_count": null,
   "metadata": {
    "collapsed": true
   },
   "outputs": [],
   "source": []
  }
 ],
 "metadata": {
  "kernelspec": {
   "display_name": "Python 3",
   "language": "python",
   "name": "python3"
  },
  "language_info": {
   "codemirror_mode": {
    "name": "ipython",
    "version": 3
   },
   "file_extension": ".py",
   "mimetype": "text/x-python",
   "name": "python",
   "nbconvert_exporter": "python",
   "pygments_lexer": "ipython3",
   "version": "3.5.2"
  }
 },
 "nbformat": 4,
 "nbformat_minor": 0
}
