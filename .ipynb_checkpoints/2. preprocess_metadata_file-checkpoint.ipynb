{
 "cells": [
  {
   "cell_type": "code",
   "execution_count": 1,
   "metadata": {
    "collapsed": true
   },
   "outputs": [],
   "source": [
    "import pandas as pd\n",
    "import numpy as np\n",
    "from collections import OrderedDict"
   ]
  },
  {
   "cell_type": "code",
   "execution_count": 2,
   "metadata": {
    "collapsed": true
   },
   "outputs": [],
   "source": [
    "mexico = pd.read_excel(\"./excel-export.xls\", sheet=\"Mexico\")\n",
    "mexico_arkiv = pd.read_excel(\"./excel-export.xls\", sheet=\"Mexico-Arkiv\")\n",
    "cypern = pd.read_excel(\"./excel-export.xls\", sheet=\"Cypern\")"
   ]
  },
  {
   "cell_type": "code",
   "execution_count": 3,
   "metadata": {
    "collapsed": false
   },
   "outputs": [
    {
     "data": {
      "text/plain": [
       "Index(['Fotonummer', 'Postnr.', 'Motivord', 'Beskrivning', 'Land, foto',\n",
       "       'Region, foto', 'Ort, foto', 'Etnisk grupp, avb.', 'Fotodatum',\n",
       "       'Personnamn / fotograf', 'Personnamn / avbildad', 'Sökord',\n",
       "       'Händelse / var närvarande vid', 'Länk', 'org_tabell'],\n",
       "      dtype='object')"
      ]
     },
     "execution_count": 3,
     "metadata": {},
     "output_type": "execute_result"
    }
   ],
   "source": [
    "mexico_arkiv[\"org_tabell\"] = \"mexico_arkiv\"\n",
    "mexico_arkiv.columns"
   ]
  },
  {
   "cell_type": "code",
   "execution_count": 4,
   "metadata": {
    "collapsed": false
   },
   "outputs": [
    {
     "data": {
      "text/plain": [
       "Index(['Fotonummer', 'Postnr.', 'Motivord', 'Beskrivning', 'Land, foto',\n",
       "       'Region, foto', 'Ort, foto', 'Etnisk grupp, avb.', 'Fotodatum',\n",
       "       'Personnamn / fotograf', 'Personnamn / avbildad', 'Sökord',\n",
       "       'Händelse / var närvarande vid', 'Länk', 'org_tabell'],\n",
       "      dtype='object')"
      ]
     },
     "execution_count": 4,
     "metadata": {},
     "output_type": "execute_result"
    }
   ],
   "source": [
    "mexico[\"org_tabell\"] = \"mexiko\"\n",
    "mexico.columns"
   ]
  },
  {
   "cell_type": "code",
   "execution_count": 5,
   "metadata": {
    "collapsed": false
   },
   "outputs": [
    {
     "data": {
      "text/plain": [
       "Index(['Fotonummer', 'Postnr.', 'Motivord', 'Beskrivning', 'Land, foto',\n",
       "       'Region, foto', 'Ort, foto', 'Etnisk grupp, avb.', 'Fotodatum',\n",
       "       'Personnamn / fotograf', 'Personnamn / avbildad', 'Sökord',\n",
       "       'Händelse / var närvarande vid', 'Länk', 'org_tabell'],\n",
       "      dtype='object')"
      ]
     },
     "execution_count": 5,
     "metadata": {},
     "output_type": "execute_result"
    }
   ],
   "source": [
    "cypern[\"org_tabell\"] = \"cypern\"\n",
    "cypern.columns"
   ]
  },
  {
   "cell_type": "code",
   "execution_count": 6,
   "metadata": {
    "collapsed": false
   },
   "outputs": [
    {
     "data": {
      "text/plain": [
       "Index(['fotonummer', 'postnr', 'motivord', 'beskrivning', 'land_foto',\n",
       "       'region_foto', 'ort_foto', 'etnisk_grupp_avb', 'fotodatum',\n",
       "       'personnamn_fotograf', 'personnamn_avbildad', 'sökord',\n",
       "       'händelse_var_närvarande_vid', 'länk', 'org_tabell'],\n",
       "      dtype='object')"
      ]
     },
     "execution_count": 6,
     "metadata": {},
     "output_type": "execute_result"
    }
   ],
   "source": [
    "metadata = pd.concat([mexico,mexico_arkiv,cypern], ignore_index=True)\n",
    "metadata.columns = metadata.columns.str.strip().str.lower().str.replace(\",\",\"\").str.replace(\".\",\"\").str.replace(\" / \",\"_\").str.replace(\" \",\"_\")\n",
    "metadata.columns"
   ]
  },
  {
   "cell_type": "code",
   "execution_count": 9,
   "metadata": {
    "collapsed": false
   },
   "outputs": [
    {
     "data": {
      "text/plain": [
       "0    Stockholm\n",
       "1       tempel\n",
       "2       tempel\n",
       "Name: 2, dtype: object"
      ]
     },
     "execution_count": 9,
     "metadata": {},
     "output_type": "execute_result"
    }
   ],
   "source": [
    "metadata.motivord.str.partition().get(2).head(3)"
   ]
  },
  {
   "cell_type": "code",
   "execution_count": 10,
   "metadata": {
    "collapsed": false
   },
   "outputs": [
    {
     "data": {
      "text/plain": [
       "OrderedDict([('Fotonummer', 'Fotonr'),\n",
       "             ('Motivord', 'Motivord'),\n",
       "             ('Land, foto', 'Land_foto'),\n",
       "             ('Region, foto', 'Region_foto'),\n",
       "             ('Ort, foto', 'Ort_foto'),\n",
       "             ('Världsdel, foto', 'Världsdel_foto'),\n",
       "             ('Land, ursprung, Land, tillverkning, Land, brukare',\n",
       "              'Land_urspr_tillv_bruk'),\n",
       "             ('Region, ursprung/bruk/tillv', 'Region_urspr_tillv_brukare'),\n",
       "             ('Etn. avb.', 'Etn_avb'),\n",
       "             ('Tumnagel', 'Tumnagel'),\n",
       "             ('Postnr.', 'Postnr'),\n",
       "             ('Fotodatum', 'Fotodatum'),\n",
       "             ('Ort, ursprung/bruk/tillv', 'Ort_urspr_tillv_bruk'),\n",
       "             ('Världsdel', 'Världsdel'),\n",
       "             ('<Dataelement> / OBJTXT / Beskrivning', 'Beskrivning'),\n",
       "             ('<Dataelement> / OBJNAM / Sökord', 'Sokord')])"
      ]
     },
     "execution_count": 10,
     "metadata": {},
     "output_type": "execute_result"
    }
   ],
   "source": [
    "original = [\"Fotonummer\", \"Motivord\", \"Land, foto\", \"Region, foto\",  \"Ort, foto\",  \"Världsdel, foto\", \"Land, ursprung, Land, tillverkning, Land, brukare\", \"Region, ursprung/bruk/tillv\", \"Etn. avb.\", \"Tumnagel\", \"Postnr.\", \"Fotodatum\", \"Ort, ursprung/bruk/tillv\", \"Världsdel\", \"<Dataelement> / OBJTXT / Beskrivning\", \"<Dataelement> / OBJNAM / Sökord\"]\n",
    "fixed = [\"Fotonr\", \"Motivord\", \"Land_foto\", \"Region_foto\", \"Ort_foto\", \"Världsdel_foto\", \"Land_urspr_tillv_bruk\", \"Region_urspr_tillv_brukare\", \"Etn_avb\", \"Tumnagel\", \"Postnr\", \"Fotodatum\", \"Ort_urspr_tillv_bruk\", \"Världsdel\", \"Beskrivning\", \"Sokord\"]\n",
    "col_map = OrderedDict(zip(original,fixed))\n",
    "col_map"
   ]
  },
  {
   "cell_type": "code",
   "execution_count": 12,
   "metadata": {
    "collapsed": false
   },
   "outputs": [
    {
     "data": {
      "text/plain": [
       "Index(['fotonummer', 'postnr', 'motivord', 'beskrivning', 'land_foto',\n",
       "       'region_foto', 'ort_foto', 'etnisk_grupp_avb', 'fotodatum',\n",
       "       'personnamn_fotograf', 'personnamn_avbildad', 'sökord',\n",
       "       'händelse_var_närvarande_vid', 'länk', 'org_tabell'],\n",
       "      dtype='object')"
      ]
     },
     "execution_count": 12,
     "metadata": {},
     "output_type": "execute_result"
    }
   ],
   "source": [
    "metadata.columns.str.replace(\" / \",\"/\")"
   ]
  },
  {
   "cell_type": "markdown",
   "metadata": {},
   "source": [
    "meta.columns"
   ]
  },
  {
   "cell_type": "code",
   "execution_count": null,
   "metadata": {
    "collapsed": true
   },
   "outputs": [],
   "source": []
  }
 ],
 "metadata": {
  "kernelspec": {
   "display_name": "Python 3",
   "language": "python",
   "name": "python3"
  },
  "language_info": {
   "codemirror_mode": {
    "name": "ipython",
    "version": 3
   },
   "file_extension": ".py",
   "mimetype": "text/x-python",
   "name": "python",
   "nbconvert_exporter": "python",
   "pygments_lexer": "ipython3",
   "version": "3.5.2"
  }
 },
 "nbformat": 4,
 "nbformat_minor": 0
}
