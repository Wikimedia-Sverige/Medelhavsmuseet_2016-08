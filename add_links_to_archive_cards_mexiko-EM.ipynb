{
 "cells": [
  {
   "cell_type": "code",
   "execution_count": 51,
   "metadata": {
    "collapsed": true
   },
   "outputs": [],
   "source": [
    "import pywikibot\n",
    "import regex\n",
    "import pandas as pd"
   ]
  },
  {
   "cell_type": "code",
   "execution_count": 6,
   "metadata": {
    "collapsed": false
   },
   "outputs": [],
   "source": [
    "site = pywikibot.Site(fam=\"commons\")"
   ]
  },
  {
   "cell_type": "code",
   "execution_count": 14,
   "metadata": {
    "collapsed": true
   },
   "outputs": [],
   "source": [
    "page = pywikibot.Page(site, u\"File:Solpyramiden_-_SMVK_-_0307.a.0016.tif\")"
   ]
  },
  {
   "cell_type": "code",
   "execution_count": 15,
   "metadata": {
    "collapsed": false
   },
   "outputs": [
    {
     "data": {
      "text/plain": [
       "Page('File:Solpyramiden - SMVK - 0307.a.0016.tif')"
      ]
     },
     "execution_count": 15,
     "metadata": {},
     "output_type": "execute_result"
    }
   ],
   "source": [
    "page"
   ]
  },
  {
   "cell_type": "code",
   "execution_count": 16,
   "metadata": {
    "collapsed": false
   },
   "outputs": [
    {
     "data": {
      "text/plain": [
       "\"{{photograph\\n|photographer       = {{creator:Sigvald_Linné}}\\n|title              = \\n|description        = {{sv|Solpyramiden. Teotihuacan. Utgrävningar i Teotihuacan (1932). <br /> ''Nyckelord:'' pyramid, tempel.}}\\n{{en|Images from the 1932 Sigvald Linné archeological expedition at Teotihuacán, Mexico.}}\\n|depicted place     = Q172613\\n|date               = 1932\\n|medium             = \\n|dimensions         = \\n|institution        = {{Institution:Statens museer för världskultur}}\\n|department         = [[:d:Q1371375|Etnografiska muséet]]\\n|references         = \\n|object history     = \\n|exhibition history = \\n|credit line        = \\n|inscriptions       = \\n|notes              = \\n|accession number   = {{SMVK-EM-link|1=foto|2=2787195|3=0307.a.0016}}\\n|source             = Original file name, as received from SMVK: <br /> '''0307.a.0016.tif'''\\n{{SMVK_cooperation_project|COH|museum=EM}}\\n|permission         = {{cc-zero}}\\n|other_versions     =\\n}}\\n[[Category:Linné_expedition_at_Teotihuacan_Mexico_1932]]\\n[[Category:Media_contributed_by_SMVK_2016-12]]\\n\\n[[Category:Images_by_Sigvald_Linné]]\\n\\n\\n[[Category:Teotihuacán]]\\n[[Category:Pirámide_del_Sol]]\\n[[Category:Pyramids_in_Mexico]]\""
      ]
     },
     "execution_count": 16,
     "metadata": {},
     "output_type": "execute_result"
    }
   ],
   "source": [
    "page.text"
   ]
  },
  {
   "cell_type": "code",
   "execution_count": 48,
   "metadata": {
    "collapsed": false
   },
   "outputs": [
    {
     "data": {
      "text/plain": [
       "\" Original file name, as received from SMVK: <br /> '''0307.a.0016.tif'''\\n{{SMVK_cooperation_project|COH|museum=EM}}\\n|\""
      ]
     },
     "execution_count": 48,
     "metadata": {},
     "output_type": "execute_result"
    }
   ],
   "source": [
    "source_patt = regex.compile(r\"\\|source\\W+=([ \\w,\\:<>\\/\\'\\.\\n{}|\\=]+)permission\") # note: catches the initial | of permission fild\n",
    "match = source_patt.search(page.text)\n",
    "match.group(1)"
   ]
  },
  {
   "cell_type": "code",
   "execution_count": 49,
   "metadata": {
    "collapsed": false
   },
   "outputs": [
    {
     "data": {
      "text/plain": [
       "[\" Original file name, as received from SMVK: <br /> '''0307.a.0016.tif'''\",\n",
       " '{{SMVK_cooperation_project|COH|museum=EM}}',\n",
       " '|']"
      ]
     },
     "execution_count": 49,
     "metadata": {},
     "output_type": "execute_result"
    }
   ],
   "source": [
    "match.group(1).split(\"\\n\")"
   ]
  },
  {
   "cell_type": "code",
   "execution_count": null,
   "metadata": {
    "collapsed": true
   },
   "outputs": [],
   "source": [
    "new_source = match.group(1).split(\"\\n\")[1] + \"\\nRelated archive card: \" + "
   ]
  },
  {
   "cell_type": "code",
   "execution_count": 54,
   "metadata": {
    "collapsed": false
   },
   "outputs": [],
   "source": [
    "mexiko_arkiv = pd.read_excel(\"excel-export.xls\", sheetname=\"Mexiko-Arkiv\")"
   ]
  },
  {
   "cell_type": "code",
   "execution_count": 55,
   "metadata": {
    "collapsed": false
   },
   "outputs": [
    {
     "data": {
      "text/plain": [
       "Index(['Arkiv-id', 'Postnr', 'Fotonummer', 'Fotonummer.1', 'Fotonummer.2',\n",
       "       'Fotonummer.3', 'Fotonummer.4', 'Fotonummer.5', 'Länk'],\n",
       "      dtype='object')"
      ]
     },
     "execution_count": 55,
     "metadata": {},
     "output_type": "execute_result"
    }
   ],
   "source": [
    "mexiko_arkiv.columns"
   ]
  },
  {
   "cell_type": "code",
   "execution_count": 60,
   "metadata": {
    "collapsed": false
   },
   "outputs": [
    {
     "data": {
      "text/plain": [
       "[' 0307.a.0002.b',\n",
       " ' 0307.a.0003.b',\n",
       " ' 0307.a.0005.b',\n",
       " ' 0307.a.0007.b',\n",
       " ' 0307.a.0008.b',\n",
       " ' 0307.a.0034.b',\n",
       " ' 0307.a.0065.b',\n",
       " ' 0307.a.0065.d',\n",
       " ' 0307.a.0067.b',\n",
       " ' 0307.a.0112.c',\n",
       " ' 0307.a.0121.b',\n",
       " ' 0307.a.0124.c',\n",
       " ' 0307.a.0138.b',\n",
       " ' 0307.a.0140',\n",
       " ' 0307.a.0146.c',\n",
       " ' 0307.a.0155.b',\n",
       " ' 0307.a.0164.b',\n",
       " ' 0307.a.0005',\n",
       " ' 0307.a.0007',\n",
       " ' 0307.a.0010.a',\n",
       " ' 0307.a.0012',\n",
       " ' 0307.a.0014',\n",
       " ' 0307.a.0016',\n",
       " ' 0307.a.0018',\n",
       " ' 0307.a.0020',\n",
       " ' 0307.a.0025',\n",
       " ' 0307.a.0028',\n",
       " ' 0307.a.0031',\n",
       " ' 0307.a.0033.a',\n",
       " ' 0307.a.0039',\n",
       " ' 0307.a.0042',\n",
       " ' 0307.a.0044',\n",
       " ' 0307.a.0046',\n",
       " ' 0307.a.0049',\n",
       " ' 0307.a.0058',\n",
       " ' 0307.a.0070',\n",
       " ' 0307.a.0073',\n",
       " ' 0307.a.0076',\n",
       " ' 0307.a.0079',\n",
       " ' 0307.a.0081',\n",
       " ' 0307.a.0084',\n",
       " ' 0307.a.0086',\n",
       " ' 0307.a.0090',\n",
       " ' 0307.a.0092',\n",
       " ' 0307.a.0095',\n",
       " ' 0307.a.0097',\n",
       " ' 0307.a.0101',\n",
       " ' 0307.a.0103',\n",
       " ' 0307.a.0105',\n",
       " ' 0307.a.0108.a',\n",
       " ' 0307.a.0110',\n",
       " ' 0307.a.0112.a',\n",
       " ' 0307.a.0115',\n",
       " ' 0307.a.0117',\n",
       " ' 0307.a.0120',\n",
       " ' 0307.a.0123',\n",
       " ' 0307.a.0126',\n",
       " ' 0307.a.0129',\n",
       " ' 0307.a.0132',\n",
       " ' 0307.a.0135',\n",
       " ' 0307.a.0137',\n",
       " ' 0307.a.0148',\n",
       " ' 0307.a.0152',\n",
       " ' 0307.a.0158',\n",
       " ' 0307.a.0161',\n",
       " ' 0307.a.0163',\n",
       " ' 0307.a.0166',\n",
       " ' 0307.a.0170',\n",
       " ' 0307.a.0173',\n",
       " ' 0307.a.0175',\n",
       " ' 0307.a.0178',\n",
       " ' 0307.a.0182',\n",
       " ' 0307.a.0185',\n",
       " ' 0307.a.0187',\n",
       " ' 0307.a.0195',\n",
       " ' 0307.a.0202',\n",
       " ' 0307.a.0204',\n",
       " ' 0307.a.0208',\n",
       " ' 0307.a.0210',\n",
       " ' 0307.a.0212',\n",
       " ' 0307.a.0215',\n",
       " ' 0307.a.0219',\n",
       " ' 0307.a.0221',\n",
       " ' 0307.a.0223',\n",
       " ' 0307.a.0225',\n",
       " ' 0307.a.0228',\n",
       " ' 0307.a.0230',\n",
       " ' 0307.a.0235',\n",
       " ' 0307.b.0011.b',\n",
       " ' 0307.b.0012.b',\n",
       " ' 0307.b.0033.c',\n",
       " ' 0307.b.0040.b',\n",
       " ' 0307.b.0068.c',\n",
       " ' 0307.b.0002',\n",
       " ' 0307.b.0004',\n",
       " ' 0307.b.0006',\n",
       " ' 0307.b.0008',\n",
       " ' 0307.b.0010',\n",
       " ' 0307.b.0014',\n",
       " ' 0307.b.0016.a',\n",
       " ' 0307.b.0018',\n",
       " ' 0307.b.0021',\n",
       " ' 0307.b.0023',\n",
       " ' 0307.b.0025',\n",
       " ' 0307.b.0028',\n",
       " ' 0307.b.0030',\n",
       " ' 0307.b.0035',\n",
       " ' 0307.b.0039',\n",
       " ' 0307.b.0044',\n",
       " ' 0307.b.0049',\n",
       " ' 0307.b.0051',\n",
       " ' 0307.b.0054',\n",
       " ' 0307.b.0057',\n",
       " ' 0307.b.0061',\n",
       " ' 0307.b.0063',\n",
       " ' 0307.b.0066',\n",
       " ' 0307.c.0002',\n",
       " ' 0307.c.0005',\n",
       " ' 0307.c.0008',\n",
       " ' 0307.c.0014',\n",
       " ' 0307.c.0020',\n",
       " ' 0307.c.0024',\n",
       " ' 0307.c.0030',\n",
       " ' 0307.d.0017.d',\n",
       " ' 0307.d.0021.b',\n",
       " ' 0307.d.0021.h',\n",
       " ' 0307.d.0021.j',\n",
       " ' 0307.d.0023.b',\n",
       " ' 0307.d.0024.b',\n",
       " ' 0307.d.0027.b',\n",
       " ' 0307.d.0046.b',\n",
       " ' 0307.d.0052.b',\n",
       " ' 0307.d.0053.c',\n",
       " ' 0307.d.0003',\n",
       " ' 0307.d.0005',\n",
       " ' 0307.d.0007',\n",
       " ' 0307.d.0010',\n",
       " ' 0307.d.0012.a',\n",
       " ' 0307.d.0014',\n",
       " ' 0307.d.0016',\n",
       " ' 0307.d.0019',\n",
       " ' 0307.d.0029.a',\n",
       " ' 0307.d.0031',\n",
       " ' 0307.d.0035',\n",
       " ' 0307.d.0037',\n",
       " ' 0307.d.0039',\n",
       " ' 0307.e.0040',\n",
       " ' 0307.e.0002',\n",
       " ' 0307.e.0005',\n",
       " ' 0307.e.0008',\n",
       " ' 0307.e.0012',\n",
       " ' 0307.e.0014',\n",
       " ' 0307.e.0016',\n",
       " ' 0307.e.0020',\n",
       " ' 0307.e.0023',\n",
       " ' 0307.e.0026.a',\n",
       " ' 0307.e.0028',\n",
       " ' 0307.e.0033',\n",
       " ' 0307.e.0037',\n",
       " ' 0307.e.0042',\n",
       " ' 0307.e.0044.a',\n",
       " ' 0307.e.0046',\n",
       " ' 0307.e.0048',\n",
       " ' 0307.f.0063.c',\n",
       " ' 0307.f.0141.c',\n",
       " ' 0307.f.0149.b',\n",
       " ' 0307.f.0179.b',\n",
       " ' 0307.f.0188.b',\n",
       " ' 0307.f.0275.c',\n",
       " ' 0307.f.0320.c',\n",
       " ' 0307.f.0324.c',\n",
       " ' 0307.f.0331.b',\n",
       " ' 0307.f.0332.b',\n",
       " ' 0307.f.0002',\n",
       " ' 0307.f.0006',\n",
       " ' 0307.f.0010',\n",
       " ' 0307.f.0012',\n",
       " ' 0307.f.0016',\n",
       " ' 0307.f.0020',\n",
       " ' 0307.f.0023',\n",
       " ' 0307.f.0026',\n",
       " ' 0307.f.0029',\n",
       " ' 0307.f.0033',\n",
       " ' 0307.f.0035',\n",
       " ' 0307.f.0037',\n",
       " ' 0307.f.0041',\n",
       " ' 0307.f.0045',\n",
       " ' 0307.f.0049',\n",
       " ' 0307.f.0053',\n",
       " ' 0307.f.0055',\n",
       " ' 0307.f.0057',\n",
       " ' 0307.f.0061',\n",
       " ' 0307.f.0063.a',\n",
       " ' 0307.f.0065',\n",
       " ' 0307.f.0067',\n",
       " ' 0307.f.0069.a',\n",
       " ' 0307.f.0072',\n",
       " ' 0307.f.0077',\n",
       " ' 0307.f.0079',\n",
       " ' 0307.f.0081',\n",
       " ' 0307.f.0083',\n",
       " ' 0307.f.0092',\n",
       " ' 0307.f.0095',\n",
       " ' 0307.f.0103',\n",
       " ' 0307.f.0106',\n",
       " ' 0307.f.0108',\n",
       " ' 0307.f.0113',\n",
       " ' 0307.f.0118',\n",
       " ' 0307.f.0120',\n",
       " ' 0307.f.0123',\n",
       " ' 0307.f.0126.a',\n",
       " ' 0307.f.0128',\n",
       " ' 0307.f.0134',\n",
       " ' 0307.f.0137',\n",
       " ' 0307.f.0140',\n",
       " ' 0307.f.0143',\n",
       " ' 0307.f.0145',\n",
       " ' 0307.f.0147',\n",
       " ' 0307.f.0151.a',\n",
       " ' 0307.f.0153',\n",
       " ' 0307.f.0155',\n",
       " ' 0307.f.0157',\n",
       " ' 0307.f.0159',\n",
       " ' 0307.f.0161',\n",
       " ' 0307.f.0163',\n",
       " ' 0307.f.0165',\n",
       " ' 0307.f.0167',\n",
       " ' 0307.f.0177',\n",
       " ' 0307.f.0181',\n",
       " ' 0307.f.0183',\n",
       " ' 0307.f.0187',\n",
       " ' 0307.f.0190',\n",
       " ' 0307.f.0193',\n",
       " ' 0307.f.0195.a',\n",
       " ' 0307.f.0197',\n",
       " ' 0307.f.0201',\n",
       " ' 0307.f.0203',\n",
       " ' 0307.f.0205',\n",
       " ' 0307.f.0207',\n",
       " ' 0307.f.0209',\n",
       " ' 0307.f.0211',\n",
       " ' 0307.f.0213',\n",
       " ' 0307.f.0215',\n",
       " ' 0307.f.0218',\n",
       " ' 0307.f.0220',\n",
       " ' 0307.f.0223',\n",
       " ' 0307.f.0226',\n",
       " ' 0307.f.0229',\n",
       " ' 0307.f.0232',\n",
       " ' 0307.f.0235',\n",
       " ' 0307.f.0237',\n",
       " ' 0307.f.0240',\n",
       " ' 0307.f.0243',\n",
       " ' 0307.f.0245',\n",
       " ' 0307.f.0247',\n",
       " ' 0307.f.0250',\n",
       " ' 0307.f.0252',\n",
       " ' 0307.f.0254',\n",
       " ' 0307.f.0256',\n",
       " ' 0307.f.0259',\n",
       " ' 0307.f.0261',\n",
       " ' 0307.f.0263',\n",
       " ' 0307.f.0265',\n",
       " ' 0307.f.0273.a',\n",
       " ' 0307.f.0275.a',\n",
       " ' 0307.f.0277',\n",
       " ' 0307.f.0280',\n",
       " ' 0307.f.0284',\n",
       " ' 0307.f.0288',\n",
       " ' 0307.f.0290',\n",
       " ' 0307.f.0293',\n",
       " ' 0307.f.0296',\n",
       " ' 0307.f.0300',\n",
       " ' 0307.f.0304',\n",
       " ' 0307.f.0306',\n",
       " ' 0307.f.0308',\n",
       " ' 0307.f.0310',\n",
       " ' 0307.f.0312',\n",
       " ' 0307.f.0314',\n",
       " ' 0307.f.0334',\n",
       " ' 0307.f.0336',\n",
       " ' 0307.f.0339',\n",
       " ' 0307.f.0341',\n",
       " ' 0307.f.0343',\n",
       " ' 0307.g.0002',\n",
       " ' 0307.g.0004',\n",
       " ' 0307.g.0006',\n",
       " ' 0307.g.0012',\n",
       " ' 0307.g.0015',\n",
       " ' 0307.g.0018',\n",
       " ' 0307.g.0021',\n",
       " ' 0307.g.0023',\n",
       " ' 0307.g.0027',\n",
       " ' 0307.g.0029',\n",
       " ' 0307.g.0033',\n",
       " ' 0307.g.0036',\n",
       " ' 0307.g.0039',\n",
       " ' 0307.g.0042',\n",
       " ' 0307.g.0045',\n",
       " ' 0307.g.0048',\n",
       " ' 0307.g.0051',\n",
       " ' 0307.g.0053',\n",
       " ' 0307.g.0056',\n",
       " ' 0307.g.0058',\n",
       " ' 0307.g.0061',\n",
       " ' 0307.g.0064',\n",
       " ' 0307.g.0067',\n",
       " ' 0307.g.0070',\n",
       " ' 0307.g.0072',\n",
       " ' 0307.g.0074',\n",
       " ' 0307.g.0077',\n",
       " ' 0307.g.0081',\n",
       " ' 0307.g.0083',\n",
       " ' 0307.g.0085',\n",
       " ' 0307.g.0089',\n",
       " ' 0307.g.0092',\n",
       " ' 0307.g.0094',\n",
       " ' 0307.g.0096',\n",
       " ' 0307.g.0099',\n",
       " ' 0307.g.0103',\n",
       " ' 0307.g.0106',\n",
       " ' 0307.g.0110',\n",
       " ' 0307.g.0112',\n",
       " ' 0307.h.0002',\n",
       " ' 0307.h.0007',\n",
       " ' 0307.i.0002',\n",
       " ' 0307.i.0004',\n",
       " ' 0307.i.0007',\n",
       " ' 0307.i.0009',\n",
       " ' 0307.i.0013',\n",
       " ' 0307.i.0016',\n",
       " ' 0307.i.0019',\n",
       " ' 0307.i.0021',\n",
       " ' 0307.i.0023',\n",
       " ' 0307.i.0027',\n",
       " ' 0307.i.0030',\n",
       " ' 0307.i.0033',\n",
       " ' 0307.i.0035',\n",
       " ' 0307.i.0044',\n",
       " ' 0307.i.0047',\n",
       " ' 0307.i.0049',\n",
       " ' 0307.i.0059',\n",
       " ' 0307.j.0002',\n",
       " ' 0307.j.0006',\n",
       " ' 0307.j.0009',\n",
       " ' 0307.j.0011',\n",
       " ' 0307.j.0015',\n",
       " ' 0307.j.0017',\n",
       " ' 0307.j.0019',\n",
       " ' 0307.j.0023',\n",
       " ' 0307.j.0028',\n",
       " ' 0307.j.0031',\n",
       " ' 0307.j.0033',\n",
       " ' 0307.j.0038',\n",
       " ' 0307.j.0041',\n",
       " ' 0307.j.0044',\n",
       " ' 0307.j.0046',\n",
       " ' 0307.j.0049',\n",
       " ' 0307.j.0053',\n",
       " ' 0307.j.0056',\n",
       " ' 0307.j.0058',\n",
       " ' 0307.j.0063',\n",
       " ' 0307.j.0065',\n",
       " ' 0307.j.0069',\n",
       " ' 0307.j.0071',\n",
       " ' 0307.j.0075',\n",
       " ' 0307.j.0078',\n",
       " ' 0307.j.0080',\n",
       " ' 0307.j.0082',\n",
       " ' 0307.j.0084',\n",
       " ' 0307.j.0086',\n",
       " ' 0307.j.0088',\n",
       " ' 0307.k.0002',\n",
       " ' 0307.k.0004',\n",
       " ' 0307.k.0006',\n",
       " ' 0307.k.0012',\n",
       " ' 0307.k.0016',\n",
       " ' 0307.k.0020',\n",
       " ' 0307.k.0024',\n",
       " ' 0307.k.0039',\n",
       " ' 0307.k.0041',\n",
       " ' 0307.l.0006',\n",
       " ' 0307.l.0010',\n",
       " ' 0307.n.0003',\n",
       " ' 0307.o.0009',\n",
       " ' 0307.o.0012',\n",
       " ' 0307.p.0012.b',\n",
       " ' 0307.p.0003',\n",
       " ' 0307.p.0020',\n",
       " ' 0307.p.0022',\n",
       " ' 0307.q.0056.b',\n",
       " ' 0307.q.0002',\n",
       " ' 0307.q.0005',\n",
       " ' 0307.q.0007',\n",
       " ' 0307.q.0009',\n",
       " ' 0307.q.0011',\n",
       " ' 0307.q.0013',\n",
       " ' 0307.q.0018',\n",
       " ' 0307.q.0020',\n",
       " ' 0307.q.0023',\n",
       " ' 0307.q.0028',\n",
       " ' 0307.q.0041',\n",
       " ' 0307.q.0094',\n",
       " ' 0307.q.0097',\n",
       " ' 0307.q.0103',\n",
       " ' 0307.q.0107',\n",
       " ' 0307.q.0136',\n",
       " ' 0307.q.0141',\n",
       " ' 0307.q.0144',\n",
       " ' 0307.q.0148',\n",
       " ' 0307.q.0151',\n",
       " ' 0307.q.0153']"
      ]
     },
     "execution_count": 60,
     "metadata": {},
     "output_type": "execute_result"
    }
   ],
   "source": [
    "mexiko_arkiv[\"Fotonummer.1\"].dropna().tolist()"
   ]
  },
  {
   "cell_type": "code",
   "execution_count": 66,
   "metadata": {
    "collapsed": false
   },
   "outputs": [
    {
     "data": {
      "text/plain": [
       "True"
      ]
     },
     "execution_count": 66,
     "metadata": {},
     "output_type": "execute_result"
    }
   ],
   "source": [
    "\" 0307.a.0005.b\" in mexiko_arkiv[\"Fotonummer.1\"].tolist() #NOTE! A leading whitepace!"
   ]
  },
  {
   "cell_type": "code",
   "execution_count": 74,
   "metadata": {
    "collapsed": false
   },
   "outputs": [
    {
     "data": {
      "text/html": [
       "<div>\n",
       "<table border=\"1\" class=\"dataframe\">\n",
       "  <thead>\n",
       "    <tr style=\"text-align: right;\">\n",
       "      <th></th>\n",
       "      <th>Arkiv-id</th>\n",
       "      <th>Postnr</th>\n",
       "      <th>Fotonummer</th>\n",
       "      <th>Fotonummer.1</th>\n",
       "      <th>Fotonummer.2</th>\n",
       "      <th>Fotonummer.3</th>\n",
       "      <th>Fotonummer.4</th>\n",
       "      <th>Fotonummer.5</th>\n",
       "      <th>Länk</th>\n",
       "    </tr>\n",
       "  </thead>\n",
       "  <tbody>\n",
       "    <tr>\n",
       "      <th>4</th>\n",
       "      <td>text-0307.a.0005.a-c</td>\n",
       "      <td>2817322</td>\n",
       "      <td>0307.a.0005.a</td>\n",
       "      <td>0307.a.0005.b</td>\n",
       "      <td>0307.a.0005.c</td>\n",
       "      <td>NaN</td>\n",
       "      <td>NaN</td>\n",
       "      <td>NaN</td>\n",
       "      <td>http://kulturarvsdata.se/SMVK-EM/arkiv/html/28...</td>\n",
       "    </tr>\n",
       "  </tbody>\n",
       "</table>\n",
       "</div>"
      ],
      "text/plain": [
       "               Arkiv-id   Postnr     Fotonummer    Fotonummer.1  \\\n",
       "4  text-0307.a.0005.a-c  2817322  0307.a.0005.a   0307.a.0005.b   \n",
       "\n",
       "     Fotonummer.2 Fotonummer.3 Fotonummer.4 Fotonummer.5  \\\n",
       "4   0307.a.0005.c          NaN          NaN          NaN   \n",
       "\n",
       "                                                Länk  \n",
       "4  http://kulturarvsdata.se/SMVK-EM/arkiv/html/28...  "
      ]
     },
     "execution_count": 74,
     "metadata": {},
     "output_type": "execute_result"
    }
   ],
   "source": [
    "mexiko_arkiv[mexiko_arkiv[\"Fotonummer.1\"] == \" 0307.a.0005.b\"]"
   ]
  },
  {
   "cell_type": "code",
   "execution_count": 73,
   "metadata": {
    "collapsed": false
   },
   "outputs": [
    {
     "data": {
      "text/plain": [
       "4    text-0307.a.0005.a-c\n",
       "Name: Arkiv-id, dtype: object"
      ]
     },
     "execution_count": 73,
     "metadata": {},
     "output_type": "execute_result"
    }
   ],
   "source": [
    "mexiko_arkiv[mexiko_arkiv[\"Fotonummer.1\"] == \" 0307.a.0005.b\"][\"Arkiv-id\"]"
   ]
  },
  {
   "cell_type": "code",
   "execution_count": 76,
   "metadata": {
    "collapsed": false
   },
   "outputs": [
    {
     "data": {
      "text/plain": [
       "2      0307.a.0002.b\n",
       "3      0307.a.0003.b\n",
       "4      0307.a.0005.b\n",
       "5      0307.a.0007.b\n",
       "6      0307.a.0008.b\n",
       "13     0307.a.0034.b\n",
       "29     0307.a.0065.b\n",
       "30     0307.a.0065.d\n",
       "32     0307.a.0067.b\n",
       "39     0307.a.0112.c\n",
       "41     0307.a.0121.b\n",
       "42     0307.a.0124.c\n",
       "44     0307.a.0138.b\n",
       "46       0307.a.0140\n",
       "51     0307.a.0146.c\n",
       "53     0307.a.0155.b\n",
       "55     0307.a.0164.b\n",
       "79       0307.a.0005\n",
       "80       0307.a.0007\n",
       "81     0307.a.0010.a\n",
       "82       0307.a.0012\n",
       "83       0307.a.0014\n",
       "84       0307.a.0016\n",
       "85       0307.a.0018\n",
       "86       0307.a.0020\n",
       "87       0307.a.0025\n",
       "88       0307.a.0028\n",
       "89       0307.a.0031\n",
       "90     0307.a.0033.a\n",
       "91       0307.a.0039\n",
       "           ...      \n",
       "654      0307.l.0010\n",
       "662      0307.n.0003\n",
       "673      0307.o.0009\n",
       "674      0307.o.0012\n",
       "685    0307.p.0012.b\n",
       "694      0307.p.0003\n",
       "695      0307.p.0020\n",
       "696      0307.p.0022\n",
       "728    0307.q.0056.b\n",
       "792      0307.q.0002\n",
       "793      0307.q.0005\n",
       "794      0307.q.0007\n",
       "795      0307.q.0009\n",
       "796      0307.q.0011\n",
       "797      0307.q.0013\n",
       "798      0307.q.0018\n",
       "799      0307.q.0020\n",
       "800      0307.q.0023\n",
       "801      0307.q.0028\n",
       "802      0307.q.0041\n",
       "803      0307.q.0094\n",
       "804      0307.q.0097\n",
       "805      0307.q.0103\n",
       "806      0307.q.0107\n",
       "807      0307.q.0136\n",
       "808      0307.q.0141\n",
       "809      0307.q.0144\n",
       "810      0307.q.0148\n",
       "811      0307.q.0151\n",
       "812      0307.q.0153\n",
       "Name: Fotonummer.1, dtype: object"
      ]
     },
     "execution_count": 76,
     "metadata": {},
     "output_type": "execute_result"
    }
   ],
   "source": [
    "mexiko_arkiv[\"Fotonummer.1\"].dropna().str.strip()"
   ]
  },
  {
   "cell_type": "code",
   "execution_count": null,
   "metadata": {
    "collapsed": true
   },
   "outputs": [],
   "source": []
  }
 ],
 "metadata": {
  "kernelspec": {
   "display_name": "Python 3",
   "language": "python",
   "name": "python3"
  },
  "language_info": {
   "codemirror_mode": {
    "name": "ipython",
    "version": 3
   },
   "file_extension": ".py",
   "mimetype": "text/x-python",
   "name": "python",
   "nbconvert_exporter": "python",
   "pygments_lexer": "ipython3",
   "version": "3.5.2"
  }
 },
 "nbformat": 4,
 "nbformat_minor": 0
}
